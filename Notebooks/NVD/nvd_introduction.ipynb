{
 "cells": [
  {
   "cell_type": "markdown",
   "metadata": {
    "deletable": true,
    "editable": true
   },
   "source": [
    "#   NVD Introduction"
   ]
  },
  {
   "cell_type": "markdown",
   "metadata": {
    "deletable": true,
    "editable": true
   },
   "source": [
    "## Introduction"
   ]
  },
  {
   "cell_type": "markdown",
   "metadata": {
    "deletable": true,
    "editable": true
   },
   "source": [
    "Vulnerabilities data are available in three different sources: CVE Mitre, NVD and CVE Details, being created and\n",
    "annotated through the data sources in this respective order.\n",
    "\n",
    "Launched in 1999 when most information security tools used their own databases with their own names for security vulnerabilities, the **Common Vulnerabilities and Exposures (CVE) by Mitre** documents known vulnerabilities\n",
    "manually for public usage. \n",
    "\n",
    "Each vulnerability contains a description, is uniquely identified by a CVE ID, and may also include fields specifying the vulnerable software, version and vendors affected by it. If a set of vulnerabilities\n",
    "are similar, but occur for different software, they can have different CVE-IDs, and contain the same weakness ID (CWE ID). \n",
    "\n",
    "When created by CVE Mitre, each vulnerability may or not be annotated with a weakness ID(CWE ID),but when available they can serve to group similar vulnerabilities conceptually,and observe how they have been ‘instantiated’ in different software, version or vendor.\n",
    "\n",
    "CVE Mitre’s vulnerabilities are then annotated with severity scores, fix information,\n",
    "and impact ratings in the **National Vulnerability Database(NVD)**,and made available for download as XML feeds.\n",
    "\n",
    "**CVE Details** was created to provide a user-friendly interface to NVD’s XML feeds. For instance, using vulnerabilities’ CWE IDs and keyword matching, it defines 13 vulnerability types to facilitate browsing vulnerabilities. Since CVE Details warns about inconsistencies in NVD XML Feeds (e.g.same vendor’s software having different names), and irrelevant entries to our purposes (i.e. reserved, duplicates and removed entries), we downloaded all software vulnerabilities to date from the three sources to define our vulnerability dataset and ensure consistency.\n"
   ]
  },
  {
   "cell_type": "markdown",
   "metadata": {
    "deletable": true,
    "editable": true
   },
   "source": [
    "## Motivation"
   ]
  },
  {
   "cell_type": "markdown",
   "metadata": {
    "deletable": true,
    "editable": true
   },
   "source": [
    "NVD data has about 60,000 vulnerability entries (CVE Mitre's RESERVED entries not included), but it is more important to understand the weakness they are associated with (CWE IDs). By evaluating the CWE ID coverage over given CVE IDs, across the timeline, we can gain insights about active months or years (in terms of number of entries) and it's correlation to CWE coverage (if any)!"
   ]
  },
  {
   "cell_type": "markdown",
   "metadata": {
    "deletable": true,
    "editable": true
   },
   "source": [
    "## Method\n",
    "\n",
    "### Parsing XML files to CVS"
   ]
  },
  {
   "cell_type": "markdown",
   "metadata": {
    "deletable": true,
    "editable": true
   },
   "source": [
    "The data from the NVD website is available for each year from 2002 up to 2017 in XML format. To perform further analysis, we require few fields (CVE-ID, CWE-ID,Timestamp) to be extracted, thus we will parse only those tags from XML to CSV. The code below has demostrated conversion and extraction for the years 2002 to 2017 (Feb), and the files after conversion will be found in the same folder as the notebook exists identifyable with the name of the year. The range of years or the destination folder to be copied can be changed by althering the path and the numbers mentioned in the code. \n",
    "The below method uses ElementTree for XML parsing.\n",
    "If you choose to skip this step and access the CSV files directly, you can find them on our [Google Drive](https://drive.google.com/open?id=0B-NONBqqQBznYlRLUU5zS0lLZU0)."
   ]
  },
  {
   "cell_type": "code",
   "execution_count": 3,
   "metadata": {
    "collapsed": true,
    "deletable": true,
    "editable": true
   },
   "outputs": [],
   "source": [
    "#Parsing using ElelmentTree\n",
    "import xml.etree.ElementTree as ET\n",
    "import csv"
   ]
  },
  {
   "cell_type": "code",
   "execution_count": 4,
   "metadata": {
    "collapsed": true,
    "deletable": true,
    "editable": true
   },
   "outputs": [],
   "source": [
    "#getting all XML files in a python list\n",
    "import glob\n",
    "x = glob.glob(\"raw_data/*.xml\")"
   ]
  },
  {
   "cell_type": "code",
   "execution_count": 6,
   "metadata": {
    "collapsed": false,
    "deletable": true,
    "editable": true
   },
   "outputs": [],
   "source": [
    "#extarcting fields and writing them into a CSV file\n",
    "yearRange =2002;\n",
    "for y in x:\n",
    "    CVE_tree = ET.parse(y)\n",
    "    CVE_root= CVE_tree.getroot()\n",
    "    f = open(str(yearRange)+\".csv\", 'w');\n",
    "    yearRange= yearRange+1;\n",
    "    CVE_count = 0;\n",
    "    CVE_listOfId = [];\n",
    "    for entry in CVE_root:\n",
    "        cve_id = \"\";\n",
    "        cwe_id = \"\";\n",
    "        modified_date = \"\";\n",
    "        cvss = \"\";\n",
    "        for child in entry:\n",
    "        #Print Child.tag will help you code further to identify child nodes\n",
    "        #print (child.tag) \n",
    "            root = '{http://scap.nist.gov/schema/vulnerability/0.4}';\n",
    "            childList = ['cve_id','published-datetime'];\n",
    "            \n",
    "            if (child.tag == '{http://scap.nist.gov/schema/vulnerability/0.4}cve-id'):\n",
    "                cve_id = child.text;\n",
    "            if (child.tag == '{http://scap.nist.gov/schema/vulnerability/0.4}cwe'):\n",
    "                cwe_id = child.attrib['id'];        \n",
    "            if (child.tag == '{http://scap.nist.gov/schema/vulnerability/0.4}summary'):\n",
    "                modified_date = child.text;\n",
    "            \n",
    "    #Dont write header if you will be using the merged database\n",
    "    #Head = \"CVE ID,CWE ID,Timestamp\\n\";\n",
    "    #f.write(Head);\n",
    "        vuln = '{o1},{o2},{o3}\\n'.format(o1=cve_id,o2=cwe_id,o3=modified_date);\n",
    "        f.write(vuln);\n",
    "        CVE_count = CVE_count +1;\n",
    "    #print (CVE_count)\n",
    "    f.close();\n",
    "    "
   ]
  },
  {
   "cell_type": "code",
   "execution_count": 7,
   "metadata": {
    "collapsed": true
   },
   "outputs": [],
   "source": [
    "#merge all years into one\n",
    "#only perform if data is required for all years\n",
    "fout=open(\"Merged_2002-17.csv\",\"a\")\n",
    "# first file:\n",
    "Head = \"CVE ID,CWE ID,Summary\\n\";\n",
    "fout.write(Head);\n",
    "for line in open(\"2002.csv\"):\n",
    "    fout.write(line)\n",
    "# now the rest:    \n",
    "for num in range(2003,2017):\n",
    "    f = open(str(num)+\".csv\")\n",
    "    #f.next() # skip the header\n",
    "    for line in f:\n",
    "         fout.write(line)\n",
    "    f.close() # not really needed\n",
    "fout.close()"
   ]
  },
  {
   "cell_type": "markdown",
   "metadata": {
    "deletable": true,
    "editable": true
   },
   "source": [
    "## Histograms by Month"
   ]
  },
  {
   "cell_type": "code",
   "execution_count": 8,
   "metadata": {
    "collapsed": true,
    "deletable": true,
    "editable": true
   },
   "outputs": [],
   "source": [
    "#using panda \n",
    "import pandas as pd\n",
    "import csv"
   ]
  },
  {
   "cell_type": "code",
   "execution_count": 9,
   "metadata": {
    "collapsed": false,
    "deletable": true,
    "editable": true,
    "scrolled": false
   },
   "outputs": [],
   "source": [
    "#We first load all file paths\n",
    "import glob\n",
    "nvd_filepaths = glob.glob(\"data/*.csv\")\n",
    "#Then we prepare a list, that will contain all the tables that exist in these file paths\n",
    "nvd_dataframes = []\n",
    "for nvd_filepath in nvd_filepaths:\n",
    "    #the csvs do not contain headers, so are added here. TO-DO: Add headers to CSV when they are generated.\n",
    "    nvd_dataframes.append(pd.read_csv(nvd_filepath,names=['cve_id', 'cwe_id','timestamp']))\n"
   ]
  },
  {
   "cell_type": "markdown",
   "metadata": {
    "deletable": true,
    "editable": true
   },
   "source": [
    "For the sake of clarity, let's consider just one of the dataframes in the list of dataframes to show how the percent is done. "
   ]
  },
  {
   "cell_type": "code",
   "execution_count": 10,
   "metadata": {
    "collapsed": false,
    "deletable": true,
    "editable": true,
    "scrolled": false
   },
   "outputs": [
    {
     "data": {
      "text/html": [
       "<div>\n",
       "<table border=\"1\" class=\"dataframe\">\n",
       "  <thead>\n",
       "    <tr style=\"text-align: right;\">\n",
       "      <th></th>\n",
       "      <th>cve_id</th>\n",
       "      <th>cwe_id</th>\n",
       "    </tr>\n",
       "    <tr>\n",
       "      <th>month</th>\n",
       "      <th></th>\n",
       "      <th></th>\n",
       "    </tr>\n",
       "  </thead>\n",
       "  <tbody>\n",
       "    <tr>\n",
       "      <th>1</th>\n",
       "      <td>674</td>\n",
       "      <td>182</td>\n",
       "    </tr>\n",
       "    <tr>\n",
       "      <th>2</th>\n",
       "      <td>458</td>\n",
       "      <td>110</td>\n",
       "    </tr>\n",
       "    <tr>\n",
       "      <th>3</th>\n",
       "      <td>608</td>\n",
       "      <td>145</td>\n",
       "    </tr>\n",
       "    <tr>\n",
       "      <th>4</th>\n",
       "      <td>637</td>\n",
       "      <td>98</td>\n",
       "    </tr>\n",
       "    <tr>\n",
       "      <th>5</th>\n",
       "      <td>572</td>\n",
       "      <td>90</td>\n",
       "    </tr>\n",
       "    <tr>\n",
       "      <th>6</th>\n",
       "      <td>566</td>\n",
       "      <td>94</td>\n",
       "    </tr>\n",
       "    <tr>\n",
       "      <th>7</th>\n",
       "      <td>571</td>\n",
       "      <td>98</td>\n",
       "    </tr>\n",
       "    <tr>\n",
       "      <th>8</th>\n",
       "      <td>529</td>\n",
       "      <td>152</td>\n",
       "    </tr>\n",
       "    <tr>\n",
       "      <th>9</th>\n",
       "      <td>446</td>\n",
       "      <td>401</td>\n",
       "    </tr>\n",
       "    <tr>\n",
       "      <th>10</th>\n",
       "      <td>573</td>\n",
       "      <td>478</td>\n",
       "    </tr>\n",
       "    <tr>\n",
       "      <th>11</th>\n",
       "      <td>426</td>\n",
       "      <td>370</td>\n",
       "    </tr>\n",
       "    <tr>\n",
       "      <th>12</th>\n",
       "      <td>450</td>\n",
       "      <td>392</td>\n",
       "    </tr>\n",
       "  </tbody>\n",
       "</table>\n",
       "</div>"
      ],
      "text/plain": [
       "       cve_id  cwe_id\n",
       "month                \n",
       "1         674     182\n",
       "2         458     110\n",
       "3         608     145\n",
       "4         637      98\n",
       "5         572      90\n",
       "6         566      94\n",
       "7         571      98\n",
       "8         529     152\n",
       "9         446     401\n",
       "10        573     478\n",
       "11        426     370\n",
       "12        450     392"
      ]
     },
     "execution_count": 10,
     "metadata": {},
     "output_type": "execute_result"
    }
   ],
   "source": [
    "#Choose the first dataframe at position 0\n",
    "nvd_df = nvd_dataframes[0]\n",
    "#Parse the timestamp field turning it into a datetimeindex object, and then access the month attribute\n",
    "nvd_df['month'] = pd.DatetimeIndex(nvd_df['timestamp']).month\n",
    "\n",
    "#Now that we have a month column, we can 'group by' the table by the month column. \n",
    "nvd_df = nvd_df.groupby(by=['month'])['cve_id','cwe_id'].count()\n",
    "nvd_df"
   ]
  },
  {
   "cell_type": "code",
   "execution_count": 11,
   "metadata": {
    "collapsed": false,
    "deletable": true,
    "editable": true,
    "scrolled": false
   },
   "outputs": [
    {
     "data": {
      "text/html": [
       "<div>\n",
       "<table border=\"1\" class=\"dataframe\">\n",
       "  <thead>\n",
       "    <tr style=\"text-align: right;\">\n",
       "      <th></th>\n",
       "      <th>cve_id</th>\n",
       "      <th>cwe_id</th>\n",
       "      <th>cwe_coverage</th>\n",
       "    </tr>\n",
       "    <tr>\n",
       "      <th>month</th>\n",
       "      <th></th>\n",
       "      <th></th>\n",
       "      <th></th>\n",
       "    </tr>\n",
       "  </thead>\n",
       "  <tbody>\n",
       "    <tr>\n",
       "      <th>1</th>\n",
       "      <td>674</td>\n",
       "      <td>182</td>\n",
       "      <td>0.270030</td>\n",
       "    </tr>\n",
       "    <tr>\n",
       "      <th>2</th>\n",
       "      <td>458</td>\n",
       "      <td>110</td>\n",
       "      <td>0.240175</td>\n",
       "    </tr>\n",
       "    <tr>\n",
       "      <th>3</th>\n",
       "      <td>608</td>\n",
       "      <td>145</td>\n",
       "      <td>0.238487</td>\n",
       "    </tr>\n",
       "    <tr>\n",
       "      <th>4</th>\n",
       "      <td>637</td>\n",
       "      <td>98</td>\n",
       "      <td>0.153846</td>\n",
       "    </tr>\n",
       "    <tr>\n",
       "      <th>5</th>\n",
       "      <td>572</td>\n",
       "      <td>90</td>\n",
       "      <td>0.157343</td>\n",
       "    </tr>\n",
       "    <tr>\n",
       "      <th>6</th>\n",
       "      <td>566</td>\n",
       "      <td>94</td>\n",
       "      <td>0.166078</td>\n",
       "    </tr>\n",
       "    <tr>\n",
       "      <th>7</th>\n",
       "      <td>571</td>\n",
       "      <td>98</td>\n",
       "      <td>0.171629</td>\n",
       "    </tr>\n",
       "    <tr>\n",
       "      <th>8</th>\n",
       "      <td>529</td>\n",
       "      <td>152</td>\n",
       "      <td>0.287335</td>\n",
       "    </tr>\n",
       "    <tr>\n",
       "      <th>9</th>\n",
       "      <td>446</td>\n",
       "      <td>401</td>\n",
       "      <td>0.899103</td>\n",
       "    </tr>\n",
       "    <tr>\n",
       "      <th>10</th>\n",
       "      <td>573</td>\n",
       "      <td>478</td>\n",
       "      <td>0.834206</td>\n",
       "    </tr>\n",
       "    <tr>\n",
       "      <th>11</th>\n",
       "      <td>426</td>\n",
       "      <td>370</td>\n",
       "      <td>0.868545</td>\n",
       "    </tr>\n",
       "    <tr>\n",
       "      <th>12</th>\n",
       "      <td>450</td>\n",
       "      <td>392</td>\n",
       "      <td>0.871111</td>\n",
       "    </tr>\n",
       "  </tbody>\n",
       "</table>\n",
       "</div>"
      ],
      "text/plain": [
       "       cve_id  cwe_id  cwe_coverage\n",
       "month                              \n",
       "1         674     182      0.270030\n",
       "2         458     110      0.240175\n",
       "3         608     145      0.238487\n",
       "4         637      98      0.153846\n",
       "5         572      90      0.157343\n",
       "6         566      94      0.166078\n",
       "7         571      98      0.171629\n",
       "8         529     152      0.287335\n",
       "9         446     401      0.899103\n",
       "10        573     478      0.834206\n",
       "11        426     370      0.868545\n",
       "12        450     392      0.871111"
      ]
     },
     "execution_count": 11,
     "metadata": {},
     "output_type": "execute_result"
    }
   ],
   "source": [
    "#All that is left is divide row-wise the number of cwe_ids, by the numter of cve_ids. \n",
    "#Since the cwe_ids are never null, then they effectively represent the number of rows for the given month. \n",
    "#cwe_id, instead, that can be null, will only counted when it occurs. \n",
    "#Dividing one by the other, gives us the cwe_coverage we desire for the timeseries.\n",
    "nvd_df['cwe_coverage'] = nvd_df['cwe_id']/nvd_df['cve_id']\n",
    "nvd_df"
   ]
  },
  {
   "cell_type": "markdown",
   "metadata": {
    "deletable": true,
    "editable": true
   },
   "source": [
    "Let's define a function with the code above, so that given a dataframe, it generates the table above, with cve_id,_cwe_id, and cwe_coverage. "
   ]
  },
  {
   "cell_type": "code",
   "execution_count": 12,
   "metadata": {
    "collapsed": true,
    "deletable": true,
    "editable": true
   },
   "outputs": [],
   "source": [
    "def calculate_cwe_coverage(nvd_df):\n",
    "    #Parse the timestamp field turning it into a datetimeindex object, and then access the month attribute\n",
    "    nvd_df['month'] = pd.DatetimeIndex(nvd_df['timestamp']).month\n",
    "    #Now that we have a month column, we can 'group by' the table by the month column. \n",
    "    nvd_df = nvd_df.groupby(by=['month'])['cve_id','cwe_id'].count()\n",
    "    nvd_df['cwe_coverage'] = nvd_df['cwe_id']/nvd_df['cve_id']\n",
    "    return nvd_df\n",
    "    "
   ]
  },
  {
   "cell_type": "markdown",
   "metadata": {
    "deletable": true,
    "editable": true
   },
   "source": [
    "Now we generate the cwe coverage table for all our dataframes in our list."
   ]
  },
  {
   "cell_type": "code",
   "execution_count": 13,
   "metadata": {
    "collapsed": false,
    "deletable": true,
    "editable": true
   },
   "outputs": [
    {
     "name": "stdout",
     "output_type": "stream",
     "text": [
      "[       cve_id  cwe_id  cwe_coverage\n",
      "month                              \n",
      "1         674     182      0.270030\n",
      "2         458     110      0.240175\n",
      "3         608     145      0.238487\n",
      "4         637      98      0.153846\n",
      "5         572      90      0.157343\n",
      "6         566      94      0.166078\n",
      "7         571      98      0.171629\n",
      "8         529     152      0.287335\n",
      "9         446     401      0.899103\n",
      "10        573     478      0.834206\n",
      "11        426     370      0.868545\n",
      "12        450     392      0.871111,        cve_id  cwe_id  cwe_coverage\n",
      "month                              \n",
      "1         640     547      0.854688\n",
      "2         844     800      0.947867\n",
      "3         745     673      0.903356\n",
      "4         663     582      0.877828\n",
      "5         423     393      0.929078\n",
      "6         458     434      0.947598\n",
      "7         561     501      0.893048\n",
      "8         622     580      0.932476\n",
      "9         566     497      0.878092\n",
      "10        527     458      0.869070\n",
      "11        450     424      0.942222\n",
      "12        535     499      0.932710,        cve_id  cwe_id  cwe_coverage\n",
      "month                              \n",
      "1         358     312      0.871508\n",
      "2         388     355      0.914948\n",
      "3         449     391      0.870824\n",
      "4         436     339      0.777523\n",
      "5         376     339      0.901596\n",
      "6         473     427      0.902748\n",
      "7         457     386      0.844639\n",
      "8         336     276      0.821429\n",
      "9         483     394      0.815735\n",
      "10        366     276      0.754098\n",
      "11        312     258      0.826923\n",
      "12        454     390      0.859031,        cve_id  cwe_id  cwe_coverage\n",
      "month                              \n",
      "1         422     288      0.682464\n",
      "2         347     271      0.780980\n",
      "3         437     385      0.881007\n",
      "4         445     329      0.739326\n",
      "5         398     368      0.924623\n",
      "6         463     413      0.892009\n",
      "7         302     223      0.738411\n",
      "8         446     350      0.784753\n",
      "9         398     268      0.673367\n",
      "10        547     353      0.645338\n",
      "11        380     334      0.878947\n",
      "12        368     316      0.858696,        cve_id  cwe_id  cwe_coverage\n",
      "month                              \n",
      "1         355     294      0.828169\n",
      "2         432     375      0.868056\n",
      "3         386     342      0.886010\n",
      "4         324     224      0.691358\n",
      "5         380     330      0.868421\n",
      "6         375     315      0.840000\n",
      "7         365     235      0.643836\n",
      "8         362     324      0.895028\n",
      "9         417     379      0.908873\n",
      "10        445     298      0.669663\n",
      "11        238     203      0.852941\n",
      "12        362     312      0.861878,        cve_id  cwe_id  cwe_coverage\n",
      "month                              \n",
      "1         401     279      0.695761\n",
      "2         369     308      0.834688\n",
      "3         432     338      0.782407\n",
      "4         279     248      0.888889\n",
      "5         384     264      0.687500\n",
      "6         383     309      0.806789\n",
      "7         487     345      0.708419\n",
      "8         613     537      0.876020\n",
      "9         568     426      0.750000\n",
      "10        567     375      0.661376\n",
      "11        428     388      0.906542\n",
      "12        289     229      0.792388,        cve_id  cwe_id  cwe_coverage\n",
      "month                              \n",
      "1         545     354      0.649541\n",
      "2         438     345      0.787671\n",
      "3         530     456      0.860377\n",
      "4         544     307      0.564338\n",
      "5         484     447      0.923554\n",
      "6         400     314      0.785000\n",
      "7         478     324      0.677824\n",
      "8         371     330      0.889488\n",
      "9         465     417      0.896774\n",
      "10        563     385      0.683837\n",
      "11        415     371      0.893976\n",
      "12        484     433      0.894628,        cve_id  cwe_id  cwe_coverage\n",
      "month                              \n",
      "1         701     492      0.701854\n",
      "2         386     347      0.898964\n",
      "3         407     352      0.864865\n",
      "4         523     372      0.711281\n",
      "5         420     370      0.880952\n",
      "6         382     334      0.874346\n",
      "7         679     509      0.749632\n",
      "8         437     372      0.851259\n",
      "9        1107    1055      0.953026\n",
      "10       1393    1201      0.862168\n",
      "11        478     438      0.916318\n",
      "12        572     501      0.875874,        cve_id  cwe_id  cwe_coverage\n",
      "month                              \n",
      "1         550     416      0.756364\n",
      "2         488     403      0.825820\n",
      "3         414     352      0.850242\n",
      "4         622     447      0.718650\n",
      "5         448     378      0.843750\n",
      "6         497     449      0.903421\n",
      "7         641     423      0.659906\n",
      "8         591     513      0.868020\n",
      "9         514     461      0.896887\n",
      "10        749     551      0.735648\n",
      "11        371     327      0.881402\n",
      "12        582     457      0.785223,        cve_id  cwe_id  cwe_coverage\n",
      "month                              \n",
      "1        1093     756      0.691674\n",
      "2         534     375      0.702247\n",
      "3         299     246      0.822742\n",
      "4         534     379      0.709738\n",
      "5         525     411      0.782857\n",
      "6         472     354      0.750000\n",
      "7         671     436      0.649776\n",
      "8         350     332      0.948571\n",
      "9         570     550      0.964912\n",
      "10        652     573      0.878834\n",
      "11        378     370      0.978836\n",
      "12        505     491      0.972277]\n"
     ]
    }
   ],
   "source": [
    "cwe_coverage_dfs = []\n",
    "for nvd_df in nvd_dataframes: \n",
    "    cwe_coverage_dfs.append(calculate_cwe_coverage(nvd_df))\n",
    "#cwe coverage for the 3rd dataset.\n",
    "print(cwe_coverage_dfs)"
   ]
  },
  {
   "cell_type": "markdown",
   "metadata": {
    "deletable": true,
    "editable": true
   },
   "source": [
    "We now have all the information needed to plot our timeseries. "
   ]
  },
  {
   "cell_type": "markdown",
   "metadata": {
    "deletable": true,
    "editable": true
   },
   "source": [
    "# CWE Coverage Timeseries"
   ]
  },
  {
   "cell_type": "code",
   "execution_count": 14,
   "metadata": {
    "collapsed": false
   },
   "outputs": [
    {
     "data": {
      "text/html": [
       "\n",
       "    <div class=\"bk-root\">\n",
       "        <a href=\"http://bokeh.pydata.org\" target=\"_blank\" class=\"bk-logo bk-logo-small bk-logo-notebook\"></a>\n",
       "        <span id=\"839e1669-dbd5-4407-ba4e-13951b20201d\">Loading BokehJS ...</span>\n",
       "    </div>"
      ]
     },
     "metadata": {},
     "output_type": "display_data"
    },
    {
     "data": {
      "application/javascript": [
       "\n",
       "(function(global) {\n",
       "  function now() {\n",
       "    return new Date();\n",
       "  }\n",
       "\n",
       "  var force = true;\n",
       "\n",
       "  if (typeof (window._bokeh_onload_callbacks) === \"undefined\" || force === true) {\n",
       "    window._bokeh_onload_callbacks = [];\n",
       "    window._bokeh_is_loading = undefined;\n",
       "  }\n",
       "\n",
       "\n",
       "  \n",
       "  if (typeof (window._bokeh_timeout) === \"undefined\" || force === true) {\n",
       "    window._bokeh_timeout = Date.now() + 5000;\n",
       "    window._bokeh_failed_load = false;\n",
       "  }\n",
       "\n",
       "  var NB_LOAD_WARNING = {'data': {'text/html':\n",
       "     \"<div style='background-color: #fdd'>\\n\"+\n",
       "     \"<p>\\n\"+\n",
       "     \"BokehJS does not appear to have successfully loaded. If loading BokehJS from CDN, this \\n\"+\n",
       "     \"may be due to a slow or bad network connection. Possible fixes:\\n\"+\n",
       "     \"</p>\\n\"+\n",
       "     \"<ul>\\n\"+\n",
       "     \"<li>re-rerun `output_notebook()` to attempt to load from CDN again, or</li>\\n\"+\n",
       "     \"<li>use INLINE resources instead, as so:</li>\\n\"+\n",
       "     \"</ul>\\n\"+\n",
       "     \"<code>\\n\"+\n",
       "     \"from bokeh.resources import INLINE\\n\"+\n",
       "     \"output_notebook(resources=INLINE)\\n\"+\n",
       "     \"</code>\\n\"+\n",
       "     \"</div>\"}};\n",
       "\n",
       "  function display_loaded() {\n",
       "    if (window.Bokeh !== undefined) {\n",
       "      document.getElementById(\"839e1669-dbd5-4407-ba4e-13951b20201d\").textContent = \"BokehJS successfully loaded.\";\n",
       "    } else if (Date.now() < window._bokeh_timeout) {\n",
       "      setTimeout(display_loaded, 100)\n",
       "    }\n",
       "  }\n",
       "\n",
       "  function run_callbacks() {\n",
       "    window._bokeh_onload_callbacks.forEach(function(callback) { callback() });\n",
       "    delete window._bokeh_onload_callbacks\n",
       "    console.info(\"Bokeh: all callbacks have finished\");\n",
       "  }\n",
       "\n",
       "  function load_libs(js_urls, callback) {\n",
       "    window._bokeh_onload_callbacks.push(callback);\n",
       "    if (window._bokeh_is_loading > 0) {\n",
       "      console.log(\"Bokeh: BokehJS is being loaded, scheduling callback at\", now());\n",
       "      return null;\n",
       "    }\n",
       "    if (js_urls == null || js_urls.length === 0) {\n",
       "      run_callbacks();\n",
       "      return null;\n",
       "    }\n",
       "    console.log(\"Bokeh: BokehJS not loaded, scheduling load and callback at\", now());\n",
       "    window._bokeh_is_loading = js_urls.length;\n",
       "    for (var i = 0; i < js_urls.length; i++) {\n",
       "      var url = js_urls[i];\n",
       "      var s = document.createElement('script');\n",
       "      s.src = url;\n",
       "      s.async = false;\n",
       "      s.onreadystatechange = s.onload = function() {\n",
       "        window._bokeh_is_loading--;\n",
       "        if (window._bokeh_is_loading === 0) {\n",
       "          console.log(\"Bokeh: all BokehJS libraries loaded\");\n",
       "          run_callbacks()\n",
       "        }\n",
       "      };\n",
       "      s.onerror = function() {\n",
       "        console.warn(\"failed to load library \" + url);\n",
       "      };\n",
       "      console.log(\"Bokeh: injecting script tag for BokehJS library: \", url);\n",
       "      document.getElementsByTagName(\"head\")[0].appendChild(s);\n",
       "    }\n",
       "  };var element = document.getElementById(\"839e1669-dbd5-4407-ba4e-13951b20201d\");\n",
       "  if (element == null) {\n",
       "    console.log(\"Bokeh: ERROR: autoload.js configured with elementid '839e1669-dbd5-4407-ba4e-13951b20201d' but no matching script tag was found. \")\n",
       "    return false;\n",
       "  }\n",
       "\n",
       "  var js_urls = [\"https://cdn.pydata.org/bokeh/release/bokeh-0.12.4.min.js\", \"https://cdn.pydata.org/bokeh/release/bokeh-widgets-0.12.4.min.js\"];\n",
       "\n",
       "  var inline_js = [\n",
       "    function(Bokeh) {\n",
       "      Bokeh.set_log_level(\"info\");\n",
       "    },\n",
       "    \n",
       "    function(Bokeh) {\n",
       "      \n",
       "      document.getElementById(\"839e1669-dbd5-4407-ba4e-13951b20201d\").textContent = \"BokehJS is loading...\";\n",
       "    },\n",
       "    function(Bokeh) {\n",
       "      console.log(\"Bokeh: injecting CSS: https://cdn.pydata.org/bokeh/release/bokeh-0.12.4.min.css\");\n",
       "      Bokeh.embed.inject_css(\"https://cdn.pydata.org/bokeh/release/bokeh-0.12.4.min.css\");\n",
       "      console.log(\"Bokeh: injecting CSS: https://cdn.pydata.org/bokeh/release/bokeh-widgets-0.12.4.min.css\");\n",
       "      Bokeh.embed.inject_css(\"https://cdn.pydata.org/bokeh/release/bokeh-widgets-0.12.4.min.css\");\n",
       "    }\n",
       "  ];\n",
       "\n",
       "  function run_inline_js() {\n",
       "    \n",
       "    if ((window.Bokeh !== undefined) || (force === true)) {\n",
       "      for (var i = 0; i < inline_js.length; i++) {\n",
       "        inline_js[i](window.Bokeh);\n",
       "      }if (force === true) {\n",
       "        display_loaded();\n",
       "      }} else if (Date.now() < window._bokeh_timeout) {\n",
       "      setTimeout(run_inline_js, 100);\n",
       "    } else if (!window._bokeh_failed_load) {\n",
       "      console.log(\"Bokeh: BokehJS failed to load within specified timeout.\");\n",
       "      window._bokeh_failed_load = true;\n",
       "    } else if (force !== true) {\n",
       "      var cell = $(document.getElementById(\"839e1669-dbd5-4407-ba4e-13951b20201d\")).parents('.cell').data().cell;\n",
       "      cell.output_area.append_execute_result(NB_LOAD_WARNING)\n",
       "    }\n",
       "\n",
       "  }\n",
       "\n",
       "  if (window._bokeh_is_loading === 0) {\n",
       "    console.log(\"Bokeh: BokehJS loaded, going straight to plotting\");\n",
       "    run_inline_js();\n",
       "  } else {\n",
       "    load_libs(js_urls, function() {\n",
       "      console.log(\"Bokeh: BokehJS plotting callback run at\", now());\n",
       "      run_inline_js();\n",
       "    });\n",
       "  }\n",
       "}(this));"
      ]
     },
     "metadata": {},
     "output_type": "display_data"
    }
   ],
   "source": [
    "#imports for histogram\n",
    "import numpy as np\n",
    "import pandas as pd\n",
    "from bokeh.plotting import figure, show\n",
    "from bokeh.models import Range1d\n",
    "from bokeh.io import output_notebook\n",
    "from bokeh.charts import Bar\n",
    "import matplotlib.pyplot as plot\n",
    "from datetime import datetime\n",
    "output_notebook() "
   ]
  },
  {
   "cell_type": "code",
   "execution_count": 15,
   "metadata": {
    "collapsed": false
   },
   "outputs": [
    {
     "data": {
      "image/png": "[encoded data removed]",
      "text/plain": [
       "<matplotlib.figure.Figure at 0x23ddf69bc50>"
      ]
     },
     "metadata": {},
     "output_type": "display_data"
    }
   ],
   "source": [
    "color_map = {\n",
    "'2007': 'red',\n",
    "'2008': 'green',\n",
    "'2009': 'yellow',\n",
    "'2010': 'violet',\n",
    "'2011': 'indigo',\n",
    "'2012': 'brown',\n",
    "'2013': 'black',\n",
    "'2014': 'blue',\n",
    "'2015': 'orange',\n",
    "'2016': 'olive',\n",
    "'2017': 'navy',\n",
    "}\n",
    "\n",
    "def create_multi_line(vul):\n",
    "    vul_plot = plot.subplot(111)\n",
    "    map={}\n",
    "    year = 2006;\n",
    "    for frame in cwe_coverage_dfs:\n",
    "        year+=1;\n",
    "        map[year]= frame['cwe_coverage']\n",
    "        vul_plot.plot(map[year], label = year )\n",
    "    vul_plot.set_ylabel('cwe coverage')\n",
    "    vul_plot.set_xlabel('month')\n",
    "    vul_plot.legend(bbox_to_anchor=(1.05, 1),loc=2, borderaxespad=0.)\n",
    "    vul_plot.set_title(\"Count of Vulnerability type per month\")\n",
    "    vul_plot.set_autoscaley_on(False)\n",
    "    vul_plot.set_ylim([0,1])\n",
    "    vul_plot.set_autoscalex_on(False)\n",
    "    vul_plot.set_xlim([1,12])\n",
    "    vul_plot.xaxis.set_ticks([1,2,3,4,5,6,7,8,9,10,11,12])   \n",
    "    plot.show()\n",
    "\n",
    "create_multi_line(cwe_coverage_dfs)\n",
    "\n"
   ]
  }
 ],
 "metadata": {
  "anaconda-cloud": {},
  "kernelspec": {
   "display_name": "Python 3",
   "language": "python",
   "name": "python3"
  },
  "language_info": {
   "codemirror_mode": {
    "name": "ipython",
    "version": 3
   },
   "file_extension": ".py",
   "mimetype": "text/x-python",
   "name": "python",
   "nbconvert_exporter": "python",
   "pygments_lexer": "ipython3",
   "version": "3.6.0"
  }
 },
 "nbformat": 4,
 "nbformat_minor": 0
}
