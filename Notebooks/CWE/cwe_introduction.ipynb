{
 "cells": [
  {
   "cell_type": "markdown",
   "metadata": {},
   "source": [
    "# 1. Introduction"
   ]
  },
  {
   "cell_type": "markdown",
   "metadata": {},
   "source": [
    "The number and severity of cyber-attacks has been increasing at an alarming rate. Currently software security reacts to attacks, trying to minimize damage after it has already occurred. The inherit delay in a reactive approach will inevitably result in larger-than-necessary losses. To prevent or minimize such losses, a proactive approach to security is needed. This proactive approach is the basis of PERCEIVE. By being able to identify potential attacks before they can cause harm, we will be able to finally turn the tide and stop being on the defensive.\n",
    "\n",
    "Many weaknesses in software are known, and are publicly indexed, but this information is not reaching decision makers. MITRE’s databases—CVE for vulnerabilities, CWE for weaknesses, and CAPEC for attack patterns—hold these past concepts.\n",
    "\n",
    "While the data in these databases was rich, it was loosely structured and high in volume. My portion of this project was to understand the structure and contents of the CWE database so that we could create a more easily understood and analyzable corpus. A corpus is a collection of writing that through machine learning, will be used to compare known concepts (CWEs) to emerging concepts in hacker discussion groups.  To aid in determining similarity between our indexed concepts and emerging concepts, we need to understand the specificity, subject, time and purpose of each concept that we index. By analyzing emerging concepts in this manner, we can direct the attention of software developers, managers, and decision-makers so that they can proactively fix the security weaknesses in an economic and time efficient way.\n",
    "\n",
    "In order to create this corpus, we must understand the ways in which the aformentioned indexes are organized. This purpose of this notebook is to record and document the way that the CWE database functions. The version of CWE used for the data analytics in this notebook in 2.9. "
   ]
  },
  {
   "cell_type": "markdown",
   "metadata": {},
   "source": [
    "# 2. Structure"
   ]
  },
  {
   "cell_type": "markdown",
   "metadata": {},
   "source": [
    "   The data in CWE is organized in two seperate ways. The first part of this section will deal with the structure and formating of the XML section. XML is language designed to carry information and XML uses fields to hold the information. Manually reading XML data and trying to comprehend how it is strucutured is definitely made easier by using an external program such as XML explorer. The objective of this notebook was to determine which fields would be useful for the corpus. The raw XML data can be downloaded at https://cwe.mitre.org/data/. The version used for this notebook is 2.9. "
   ]
  },
  {
   "cell_type": "code",
   "execution_count": 1,
   "metadata": {
    "scrolled": false
   },
   "outputs": [
    {
     "name": "stdout",
     "output_type": "stream",
     "text": [
      "Views\n",
      "Categories\n",
      "Weaknesses\n",
      "Compound_Elements\n"
     ]
    }
   ],
   "source": [
    "import lxml.etree\n",
    "tree = lxml.etree.parse('cwec_v2.9.xml')\n",
    "root = tree.getroot()\n",
    "for table in root: \n",
    "    print (table.tag)"
   ]
  },
  {
   "cell_type": "markdown",
   "metadata": {},
   "source": [
    "There are four main tables in the XML. They are <b>Views</b>, <b>Categories</b>, <b>Weaknesses</b>, and <b>Coumpound_Elements</b>. In the XML the contents of these main categories is messy, however, on the website these main tables follow a strict hierarchy. The four main fields contain the entries related to that category. The meaning of the categories will be explained in a later section. For example, the **Weakness** main table contains all weakness while the **Views** main table contains all of the views. The individual entries contain the ID number of that entry, the name, and the status. The status refers to whether the entry is a draft, incomplete, etc. Each entry contains the various fields that are contained in said entry. A field is a container that contains a specific type of information."
   ]
  },
  {
   "cell_type": "markdown",
   "metadata": {},
   "source": [
    "Below is a graphical representation of the XML structure. The important thing to note is that there are hundreds of entries under the main table. The graphic only shows one in order to maximize clarity. The number of entries per main table varies depending on the main table. The **Categories** and **Weaknesses** main table contain the most entries while **Views** and **Compound_Elements** contain the fewest."
   ]
  },
  {
   "cell_type": "markdown",
   "metadata": {
    "scrolled": true
   },
   "source": [
    "<img src=\"images/CWE_Map.png\">"
   ]
  },
  {
   "cell_type": "markdown",
   "metadata": {},
   "source": [
    "Visualizing the XML data is a headache, however the data for the website is significantly more structured. The four main tables from the XML return, however this time they are organized in a strict hierarchy. There are two <b>Views</b> and they are always at the top of the hierarchy. Every <b>Category</b>, <b>Weakness</b>, and <b>Compound_Element</b> is a \"MemberOf\" one or both of these two views. <b>Weaknesses</b> are further broken down into three levels. <b>Weakness Class</b> is the top level. <b>Weakness Classes</b> contain descriptions of weaknesses that are very abstract and is the most general of the three <b>Weaknesses</b>. <b>Weakness Bases</b> are the middle ground and contain details on detection and prevention. <b>Weakness Variants</b> are the most specific and are typically limited to a specific language or technology. <b>Categories</b> simply contain entries that share common characteristics. <b> Compound Elements</b> can either be composites or chains as of CWE 2.9. However it is stated that this can change as necessary. \n",
    "    "
   ]
  },
  {
   "cell_type": "markdown",
   "metadata": {},
   "source": [
    "The hierarcy functions as follows. The two <b>Views</b> are the apex of the hierarchy. Every <b>Weakness</b> or <b>Category</b> directly contained within one or both <b>Views</b> is refered as a \"MemberOf\". This is unique. All <b>Weaknesses</b> <b>Classes</b> and <b>Compound Elements</b> are contained within these views, however not all of them are directly contained within them. For those contained in other <b>Weaknesses</b> they are considered to be the \"ChildOf\" while their holder is considered the \"ParentOf\". Any member of the hierachy can be a \"ParentOf\" any member that is below it or of the same rank. Conversely any member of the hierarcy can be a \"ChildOf\" any member that is above it or the same rank. The exception to this rule is that a <b>Category</b> can be the \"ParentOf\" a <b>Weakness Class</b> yet is the \"ChildOf\" a <b>Weakness Base</b> at least once.   <a href=\"https://cwe.mitre.org/data/definitions/60.html\"> See CWE ID 60 </a>."
   ]
  },
  {
   "cell_type": "markdown",
   "metadata": {},
   "source": [
    "<img src=\"images/CWE_Fields.png\">"
   ]
  },
  {
   "cell_type": "markdown",
   "metadata": {},
   "source": [
    "# 3. Counting the Weakness Fields"
   ]
  },
  {
   "cell_type": "markdown",
   "metadata": {},
   "source": [
    "Each weakness contains multiple fields. These fields in turn contain information regarding that weakness. The type of information contained within these fields depends on the type of field. Each type of field has a predetermined format and a specificed topic and type of content. We need to determine which fields will be most useful for the program and direct the programs attention to those fields. The fields that will be useful not only have to contain useful information, but also occur frequently enough to be used regularly. The goal of the scripts below is to determine which fields occur frequently enough to be used. "
   ]
  },
  {
   "cell_type": "markdown",
   "metadata": {},
   "source": [
    "The scripts below record all of the fields in the weaknesses. "
   ]
  },
  {
   "cell_type": "code",
   "execution_count": 2,
   "metadata": {},
   "outputs": [
    {
     "name": "stdout",
     "output_type": "stream",
     "text": [
      "Description\n",
      "Relationships\n",
      "Weakness_Ordinalities\n",
      "Applicable_Platforms\n",
      "Time_of_Introduction\n",
      "Common_Consequences\n",
      "Potential_Mitigations\n",
      "Causal_Nature\n",
      "Demonstrative_Examples\n",
      "Taxonomy_Mappings\n",
      "Content_History\n"
     ]
    }
   ],
   "source": [
    "weakness_table = root[2]\n",
    "for row in weakness_table[0]: \n",
    "    print (row.tag)"
   ]
  },
  {
   "cell_type": "code",
   "execution_count": 3,
   "metadata": {},
   "outputs": [
    {
     "name": "stdout",
     "output_type": "stream",
     "text": [
      "Description\n",
      "Relationships\n",
      "Relationship_Notes\n",
      "Weakness_Ordinalities\n",
      "Applicable_Platforms\n",
      "Alternate_Terms\n",
      "Terminology_Notes\n",
      "Time_of_Introduction\n",
      "Likelihood_of_Exploit\n",
      "Common_Consequences\n",
      "Detection_Methods\n",
      "Potential_Mitigations\n",
      "Causal_Nature\n",
      "Demonstrative_Examples\n",
      "Observed_Examples\n",
      "Functional_Areas\n",
      "Affected_Resources\n",
      "References\n",
      "Taxonomy_Mappings\n",
      "White_Box_Definitions\n",
      "Related_Attack_Patterns\n",
      "Content_History\n"
     ]
    }
   ],
   "source": [
    "for row in weakness_table[20]: \n",
    "    print (row.tag)"
   ]
  },
  {
   "cell_type": "markdown",
   "metadata": {},
   "source": [
    "Now that we have a list of all of the fields, we can count to see how many times they are used. "
   ]
  },
  {
   "cell_type": "code",
   "execution_count": 4,
   "metadata": {},
   "outputs": [
    {
     "name": "stdout",
     "output_type": "stream",
     "text": [
      "{'Description': 718, 'Relationships': 705, 'Weakness_Ordinalities': 130, 'Applicable_Platforms': 556, 'Time_of_Introduction': 664, 'Common_Consequences': 701, 'Potential_Mitigations': 523, 'Causal_Nature': 74, 'Demonstrative_Examples': 385, 'Taxonomy_Mappings': 597, 'Content_History': 718, 'Relationship_Notes': 122, 'Maintenance_Notes': 86, 'Background_Details': 41, 'Modes_of_Introduction': 32, 'Other_Notes': 23, 'References': 281, 'Related_Attack_Patterns': 206, 'Observed_Examples': 357, 'Theoretical_Notes': 26, 'Affected_Resources': 50, 'Research_Gaps': 74, 'Alternate_Terms': 65, 'Terminology_Notes': 26, 'Likelihood_of_Exploit': 184, 'Detection_Methods': 76, 'Functional_Areas': 27, 'White_Box_Definitions': 29, 'Enabling_Factors_for_Exploitation': 22, 'Relevant_Properties': 15}\n"
     ]
    }
   ],
   "source": [
    "histogram = {}\n",
    "for row in weakness_table: \n",
    "    for column in row: \n",
    "        if column.tag not in histogram: \n",
    "            histogram[column.tag] = 0\n",
    "        else:\n",
    "            histogram[column.tag] += 1\n",
    "print (histogram)"
   ]
  },
  {
   "cell_type": "markdown",
   "metadata": {},
   "source": [
    "Finally in order to make it easier to read, we create a histogram. "
   ]
  },
  {
   "cell_type": "code",
   "execution_count": 5,
   "metadata": {},
   "outputs": [
    {
     "data": {
      "text/html": [
       "\n",
       "    <div class=\"bk-root\">\n",
       "        <a href=\"https://bokeh.pydata.org\" target=\"_blank\" class=\"bk-logo bk-logo-small bk-logo-notebook\"></a>\n",
       "        <span id=\"cced4959-c0a4-4635-b652-ac6c630e57f8\">Loading BokehJS ...</span>\n",
       "    </div>"
      ]
     },
     "metadata": {},
     "output_type": "display_data"
    },
    {
     "data": {
      "application/javascript": [
       "\n",
       "(function(root) {\n",
       "  function now() {\n",
       "    return new Date();\n",
       "  }\n",
       "\n",
       "  var force = true;\n",
       "\n",
       "  if (typeof (root._bokeh_onload_callbacks) === \"undefined\" || force === true) {\n",
       "    root._bokeh_onload_callbacks = [];\n",
       "    root._bokeh_is_loading = undefined;\n",
       "  }\n",
       "\n",
       "  var JS_MIME_TYPE = 'application/javascript';\n",
       "  var HTML_MIME_TYPE = 'text/html';\n",
       "  var EXEC_MIME_TYPE = 'application/vnd.bokehjs_exec.v0+json';\n",
       "  var CLASS_NAME = 'output_bokeh rendered_html';\n",
       "\n",
       "  /**\n",
       "   * Render data to the DOM node\n",
       "   */\n",
       "  function render(props, node) {\n",
       "    var script = document.createElement(\"script\");\n",
       "    node.appendChild(script);\n",
       "  }\n",
       "\n",
       "  /**\n",
       "   * Handle when an output is cleared or removed\n",
       "   */\n",
       "  function handleClearOutput(event, handle) {\n",
       "    var cell = handle.cell;\n",
       "\n",
       "    var id = cell.output_area._bokeh_element_id;\n",
       "    var server_id = cell.output_area._bokeh_server_id;\n",
       "    // Clean up Bokeh references\n",
       "    if (id !== undefined) {\n",
       "      Bokeh.index[id].model.document.clear();\n",
       "      delete Bokeh.index[id];\n",
       "    }\n",
       "\n",
       "    if (server_id !== undefined) {\n",
       "      // Clean up Bokeh references\n",
       "      var cmd = \"from bokeh.io.state import curstate; print(curstate().uuid_to_server['\" + server_id + \"'].get_sessions()[0].document.roots[0]._id)\";\n",
       "      cell.notebook.kernel.execute(cmd, {\n",
       "        iopub: {\n",
       "          output: function(msg) {\n",
       "            var element_id = msg.content.text.trim();\n",
       "            Bokeh.index[element_id].model.document.clear();\n",
       "            delete Bokeh.index[element_id];\n",
       "          }\n",
       "        }\n",
       "      });\n",
       "      // Destroy server and session\n",
       "      var cmd = \"import bokeh.io.notebook as ion; ion.destroy_server('\" + server_id + \"')\";\n",
       "      cell.notebook.kernel.execute(cmd);\n",
       "    }\n",
       "  }\n",
       "\n",
       "  /**\n",
       "   * Handle when a new output is added\n",
       "   */\n",
       "  function handleAddOutput(event, handle) {\n",
       "    var output_area = handle.output_area;\n",
       "    var output = handle.output;\n",
       "\n",
       "    // limit handleAddOutput to display_data with EXEC_MIME_TYPE content only\n",
       "    if ((output.output_type != \"display_data\") || (!output.data.hasOwnProperty(EXEC_MIME_TYPE))) {\n",
       "      return\n",
       "    }\n",
       "\n",
       "    var toinsert = output_area.element.find(`.${CLASS_NAME.split(' ')[0]}`);\n",
       "\n",
       "    if (output.metadata[EXEC_MIME_TYPE][\"id\"] !== undefined) {\n",
       "      toinsert[0].firstChild.textContent = output.data[JS_MIME_TYPE];\n",
       "      // store reference to embed id on output_area\n",
       "      output_area._bokeh_element_id = output.metadata[EXEC_MIME_TYPE][\"id\"];\n",
       "    }\n",
       "    if (output.metadata[EXEC_MIME_TYPE][\"server_id\"] !== undefined) {\n",
       "      var bk_div = document.createElement(\"div\");\n",
       "      bk_div.innerHTML = output.data[HTML_MIME_TYPE];\n",
       "      var script_attrs = bk_div.children[0].attributes;\n",
       "      for (var i = 0; i < script_attrs.length; i++) {\n",
       "        toinsert[0].firstChild.setAttribute(script_attrs[i].name, script_attrs[i].value);\n",
       "      }\n",
       "      // store reference to server id on output_area\n",
       "      output_area._bokeh_server_id = output.metadata[EXEC_MIME_TYPE][\"server_id\"];\n",
       "    }\n",
       "  }\n",
       "\n",
       "  function register_renderer(events, OutputArea) {\n",
       "\n",
       "    function append_mime(data, metadata, element) {\n",
       "      // create a DOM node to render to\n",
       "      var toinsert = this.create_output_subarea(\n",
       "        metadata,\n",
       "        CLASS_NAME,\n",
       "        EXEC_MIME_TYPE\n",
       "      );\n",
       "      this.keyboard_manager.register_events(toinsert);\n",
       "      // Render to node\n",
       "      var props = {data: data, metadata: metadata[EXEC_MIME_TYPE]};\n",
       "      render(props, toinsert[0]);\n",
       "      element.append(toinsert);\n",
       "      return toinsert\n",
       "    }\n",
       "\n",
       "    /* Handle when an output is cleared or removed */\n",
       "    events.on('clear_output.CodeCell', handleClearOutput);\n",
       "    events.on('delete.Cell', handleClearOutput);\n",
       "\n",
       "    /* Handle when a new output is added */\n",
       "    events.on('output_added.OutputArea', handleAddOutput);\n",
       "\n",
       "    /**\n",
       "     * Register the mime type and append_mime function with output_area\n",
       "     */\n",
       "    OutputArea.prototype.register_mime_type(EXEC_MIME_TYPE, append_mime, {\n",
       "      /* Is output safe? */\n",
       "      safe: true,\n",
       "      /* Index of renderer in `output_area.display_order` */\n",
       "      index: 0\n",
       "    });\n",
       "  }\n",
       "\n",
       "  // register the mime type if in Jupyter Notebook environment and previously unregistered\n",
       "  if (root.Jupyter !== undefined) {\n",
       "    var events = require('base/js/events');\n",
       "    var OutputArea = require('notebook/js/outputarea').OutputArea;\n",
       "\n",
       "    if (OutputArea.prototype.mime_types().indexOf(EXEC_MIME_TYPE) == -1) {\n",
       "      register_renderer(events, OutputArea);\n",
       "    }\n",
       "  }\n",
       "\n",
       "  \n",
       "  if (typeof (root._bokeh_timeout) === \"undefined\" || force === true) {\n",
       "    root._bokeh_timeout = Date.now() + 5000;\n",
       "    root._bokeh_failed_load = false;\n",
       "  }\n",
       "\n",
       "  var NB_LOAD_WARNING = {'data': {'text/html':\n",
       "     \"<div style='background-color: #fdd'>\\n\"+\n",
       "     \"<p>\\n\"+\n",
       "     \"BokehJS does not appear to have successfully loaded. If loading BokehJS from CDN, this \\n\"+\n",
       "     \"may be due to a slow or bad network connection. Possible fixes:\\n\"+\n",
       "     \"</p>\\n\"+\n",
       "     \"<ul>\\n\"+\n",
       "     \"<li>re-rerun `output_notebook()` to attempt to load from CDN again, or</li>\\n\"+\n",
       "     \"<li>use INLINE resources instead, as so:</li>\\n\"+\n",
       "     \"</ul>\\n\"+\n",
       "     \"<code>\\n\"+\n",
       "     \"from bokeh.resources import INLINE\\n\"+\n",
       "     \"output_notebook(resources=INLINE)\\n\"+\n",
       "     \"</code>\\n\"+\n",
       "     \"</div>\"}};\n",
       "\n",
       "  function display_loaded() {\n",
       "    var el = document.getElementById(\"cced4959-c0a4-4635-b652-ac6c630e57f8\");\n",
       "    if (el != null) {\n",
       "      el.textContent = \"BokehJS is loading...\";\n",
       "    }\n",
       "    if (root.Bokeh !== undefined) {\n",
       "      if (el != null) {\n",
       "        el.textContent = \"BokehJS \" + root.Bokeh.version + \" successfully loaded.\";\n",
       "      }\n",
       "    } else if (Date.now() < root._bokeh_timeout) {\n",
       "      setTimeout(display_loaded, 100)\n",
       "    }\n",
       "  }\n",
       "\n",
       "\n",
       "  function run_callbacks() {\n",
       "    try {\n",
       "      root._bokeh_onload_callbacks.forEach(function(callback) { callback() });\n",
       "    }\n",
       "    finally {\n",
       "      delete root._bokeh_onload_callbacks\n",
       "    }\n",
       "    console.info(\"Bokeh: all callbacks have finished\");\n",
       "  }\n",
       "\n",
       "  function load_libs(js_urls, callback) {\n",
       "    root._bokeh_onload_callbacks.push(callback);\n",
       "    if (root._bokeh_is_loading > 0) {\n",
       "      console.log(\"Bokeh: BokehJS is being loaded, scheduling callback at\", now());\n",
       "      return null;\n",
       "    }\n",
       "    if (js_urls == null || js_urls.length === 0) {\n",
       "      run_callbacks();\n",
       "      return null;\n",
       "    }\n",
       "    console.log(\"Bokeh: BokehJS not loaded, scheduling load and callback at\", now());\n",
       "    root._bokeh_is_loading = js_urls.length;\n",
       "    for (var i = 0; i < js_urls.length; i++) {\n",
       "      var url = js_urls[i];\n",
       "      var s = document.createElement('script');\n",
       "      s.src = url;\n",
       "      s.async = false;\n",
       "      s.onreadystatechange = s.onload = function() {\n",
       "        root._bokeh_is_loading--;\n",
       "        if (root._bokeh_is_loading === 0) {\n",
       "          console.log(\"Bokeh: all BokehJS libraries loaded\");\n",
       "          run_callbacks()\n",
       "        }\n",
       "      };\n",
       "      s.onerror = function() {\n",
       "        console.warn(\"failed to load library \" + url);\n",
       "      };\n",
       "      console.log(\"Bokeh: injecting script tag for BokehJS library: \", url);\n",
       "      document.getElementsByTagName(\"head\")[0].appendChild(s);\n",
       "    }\n",
       "  };var element = document.getElementById(\"cced4959-c0a4-4635-b652-ac6c630e57f8\");\n",
       "  if (element == null) {\n",
       "    console.log(\"Bokeh: ERROR: autoload.js configured with elementid 'cced4959-c0a4-4635-b652-ac6c630e57f8' but no matching script tag was found. \")\n",
       "    return false;\n",
       "  }\n",
       "\n",
       "  var js_urls = [\"https://cdn.pydata.org/bokeh/release/bokeh-0.12.10.min.js\", \"https://cdn.pydata.org/bokeh/release/bokeh-widgets-0.12.10.min.js\", \"https://cdn.pydata.org/bokeh/release/bokeh-tables-0.12.10.min.js\", \"https://cdn.pydata.org/bokeh/release/bokeh-gl-0.12.10.min.js\"];\n",
       "\n",
       "  var inline_js = [\n",
       "    function(Bokeh) {\n",
       "      Bokeh.set_log_level(\"info\");\n",
       "    },\n",
       "    \n",
       "    function(Bokeh) {\n",
       "      \n",
       "    },\n",
       "    function(Bokeh) {\n",
       "      console.log(\"Bokeh: injecting CSS: https://cdn.pydata.org/bokeh/release/bokeh-0.12.10.min.css\");\n",
       "      Bokeh.embed.inject_css(\"https://cdn.pydata.org/bokeh/release/bokeh-0.12.10.min.css\");\n",
       "      console.log(\"Bokeh: injecting CSS: https://cdn.pydata.org/bokeh/release/bokeh-widgets-0.12.10.min.css\");\n",
       "      Bokeh.embed.inject_css(\"https://cdn.pydata.org/bokeh/release/bokeh-widgets-0.12.10.min.css\");\n",
       "      console.log(\"Bokeh: injecting CSS: https://cdn.pydata.org/bokeh/release/bokeh-tables-0.12.10.min.css\");\n",
       "      Bokeh.embed.inject_css(\"https://cdn.pydata.org/bokeh/release/bokeh-tables-0.12.10.min.css\");\n",
       "    }\n",
       "  ];\n",
       "\n",
       "  function run_inline_js() {\n",
       "    \n",
       "    if ((root.Bokeh !== undefined) || (force === true)) {\n",
       "      for (var i = 0; i < inline_js.length; i++) {\n",
       "        inline_js[i].call(root, root.Bokeh);\n",
       "      }if (force === true) {\n",
       "        display_loaded();\n",
       "      }} else if (Date.now() < root._bokeh_timeout) {\n",
       "      setTimeout(run_inline_js, 100);\n",
       "    } else if (!root._bokeh_failed_load) {\n",
       "      console.log(\"Bokeh: BokehJS failed to load within specified timeout.\");\n",
       "      root._bokeh_failed_load = true;\n",
       "    } else if (force !== true) {\n",
       "      var cell = $(document.getElementById(\"cced4959-c0a4-4635-b652-ac6c630e57f8\")).parents('.cell').data().cell;\n",
       "      cell.output_area.append_execute_result(NB_LOAD_WARNING)\n",
       "    }\n",
       "\n",
       "  }\n",
       "\n",
       "  if (root._bokeh_is_loading === 0) {\n",
       "    console.log(\"Bokeh: BokehJS loaded, going straight to plotting\");\n",
       "    run_inline_js();\n",
       "  } else {\n",
       "    load_libs(js_urls, function() {\n",
       "      console.log(\"Bokeh: BokehJS plotting callback run at\", now());\n",
       "      run_inline_js();\n",
       "    });\n",
       "  }\n",
       "}(window));"
      ],
      "application/vnd.bokehjs_load.v0+json": "\n(function(root) {\n  function now() {\n    return new Date();\n  }\n\n  var force = true;\n\n  if (typeof (root._bokeh_onload_callbacks) === \"undefined\" || force === true) {\n    root._bokeh_onload_callbacks = [];\n    root._bokeh_is_loading = undefined;\n  }\n\n  \n\n  \n  if (typeof (root._bokeh_timeout) === \"undefined\" || force === true) {\n    root._bokeh_timeout = Date.now() + 5000;\n    root._bokeh_failed_load = false;\n  }\n\n  var NB_LOAD_WARNING = {'data': {'text/html':\n     \"<div style='background-color: #fdd'>\\n\"+\n     \"<p>\\n\"+\n     \"BokehJS does not appear to have successfully loaded. If loading BokehJS from CDN, this \\n\"+\n     \"may be due to a slow or bad network connection. Possible fixes:\\n\"+\n     \"</p>\\n\"+\n     \"<ul>\\n\"+\n     \"<li>re-rerun `output_notebook()` to attempt to load from CDN again, or</li>\\n\"+\n     \"<li>use INLINE resources instead, as so:</li>\\n\"+\n     \"</ul>\\n\"+\n     \"<code>\\n\"+\n     \"from bokeh.resources import INLINE\\n\"+\n     \"output_notebook(resources=INLINE)\\n\"+\n     \"</code>\\n\"+\n     \"</div>\"}};\n\n  function display_loaded() {\n    var el = document.getElementById(\"cced4959-c0a4-4635-b652-ac6c630e57f8\");\n    if (el != null) {\n      el.textContent = \"BokehJS is loading...\";\n    }\n    if (root.Bokeh !== undefined) {\n      if (el != null) {\n        el.textContent = \"BokehJS \" + root.Bokeh.version + \" successfully loaded.\";\n      }\n    } else if (Date.now() < root._bokeh_timeout) {\n      setTimeout(display_loaded, 100)\n    }\n  }\n\n\n  function run_callbacks() {\n    try {\n      root._bokeh_onload_callbacks.forEach(function(callback) { callback() });\n    }\n    finally {\n      delete root._bokeh_onload_callbacks\n    }\n    console.info(\"Bokeh: all callbacks have finished\");\n  }\n\n  function load_libs(js_urls, callback) {\n    root._bokeh_onload_callbacks.push(callback);\n    if (root._bokeh_is_loading > 0) {\n      console.log(\"Bokeh: BokehJS is being loaded, scheduling callback at\", now());\n      return null;\n    }\n    if (js_urls == null || js_urls.length === 0) {\n      run_callbacks();\n      return null;\n    }\n    console.log(\"Bokeh: BokehJS not loaded, scheduling load and callback at\", now());\n    root._bokeh_is_loading = js_urls.length;\n    for (var i = 0; i < js_urls.length; i++) {\n      var url = js_urls[i];\n      var s = document.createElement('script');\n      s.src = url;\n      s.async = false;\n      s.onreadystatechange = s.onload = function() {\n        root._bokeh_is_loading--;\n        if (root._bokeh_is_loading === 0) {\n          console.log(\"Bokeh: all BokehJS libraries loaded\");\n          run_callbacks()\n        }\n      };\n      s.onerror = function() {\n        console.warn(\"failed to load library \" + url);\n      };\n      console.log(\"Bokeh: injecting script tag for BokehJS library: \", url);\n      document.getElementsByTagName(\"head\")[0].appendChild(s);\n    }\n  };var element = document.getElementById(\"cced4959-c0a4-4635-b652-ac6c630e57f8\");\n  if (element == null) {\n    console.log(\"Bokeh: ERROR: autoload.js configured with elementid 'cced4959-c0a4-4635-b652-ac6c630e57f8' but no matching script tag was found. \")\n    return false;\n  }\n\n  var js_urls = [\"https://cdn.pydata.org/bokeh/release/bokeh-0.12.10.min.js\", \"https://cdn.pydata.org/bokeh/release/bokeh-widgets-0.12.10.min.js\", \"https://cdn.pydata.org/bokeh/release/bokeh-tables-0.12.10.min.js\", \"https://cdn.pydata.org/bokeh/release/bokeh-gl-0.12.10.min.js\"];\n\n  var inline_js = [\n    function(Bokeh) {\n      Bokeh.set_log_level(\"info\");\n    },\n    \n    function(Bokeh) {\n      \n    },\n    function(Bokeh) {\n      console.log(\"Bokeh: injecting CSS: https://cdn.pydata.org/bokeh/release/bokeh-0.12.10.min.css\");\n      Bokeh.embed.inject_css(\"https://cdn.pydata.org/bokeh/release/bokeh-0.12.10.min.css\");\n      console.log(\"Bokeh: injecting CSS: https://cdn.pydata.org/bokeh/release/bokeh-widgets-0.12.10.min.css\");\n      Bokeh.embed.inject_css(\"https://cdn.pydata.org/bokeh/release/bokeh-widgets-0.12.10.min.css\");\n      console.log(\"Bokeh: injecting CSS: https://cdn.pydata.org/bokeh/release/bokeh-tables-0.12.10.min.css\");\n      Bokeh.embed.inject_css(\"https://cdn.pydata.org/bokeh/release/bokeh-tables-0.12.10.min.css\");\n    }\n  ];\n\n  function run_inline_js() {\n    \n    if ((root.Bokeh !== undefined) || (force === true)) {\n      for (var i = 0; i < inline_js.length; i++) {\n        inline_js[i].call(root, root.Bokeh);\n      }if (force === true) {\n        display_loaded();\n      }} else if (Date.now() < root._bokeh_timeout) {\n      setTimeout(run_inline_js, 100);\n    } else if (!root._bokeh_failed_load) {\n      console.log(\"Bokeh: BokehJS failed to load within specified timeout.\");\n      root._bokeh_failed_load = true;\n    } else if (force !== true) {\n      var cell = $(document.getElementById(\"cced4959-c0a4-4635-b652-ac6c630e57f8\")).parents('.cell').data().cell;\n      cell.output_area.append_execute_result(NB_LOAD_WARNING)\n    }\n\n  }\n\n  if (root._bokeh_is_loading === 0) {\n    console.log(\"Bokeh: BokehJS loaded, going straight to plotting\");\n    run_inline_js();\n  } else {\n    load_libs(js_urls, function() {\n      console.log(\"Bokeh: BokehJS plotting callback run at\", now());\n      run_inline_js();\n    });\n  }\n}(window));"
     },
     "metadata": {},
     "output_type": "display_data"
    }
   ],
   "source": [
    "import numpy as np\n",
    "import pandas as pd\n",
    "from bokeh.plotting import figure, show\n",
    "from bokeh.models import Range1d\n",
    "from bokeh.io import output_notebook\n",
    "output_notebook() #So plots\n",
    "\n",
    "data = {}\n",
    "data['Entries'] = histogram\n",
    "\n",
    "df_data = pd.DataFrame(data).sort_values(by='Entries', ascending=True)\n",
    "series = df_data.loc[:,'Entries']\n",
    "\n",
    "p = figure(width=800, y_range=series.index.tolist(), title=\"Weaknesses Histogram\")\n",
    "\n",
    "p.xaxis.axis_label = 'Frequency'\n",
    "p.xaxis.axis_label_text_font_size = '10pt'\n",
    "p.xaxis.major_label_text_font_size = '8pt'\n",
    "\n",
    "p.yaxis.axis_label = 'Field'\n",
    "p.yaxis.axis_label_text_font_size = '10pt'\n",
    "p.yaxis.major_label_text_font_size = '8pt'\n",
    "\n",
    "j = 1\n",
    "for k,v in series.iteritems():\n",
    "  \n",
    "  #Print fields, values, orders\n",
    "  #print (k,v,j) \n",
    "  p.rect(x=v/2, y=j, width=abs(v), height=0.4,\n",
    "    width_units=\"data\", height_units=\"data\")\n",
    "  j += 1"
   ]
  },
  {
   "cell_type": "code",
   "execution_count": 6,
   "metadata": {},
   "outputs": [
    {
     "data": {
      "text/html": [
       "\n",
       "<div class=\"bk-root\">\n",
       "    <div class=\"bk-plotdiv\" id=\"31a690b7-72b5-4ff0-ae34-1d0bb488f994\"></div>\n",
       "</div>"
      ]
     },
     "metadata": {},
     "output_type": "display_data"
    },
    {
     "data": {
      "application/javascript": [
       "(function(root) {\n",
       "  function embed_document(root) {\n",
       "    var docs_json = {\"61f64e13-4cd4-46d5-ae3b-925098b6911f\":{\"roots\":{\"references\":[{\"attributes\":{\"data_source\":{\"id\":\"8ce7fef7-7a1f-42bf-b545-5ce7a6340481\",\"type\":\"ColumnDataSource\"},\"glyph\":{\"id\":\"9bfd6fdf-20ce-4d74-8b2e-a3e753c2eeee\",\"type\":\"Rect\"},\"hover_glyph\":null,\"muted_glyph\":null,\"nonselection_glyph\":{\"id\":\"d0fe42ab-4a00-423b-ad42-bdee8bb06958\",\"type\":\"Rect\"},\"selection_glyph\":null,\"view\":{\"id\":\"ccc9591d-aabb-4c4e-88b6-9b6cb03cbab6\",\"type\":\"CDSView\"}},\"id\":\"fedfa980-4a43-4767-a18b-86ddd9a53bba\",\"type\":\"GlyphRenderer\"},{\"attributes\":{\"source\":{\"id\":\"8ce7fef7-7a1f-42bf-b545-5ce7a6340481\",\"type\":\"ColumnDataSource\"}},\"id\":\"ccc9591d-aabb-4c4e-88b6-9b6cb03cbab6\",\"type\":\"CDSView\"},{\"attributes\":{\"fill_alpha\":{\"value\":0.1},\"fill_color\":{\"value\":\"#1f77b4\"},\"height\":{\"units\":\"data\",\"value\":0.4},\"line_alpha\":{\"value\":0.1},\"line_color\":{\"value\":\"#1f77b4\"},\"width\":{\"units\":\"data\",\"value\":718},\"x\":{\"value\":359.0},\"y\":{\"value\":29}},\"id\":\"ce64e408-e4fa-435c-87f0-0838d7530949\",\"type\":\"Rect\"},{\"attributes\":{\"callback\":null,\"data\":{}},\"id\":\"44453333-72c6-43c4-a5c4-936039d5f6d0\",\"type\":\"ColumnDataSource\"},{\"attributes\":{\"fill_color\":{\"value\":\"#1f77b4\"},\"height\":{\"units\":\"data\",\"value\":0.4},\"line_color\":{\"value\":\"#1f77b4\"},\"width\":{\"units\":\"data\",\"value\":718},\"x\":{\"value\":359.0},\"y\":{\"value\":29}},\"id\":\"7fc27e72-c30c-44d3-8c19-9ff23efc194f\",\"type\":\"Rect\"},{\"attributes\":{\"fill_color\":{\"value\":\"#1f77b4\"},\"height\":{\"units\":\"data\",\"value\":0.4},\"line_color\":{\"value\":\"#1f77b4\"},\"width\":{\"units\":\"data\",\"value\":718},\"x\":{\"value\":359.0},\"y\":{\"value\":30}},\"id\":\"b4a3bdbd-294a-4aff-b56a-683ae2183a84\",\"type\":\"Rect\"},{\"attributes\":{\"data_source\":{\"id\":\"44453333-72c6-43c4-a5c4-936039d5f6d0\",\"type\":\"ColumnDataSource\"},\"glyph\":{\"id\":\"7fc27e72-c30c-44d3-8c19-9ff23efc194f\",\"type\":\"Rect\"},\"hover_glyph\":null,\"muted_glyph\":null,\"nonselection_glyph\":{\"id\":\"ce64e408-e4fa-435c-87f0-0838d7530949\",\"type\":\"Rect\"},\"selection_glyph\":null,\"view\":{\"id\":\"6de72020-5f5f-488a-83a3-a60d5d26125e\",\"type\":\"CDSView\"}},\"id\":\"df81e002-b632-477d-8bb9-c7f829873540\",\"type\":\"GlyphRenderer\"},{\"attributes\":{\"source\":{\"id\":\"09419a83-dc08-4a91-9ffe-9fb6019c5d4f\",\"type\":\"ColumnDataSource\"}},\"id\":\"241db0b2-5571-4b20-a699-65f4c8136ab0\",\"type\":\"CDSView\"},{\"attributes\":{\"callback\":null,\"data\":{}},\"id\":\"fe6899e7-67d9-4c89-8790-87838aa47f8b\",\"type\":\"ColumnDataSource\"},{\"attributes\":{\"source\":{\"id\":\"44453333-72c6-43c4-a5c4-936039d5f6d0\",\"type\":\"ColumnDataSource\"}},\"id\":\"6de72020-5f5f-488a-83a3-a60d5d26125e\",\"type\":\"CDSView\"},{\"attributes\":{\"fill_alpha\":{\"value\":0.1},\"fill_color\":{\"value\":\"#1f77b4\"},\"height\":{\"units\":\"data\",\"value\":0.4},\"line_alpha\":{\"value\":0.1},\"line_color\":{\"value\":\"#1f77b4\"},\"width\":{\"units\":\"data\",\"value\":718},\"x\":{\"value\":359.0},\"y\":{\"value\":30}},\"id\":\"0a7dc239-4e1c-4ba3-b9ba-d2a1d5fac119\",\"type\":\"Rect\"},{\"attributes\":{\"data_source\":{\"id\":\"fe6899e7-67d9-4c89-8790-87838aa47f8b\",\"type\":\"ColumnDataSource\"},\"glyph\":{\"id\":\"b4a3bdbd-294a-4aff-b56a-683ae2183a84\",\"type\":\"Rect\"},\"hover_glyph\":null,\"muted_glyph\":null,\"nonselection_glyph\":{\"id\":\"0a7dc239-4e1c-4ba3-b9ba-d2a1d5fac119\",\"type\":\"Rect\"},\"selection_glyph\":null,\"view\":{\"id\":\"c6ed6cc1-9435-4223-a231-da5fa9d05340\",\"type\":\"CDSView\"}},\"id\":\"53748ed2-4fc9-42e7-b577-98bf605be27c\",\"type\":\"GlyphRenderer\"},{\"attributes\":{\"source\":{\"id\":\"fe6899e7-67d9-4c89-8790-87838aa47f8b\",\"type\":\"ColumnDataSource\"}},\"id\":\"c6ed6cc1-9435-4223-a231-da5fa9d05340\",\"type\":\"CDSView\"},{\"attributes\":{\"data_source\":{\"id\":\"09419a83-dc08-4a91-9ffe-9fb6019c5d4f\",\"type\":\"ColumnDataSource\"},\"glyph\":{\"id\":\"d7a713a0-a8d6-418c-b89f-474a3d35fba3\",\"type\":\"Rect\"},\"hover_glyph\":null,\"muted_glyph\":null,\"nonselection_glyph\":{\"id\":\"30310ca3-857e-4ae8-a241-39374f4efa2b\",\"type\":\"Rect\"},\"selection_glyph\":null,\"view\":{\"id\":\"241db0b2-5571-4b20-a699-65f4c8136ab0\",\"type\":\"CDSView\"}},\"id\":\"bbcdb174-ab9d-4731-ac2b-ea0f735cfdbd\",\"type\":\"GlyphRenderer\"},{\"attributes\":{\"fill_alpha\":{\"value\":0.1},\"fill_color\":{\"value\":\"#1f77b4\"},\"height\":{\"units\":\"data\",\"value\":0.4},\"line_alpha\":{\"value\":0.1},\"line_color\":{\"value\":\"#1f77b4\"},\"width\":{\"units\":\"data\",\"value\":74},\"x\":{\"value\":37.0},\"y\":{\"value\":13}},\"id\":\"4a3e3956-9b74-4257-82fc-dd1b343df14d\",\"type\":\"Rect\"},{\"attributes\":{\"fill_alpha\":{\"value\":0.1},\"fill_color\":{\"value\":\"#1f77b4\"},\"height\":{\"units\":\"data\",\"value\":0.4},\"line_alpha\":{\"value\":0.1},\"line_color\":{\"value\":\"#1f77b4\"},\"width\":{\"units\":\"data\",\"value\":15},\"x\":{\"value\":7.5},\"y\":{\"value\":1}},\"id\":\"30310ca3-857e-4ae8-a241-39374f4efa2b\",\"type\":\"Rect\"},{\"attributes\":{\"fill_alpha\":{\"value\":0.1},\"fill_color\":{\"value\":\"#1f77b4\"},\"height\":{\"units\":\"data\",\"value\":0.4},\"line_alpha\":{\"value\":0.1},\"line_color\":{\"value\":\"#1f77b4\"},\"width\":{\"units\":\"data\",\"value\":705},\"x\":{\"value\":352.5},\"y\":{\"value\":28}},\"id\":\"d0fe42ab-4a00-423b-ad42-bdee8bb06958\",\"type\":\"Rect\"},{\"attributes\":{},\"id\":\"84ced806-c204-4c45-9151-18613fab730f\",\"type\":\"PanTool\"},{\"attributes\":{\"bottom_units\":\"screen\",\"fill_alpha\":{\"value\":0.5},\"fill_color\":{\"value\":\"lightgrey\"},\"left_units\":\"screen\",\"level\":\"overlay\",\"line_alpha\":{\"value\":1.0},\"line_color\":{\"value\":\"black\"},\"line_dash\":[4,4],\"line_width\":{\"value\":2},\"plot\":null,\"render_mode\":\"css\",\"right_units\":\"screen\",\"top_units\":\"screen\"},\"id\":\"75b10369-a6d5-44b6-a47c-e28f9e21517d\",\"type\":\"BoxAnnotation\"},{\"attributes\":{\"fill_color\":{\"value\":\"#1f77b4\"},\"height\":{\"units\":\"data\",\"value\":0.4},\"line_color\":{\"value\":\"#1f77b4\"},\"width\":{\"units\":\"data\",\"value\":76},\"x\":{\"value\":38.0},\"y\":{\"value\":14}},\"id\":\"6f15ad40-4940-4a7f-abb4-a5052fff90ee\",\"type\":\"Rect\"},{\"attributes\":{\"fill_alpha\":{\"value\":0.1},\"fill_color\":{\"value\":\"#1f77b4\"},\"height\":{\"units\":\"data\",\"value\":0.4},\"line_alpha\":{\"value\":0.1},\"line_color\":{\"value\":\"#1f77b4\"},\"width\":{\"units\":\"data\",\"value\":76},\"x\":{\"value\":38.0},\"y\":{\"value\":14}},\"id\":\"d755e717-87c5-4bb3-ade0-77a708fff0ed\",\"type\":\"Rect\"},{\"attributes\":{},\"id\":\"61a40a9d-fcf8-44a0-a8db-e9f594b6d71f\",\"type\":\"WheelZoomTool\"},{\"attributes\":{\"data_source\":{\"id\":\"a60fa99c-824b-44e2-be0e-3939c93f2135\",\"type\":\"ColumnDataSource\"},\"glyph\":{\"id\":\"6f15ad40-4940-4a7f-abb4-a5052fff90ee\",\"type\":\"Rect\"},\"hover_glyph\":null,\"muted_glyph\":null,\"nonselection_glyph\":{\"id\":\"d755e717-87c5-4bb3-ade0-77a708fff0ed\",\"type\":\"Rect\"},\"selection_glyph\":null,\"view\":{\"id\":\"a1456af1-7693-4b29-a0b6-594b572b06d5\",\"type\":\"CDSView\"}},\"id\":\"03b41c02-3218-4c97-98cf-f049711af46c\",\"type\":\"GlyphRenderer\"},{\"attributes\":{\"overlay\":{\"id\":\"75b10369-a6d5-44b6-a47c-e28f9e21517d\",\"type\":\"BoxAnnotation\"}},\"id\":\"cc4b5f58-50eb-4d8d-9089-179efc9ddbac\",\"type\":\"BoxZoomTool\"},{\"attributes\":{\"callback\":null,\"data\":{}},\"id\":\"02ad2105-d6c2-46a7-9d37-25c2749fa702\",\"type\":\"ColumnDataSource\"},{\"attributes\":{},\"id\":\"7c88fad5-2b34-461e-b609-bb5c43f71384\",\"type\":\"SaveTool\"},{\"attributes\":{\"fill_color\":{\"value\":\"#1f77b4\"},\"height\":{\"units\":\"data\",\"value\":0.4},\"line_color\":{\"value\":\"#1f77b4\"},\"width\":{\"units\":\"data\",\"value\":86},\"x\":{\"value\":43.0},\"y\":{\"value\":15}},\"id\":\"482528e0-0cb9-4ac5-8ba8-28b591cfa649\",\"type\":\"Rect\"},{\"attributes\":{},\"id\":\"6651eb31-8079-4da0-8f35-36666c30a7fd\",\"type\":\"ResetTool\"},{\"attributes\":{\"source\":{\"id\":\"a60fa99c-824b-44e2-be0e-3939c93f2135\",\"type\":\"ColumnDataSource\"}},\"id\":\"a1456af1-7693-4b29-a0b6-594b572b06d5\",\"type\":\"CDSView\"},{\"attributes\":{},\"id\":\"8d310651-4e2c-4455-8f96-03d7f9b56eb9\",\"type\":\"HelpTool\"},{\"attributes\":{\"fill_alpha\":{\"value\":0.1},\"fill_color\":{\"value\":\"#1f77b4\"},\"height\":{\"units\":\"data\",\"value\":0.4},\"line_alpha\":{\"value\":0.1},\"line_color\":{\"value\":\"#1f77b4\"},\"width\":{\"units\":\"data\",\"value\":86},\"x\":{\"value\":43.0},\"y\":{\"value\":15}},\"id\":\"b2f7d9ef-48e5-495a-a502-a46769051010\",\"type\":\"Rect\"},{\"attributes\":{\"fill_color\":{\"value\":\"#1f77b4\"},\"height\":{\"units\":\"data\",\"value\":0.4},\"line_color\":{\"value\":\"#1f77b4\"},\"width\":{\"units\":\"data\",\"value\":122},\"x\":{\"value\":61.0},\"y\":{\"value\":16}},\"id\":\"c4bff0b9-473d-4709-97ad-9a4a2e3bce41\",\"type\":\"Rect\"},{\"attributes\":{\"data_source\":{\"id\":\"02ad2105-d6c2-46a7-9d37-25c2749fa702\",\"type\":\"ColumnDataSource\"},\"glyph\":{\"id\":\"482528e0-0cb9-4ac5-8ba8-28b591cfa649\",\"type\":\"Rect\"},\"hover_glyph\":null,\"muted_glyph\":null,\"nonselection_glyph\":{\"id\":\"b2f7d9ef-48e5-495a-a502-a46769051010\",\"type\":\"Rect\"},\"selection_glyph\":null,\"view\":{\"id\":\"c6042e23-d755-4d5d-af9a-26531504194c\",\"type\":\"CDSView\"}},\"id\":\"dc286ae5-2088-42d9-92dc-81a6959ebe91\",\"type\":\"GlyphRenderer\"},{\"attributes\":{},\"id\":\"fee2236e-d56a-4d9b-ab55-7748987e2471\",\"type\":\"BasicTickFormatter\"},{\"attributes\":{\"callback\":null,\"data\":{}},\"id\":\"7690ad43-9c07-4110-9a90-fee1a8d3cdbd\",\"type\":\"ColumnDataSource\"},{\"attributes\":{},\"id\":\"bf6757ee-5e60-47b6-9356-9a5af32519fe\",\"type\":\"CategoricalTickFormatter\"},{\"attributes\":{\"callback\":null,\"data\":{}},\"id\":\"a60fa99c-824b-44e2-be0e-3939c93f2135\",\"type\":\"ColumnDataSource\"},{\"attributes\":{\"source\":{\"id\":\"02ad2105-d6c2-46a7-9d37-25c2749fa702\",\"type\":\"ColumnDataSource\"}},\"id\":\"c6042e23-d755-4d5d-af9a-26531504194c\",\"type\":\"CDSView\"},{\"attributes\":{\"callback\":null,\"data\":{}},\"id\":\"d5c8a70b-9f5c-4bad-8947-285e371a65c6\",\"type\":\"ColumnDataSource\"},{\"attributes\":{\"fill_alpha\":{\"value\":0.1},\"fill_color\":{\"value\":\"#1f77b4\"},\"height\":{\"units\":\"data\",\"value\":0.4},\"line_alpha\":{\"value\":0.1},\"line_color\":{\"value\":\"#1f77b4\"},\"width\":{\"units\":\"data\",\"value\":122},\"x\":{\"value\":61.0},\"y\":{\"value\":16}},\"id\":\"c23653a8-7ae5-40e5-a8d4-a626d0a744c6\",\"type\":\"Rect\"},{\"attributes\":{\"fill_alpha\":{\"value\":0.1},\"fill_color\":{\"value\":\"#1f77b4\"},\"height\":{\"units\":\"data\",\"value\":0.4},\"line_alpha\":{\"value\":0.1},\"line_color\":{\"value\":\"#1f77b4\"},\"width\":{\"units\":\"data\",\"value\":22},\"x\":{\"value\":11.0},\"y\":{\"value\":2}},\"id\":\"82b08964-e889-481e-814d-fd6d8f6670fd\",\"type\":\"Rect\"},{\"attributes\":{\"fill_color\":{\"value\":\"#1f77b4\"},\"height\":{\"units\":\"data\",\"value\":0.4},\"line_color\":{\"value\":\"#1f77b4\"},\"width\":{\"units\":\"data\",\"value\":130},\"x\":{\"value\":65.0},\"y\":{\"value\":17}},\"id\":\"2915fc99-10f8-4f00-9ad7-5e6ac12284de\",\"type\":\"Rect\"},{\"attributes\":{\"data_source\":{\"id\":\"7690ad43-9c07-4110-9a90-fee1a8d3cdbd\",\"type\":\"ColumnDataSource\"},\"glyph\":{\"id\":\"c4bff0b9-473d-4709-97ad-9a4a2e3bce41\",\"type\":\"Rect\"},\"hover_glyph\":null,\"muted_glyph\":null,\"nonselection_glyph\":{\"id\":\"c23653a8-7ae5-40e5-a8d4-a626d0a744c6\",\"type\":\"Rect\"},\"selection_glyph\":null,\"view\":{\"id\":\"331bebf9-8a81-48db-880e-d000a2e28093\",\"type\":\"CDSView\"}},\"id\":\"f538c193-3128-4e04-bf6b-ffd03ef06797\",\"type\":\"GlyphRenderer\"},{\"attributes\":{\"fill_color\":{\"value\":\"#1f77b4\"},\"height\":{\"units\":\"data\",\"value\":0.4},\"line_color\":{\"value\":\"#1f77b4\"},\"width\":{\"units\":\"data\",\"value\":22},\"x\":{\"value\":11.0},\"y\":{\"value\":2}},\"id\":\"9b4f2085-6205-462b-83c3-3fa0ceaf95f7\",\"type\":\"Rect\"},{\"attributes\":{\"callback\":null,\"data\":{}},\"id\":\"aa87e040-ad16-4b31-9883-77d46c2a4fcf\",\"type\":\"ColumnDataSource\"},{\"attributes\":{\"callback\":null,\"data\":{}},\"id\":\"042a00fa-2776-4328-b223-01219e4cd38d\",\"type\":\"ColumnDataSource\"},{\"attributes\":{\"data_source\":{\"id\":\"aa87e040-ad16-4b31-9883-77d46c2a4fcf\",\"type\":\"ColumnDataSource\"},\"glyph\":{\"id\":\"9b4f2085-6205-462b-83c3-3fa0ceaf95f7\",\"type\":\"Rect\"},\"hover_glyph\":null,\"muted_glyph\":null,\"nonselection_glyph\":{\"id\":\"82b08964-e889-481e-814d-fd6d8f6670fd\",\"type\":\"Rect\"},\"selection_glyph\":null,\"view\":{\"id\":\"7a8bca84-c024-425e-907c-8e20add397f6\",\"type\":\"CDSView\"}},\"id\":\"60911ca6-95ff-4780-a040-e873bb395d97\",\"type\":\"GlyphRenderer\"},{\"attributes\":{\"source\":{\"id\":\"7690ad43-9c07-4110-9a90-fee1a8d3cdbd\",\"type\":\"ColumnDataSource\"}},\"id\":\"331bebf9-8a81-48db-880e-d000a2e28093\",\"type\":\"CDSView\"},{\"attributes\":{\"fill_color\":{\"value\":\"#1f77b4\"},\"height\":{\"units\":\"data\",\"value\":0.4},\"line_color\":{\"value\":\"#1f77b4\"},\"width\":{\"units\":\"data\",\"value\":23},\"x\":{\"value\":11.5},\"y\":{\"value\":3}},\"id\":\"927dad7b-bfe0-4be2-82be-7c903b03a2e8\",\"type\":\"Rect\"},{\"attributes\":{\"fill_alpha\":{\"value\":0.1},\"fill_color\":{\"value\":\"#1f77b4\"},\"height\":{\"units\":\"data\",\"value\":0.4},\"line_alpha\":{\"value\":0.1},\"line_color\":{\"value\":\"#1f77b4\"},\"width\":{\"units\":\"data\",\"value\":130},\"x\":{\"value\":65.0},\"y\":{\"value\":17}},\"id\":\"b42ff949-7b30-4602-96e9-0916794c3d82\",\"type\":\"Rect\"},{\"attributes\":{\"source\":{\"id\":\"aa87e040-ad16-4b31-9883-77d46c2a4fcf\",\"type\":\"ColumnDataSource\"}},\"id\":\"7a8bca84-c024-425e-907c-8e20add397f6\",\"type\":\"CDSView\"},{\"attributes\":{\"fill_color\":{\"value\":\"#1f77b4\"},\"height\":{\"units\":\"data\",\"value\":0.4},\"line_color\":{\"value\":\"#1f77b4\"},\"width\":{\"units\":\"data\",\"value\":184},\"x\":{\"value\":92.0},\"y\":{\"value\":18}},\"id\":\"390c250d-9981-4601-8053-178e8ceab3b6\",\"type\":\"Rect\"},{\"attributes\":{\"data_source\":{\"id\":\"042a00fa-2776-4328-b223-01219e4cd38d\",\"type\":\"ColumnDataSource\"},\"glyph\":{\"id\":\"2915fc99-10f8-4f00-9ad7-5e6ac12284de\",\"type\":\"Rect\"},\"hover_glyph\":null,\"muted_glyph\":null,\"nonselection_glyph\":{\"id\":\"b42ff949-7b30-4602-96e9-0916794c3d82\",\"type\":\"Rect\"},\"selection_glyph\":null,\"view\":{\"id\":\"9e41ab7b-bb4c-4459-aeaa-d2b54f731dfe\",\"type\":\"CDSView\"}},\"id\":\"d845cd30-e4c3-4a40-8aea-60ce93f4d3c9\",\"type\":\"GlyphRenderer\"},{\"attributes\":{\"fill_alpha\":{\"value\":0.1},\"fill_color\":{\"value\":\"#1f77b4\"},\"height\":{\"units\":\"data\",\"value\":0.4},\"line_alpha\":{\"value\":0.1},\"line_color\":{\"value\":\"#1f77b4\"},\"width\":{\"units\":\"data\",\"value\":23},\"x\":{\"value\":11.5},\"y\":{\"value\":3}},\"id\":\"14d878fd-e1c2-4aa4-b3d5-e8385e775dd6\",\"type\":\"Rect\"},{\"attributes\":{\"fill_color\":{\"value\":\"#1f77b4\"},\"height\":{\"units\":\"data\",\"value\":0.4},\"line_color\":{\"value\":\"#1f77b4\"},\"width\":{\"units\":\"data\",\"value\":26},\"x\":{\"value\":13.0},\"y\":{\"value\":4}},\"id\":\"6ee044fe-b888-4ffd-bafb-da9a48602883\",\"type\":\"Rect\"},{\"attributes\":{\"callback\":null,\"data\":{}},\"id\":\"bef1231b-a1bb-44e0-8a08-d22d1cde7b9b\",\"type\":\"ColumnDataSource\"},{\"attributes\":{\"data_source\":{\"id\":\"d5c8a70b-9f5c-4bad-8947-285e371a65c6\",\"type\":\"ColumnDataSource\"},\"glyph\":{\"id\":\"927dad7b-bfe0-4be2-82be-7c903b03a2e8\",\"type\":\"Rect\"},\"hover_glyph\":null,\"muted_glyph\":null,\"nonselection_glyph\":{\"id\":\"14d878fd-e1c2-4aa4-b3d5-e8385e775dd6\",\"type\":\"Rect\"},\"selection_glyph\":null,\"view\":{\"id\":\"533bf2f6-263b-422a-a303-5cb20fa3df19\",\"type\":\"CDSView\"}},\"id\":\"b2b2c138-2ab8-40d5-bab2-7bf8e39bae1b\",\"type\":\"GlyphRenderer\"},{\"attributes\":{\"source\":{\"id\":\"042a00fa-2776-4328-b223-01219e4cd38d\",\"type\":\"ColumnDataSource\"}},\"id\":\"9e41ab7b-bb4c-4459-aeaa-d2b54f731dfe\",\"type\":\"CDSView\"},{\"attributes\":{\"callback\":null,\"data\":{}},\"id\":\"20b00725-0175-41f9-ad44-934336a56287\",\"type\":\"ColumnDataSource\"},{\"attributes\":{\"fill_alpha\":{\"value\":0.1},\"fill_color\":{\"value\":\"#1f77b4\"},\"height\":{\"units\":\"data\",\"value\":0.4},\"line_alpha\":{\"value\":0.1},\"line_color\":{\"value\":\"#1f77b4\"},\"width\":{\"units\":\"data\",\"value\":184},\"x\":{\"value\":92.0},\"y\":{\"value\":18}},\"id\":\"3053bc36-3562-411c-baa6-df6928efda03\",\"type\":\"Rect\"},{\"attributes\":{\"source\":{\"id\":\"d5c8a70b-9f5c-4bad-8947-285e371a65c6\",\"type\":\"ColumnDataSource\"}},\"id\":\"533bf2f6-263b-422a-a303-5cb20fa3df19\",\"type\":\"CDSView\"},{\"attributes\":{\"fill_color\":{\"value\":\"#1f77b4\"},\"height\":{\"units\":\"data\",\"value\":0.4},\"line_color\":{\"value\":\"#1f77b4\"},\"width\":{\"units\":\"data\",\"value\":206},\"x\":{\"value\":103.0},\"y\":{\"value\":19}},\"id\":\"8f7cc1ef-a922-442d-8644-db15426e58d8\",\"type\":\"Rect\"},{\"attributes\":{\"data_source\":{\"id\":\"bef1231b-a1bb-44e0-8a08-d22d1cde7b9b\",\"type\":\"ColumnDataSource\"},\"glyph\":{\"id\":\"390c250d-9981-4601-8053-178e8ceab3b6\",\"type\":\"Rect\"},\"hover_glyph\":null,\"muted_glyph\":null,\"nonselection_glyph\":{\"id\":\"3053bc36-3562-411c-baa6-df6928efda03\",\"type\":\"Rect\"},\"selection_glyph\":null,\"view\":{\"id\":\"0d440108-9f4e-477c-b926-8f4d38641e7d\",\"type\":\"CDSView\"}},\"id\":\"c23782bc-a46d-4009-9bd2-bc706d4d2451\",\"type\":\"GlyphRenderer\"},{\"attributes\":{\"fill_alpha\":{\"value\":0.1},\"fill_color\":{\"value\":\"#1f77b4\"},\"height\":{\"units\":\"data\",\"value\":0.4},\"line_alpha\":{\"value\":0.1},\"line_color\":{\"value\":\"#1f77b4\"},\"width\":{\"units\":\"data\",\"value\":26},\"x\":{\"value\":13.0},\"y\":{\"value\":4}},\"id\":\"6ed7682b-8981-4776-ac09-0bc08de7c127\",\"type\":\"Rect\"},{\"attributes\":{\"fill_color\":{\"value\":\"#1f77b4\"},\"height\":{\"units\":\"data\",\"value\":0.4},\"line_color\":{\"value\":\"#1f77b4\"},\"width\":{\"units\":\"data\",\"value\":26},\"x\":{\"value\":13.0},\"y\":{\"value\":5}},\"id\":\"e551e4d1-ea67-4f9d-a806-4ff11bb932e1\",\"type\":\"Rect\"},{\"attributes\":{\"callback\":null,\"data\":{}},\"id\":\"5ecc92c2-420e-4824-9626-15c277e182ea\",\"type\":\"ColumnDataSource\"},{\"attributes\":{\"source\":{\"id\":\"bda294c9-290a-42f6-b967-6f8e79b37bc9\",\"type\":\"ColumnDataSource\"}},\"id\":\"9b1ecb8e-dc31-4861-a34f-0ec7c52145dd\",\"type\":\"CDSView\"},{\"attributes\":{\"data_source\":{\"id\":\"20b00725-0175-41f9-ad44-934336a56287\",\"type\":\"ColumnDataSource\"},\"glyph\":{\"id\":\"6ee044fe-b888-4ffd-bafb-da9a48602883\",\"type\":\"Rect\"},\"hover_glyph\":null,\"muted_glyph\":null,\"nonselection_glyph\":{\"id\":\"6ed7682b-8981-4776-ac09-0bc08de7c127\",\"type\":\"Rect\"},\"selection_glyph\":null,\"view\":{\"id\":\"22c1b31a-552b-48aa-8574-0f397fc43a42\",\"type\":\"CDSView\"}},\"id\":\"a5fe60b7-b3a0-4934-96c6-257bcc2e0c5f\",\"type\":\"GlyphRenderer\"},{\"attributes\":{\"source\":{\"id\":\"bef1231b-a1bb-44e0-8a08-d22d1cde7b9b\",\"type\":\"ColumnDataSource\"}},\"id\":\"0d440108-9f4e-477c-b926-8f4d38641e7d\",\"type\":\"CDSView\"},{\"attributes\":{\"callback\":null,\"data\":{}},\"id\":\"e7429cae-55e4-41f6-9d1a-66af0a286ff2\",\"type\":\"ColumnDataSource\"},{\"attributes\":{\"fill_alpha\":{\"value\":0.1},\"fill_color\":{\"value\":\"#1f77b4\"},\"height\":{\"units\":\"data\",\"value\":0.4},\"line_alpha\":{\"value\":0.1},\"line_color\":{\"value\":\"#1f77b4\"},\"width\":{\"units\":\"data\",\"value\":206},\"x\":{\"value\":103.0},\"y\":{\"value\":19}},\"id\":\"faf57b3f-7299-4110-9797-726030f190dd\",\"type\":\"Rect\"},{\"attributes\":{\"source\":{\"id\":\"20b00725-0175-41f9-ad44-934336a56287\",\"type\":\"ColumnDataSource\"}},\"id\":\"22c1b31a-552b-48aa-8574-0f397fc43a42\",\"type\":\"CDSView\"},{\"attributes\":{\"fill_color\":{\"value\":\"#1f77b4\"},\"height\":{\"units\":\"data\",\"value\":0.4},\"line_color\":{\"value\":\"#1f77b4\"},\"width\":{\"units\":\"data\",\"value\":281},\"x\":{\"value\":140.5},\"y\":{\"value\":20}},\"id\":\"513dc359-3f84-45e2-a5e1-368e4f625636\",\"type\":\"Rect\"},{\"attributes\":{\"data_source\":{\"id\":\"5ecc92c2-420e-4824-9626-15c277e182ea\",\"type\":\"ColumnDataSource\"},\"glyph\":{\"id\":\"8f7cc1ef-a922-442d-8644-db15426e58d8\",\"type\":\"Rect\"},\"hover_glyph\":null,\"muted_glyph\":null,\"nonselection_glyph\":{\"id\":\"faf57b3f-7299-4110-9797-726030f190dd\",\"type\":\"Rect\"},\"selection_glyph\":null,\"view\":{\"id\":\"395299eb-0870-4866-84ce-70a9e00a945a\",\"type\":\"CDSView\"}},\"id\":\"72194121-2987-48a4-b68e-8d3f2fed3c0e\",\"type\":\"GlyphRenderer\"},{\"attributes\":{\"fill_alpha\":{\"value\":0.1},\"fill_color\":{\"value\":\"#1f77b4\"},\"height\":{\"units\":\"data\",\"value\":0.4},\"line_alpha\":{\"value\":0.1},\"line_color\":{\"value\":\"#1f77b4\"},\"width\":{\"units\":\"data\",\"value\":26},\"x\":{\"value\":13.0},\"y\":{\"value\":5}},\"id\":\"1689c0b7-3a75-4e98-b152-9d4e217f9fca\",\"type\":\"Rect\"},{\"attributes\":{\"fill_color\":{\"value\":\"#1f77b4\"},\"height\":{\"units\":\"data\",\"value\":0.4},\"line_color\":{\"value\":\"#1f77b4\"},\"width\":{\"units\":\"data\",\"value\":27},\"x\":{\"value\":13.5},\"y\":{\"value\":6}},\"id\":\"de9d293a-41df-40f0-af09-1ab6ea4891cf\",\"type\":\"Rect\"},{\"attributes\":{\"callback\":null,\"data\":{}},\"id\":\"237093e6-69ce-4400-9ecb-28280cc7b09c\",\"type\":\"ColumnDataSource\"},{\"attributes\":{\"data_source\":{\"id\":\"e7429cae-55e4-41f6-9d1a-66af0a286ff2\",\"type\":\"ColumnDataSource\"},\"glyph\":{\"id\":\"e551e4d1-ea67-4f9d-a806-4ff11bb932e1\",\"type\":\"Rect\"},\"hover_glyph\":null,\"muted_glyph\":null,\"nonselection_glyph\":{\"id\":\"1689c0b7-3a75-4e98-b152-9d4e217f9fca\",\"type\":\"Rect\"},\"selection_glyph\":null,\"view\":{\"id\":\"ffdb0cee-70c4-4097-b084-4da01ba16954\",\"type\":\"CDSView\"}},\"id\":\"e0b01e33-0ccd-4f86-b8aa-85d31cff52ad\",\"type\":\"GlyphRenderer\"},{\"attributes\":{\"source\":{\"id\":\"5ecc92c2-420e-4824-9626-15c277e182ea\",\"type\":\"ColumnDataSource\"}},\"id\":\"395299eb-0870-4866-84ce-70a9e00a945a\",\"type\":\"CDSView\"},{\"attributes\":{\"callback\":null,\"data\":{}},\"id\":\"8ce7fef7-7a1f-42bf-b545-5ce7a6340481\",\"type\":\"ColumnDataSource\"},{\"attributes\":{\"callback\":null,\"data\":{}},\"id\":\"e8769684-29f8-4ff5-80e3-1ed0c377809b\",\"type\":\"ColumnDataSource\"},{\"attributes\":{\"fill_alpha\":{\"value\":0.1},\"fill_color\":{\"value\":\"#1f77b4\"},\"height\":{\"units\":\"data\",\"value\":0.4},\"line_alpha\":{\"value\":0.1},\"line_color\":{\"value\":\"#1f77b4\"},\"width\":{\"units\":\"data\",\"value\":281},\"x\":{\"value\":140.5},\"y\":{\"value\":20}},\"id\":\"1dc8ad91-7748-41c7-89cd-1ea49a248add\",\"type\":\"Rect\"},{\"attributes\":{\"source\":{\"id\":\"e7429cae-55e4-41f6-9d1a-66af0a286ff2\",\"type\":\"ColumnDataSource\"}},\"id\":\"ffdb0cee-70c4-4097-b084-4da01ba16954\",\"type\":\"CDSView\"},{\"attributes\":{\"fill_color\":{\"value\":\"#1f77b4\"},\"height\":{\"units\":\"data\",\"value\":0.4},\"line_color\":{\"value\":\"#1f77b4\"},\"width\":{\"units\":\"data\",\"value\":357},\"x\":{\"value\":178.5},\"y\":{\"value\":21}},\"id\":\"8cc1105a-38f4-40bc-8869-d9745be6ecbc\",\"type\":\"Rect\"},{\"attributes\":{\"fill_alpha\":{\"value\":0.1},\"fill_color\":{\"value\":\"#1f77b4\"},\"height\":{\"units\":\"data\",\"value\":0.4},\"line_alpha\":{\"value\":0.1},\"line_color\":{\"value\":\"#1f77b4\"},\"width\":{\"units\":\"data\",\"value\":27},\"x\":{\"value\":13.5},\"y\":{\"value\":6}},\"id\":\"a1f196e6-02a1-4082-959b-4e6279e46b07\",\"type\":\"Rect\"},{\"attributes\":{\"data_source\":{\"id\":\"237093e6-69ce-4400-9ecb-28280cc7b09c\",\"type\":\"ColumnDataSource\"},\"glyph\":{\"id\":\"513dc359-3f84-45e2-a5e1-368e4f625636\",\"type\":\"Rect\"},\"hover_glyph\":null,\"muted_glyph\":null,\"nonselection_glyph\":{\"id\":\"1dc8ad91-7748-41c7-89cd-1ea49a248add\",\"type\":\"Rect\"},\"selection_glyph\":null,\"view\":{\"id\":\"90a916e5-7851-4b45-a0c5-72e7e39f8972\",\"type\":\"CDSView\"}},\"id\":\"0ff1b958-e392-4027-934a-418ea6778f93\",\"type\":\"GlyphRenderer\"},{\"attributes\":{\"fill_color\":{\"value\":\"#1f77b4\"},\"height\":{\"units\":\"data\",\"value\":0.4},\"line_color\":{\"value\":\"#1f77b4\"},\"width\":{\"units\":\"data\",\"value\":29},\"x\":{\"value\":14.5},\"y\":{\"value\":7}},\"id\":\"96486c0b-496a-451e-a122-66bdd917c4bf\",\"type\":\"Rect\"},{\"attributes\":{\"callback\":null,\"data\":{}},\"id\":\"0dd110b8-8d1b-4b31-9db8-c5efb8fad741\",\"type\":\"ColumnDataSource\"},{\"attributes\":{\"data_source\":{\"id\":\"e8769684-29f8-4ff5-80e3-1ed0c377809b\",\"type\":\"ColumnDataSource\"},\"glyph\":{\"id\":\"de9d293a-41df-40f0-af09-1ab6ea4891cf\",\"type\":\"Rect\"},\"hover_glyph\":null,\"muted_glyph\":null,\"nonselection_glyph\":{\"id\":\"a1f196e6-02a1-4082-959b-4e6279e46b07\",\"type\":\"Rect\"},\"selection_glyph\":null,\"view\":{\"id\":\"01b4c7c4-1f05-46e4-840e-aec56a941d31\",\"type\":\"CDSView\"}},\"id\":\"03e6b723-e899-4c01-a77e-6c73d56458d1\",\"type\":\"GlyphRenderer\"},{\"attributes\":{\"source\":{\"id\":\"237093e6-69ce-4400-9ecb-28280cc7b09c\",\"type\":\"ColumnDataSource\"}},\"id\":\"90a916e5-7851-4b45-a0c5-72e7e39f8972\",\"type\":\"CDSView\"},{\"attributes\":{\"callback\":null,\"data\":{}},\"id\":\"76699e64-b14c-49b9-8b1b-4db6f5aa107f\",\"type\":\"ColumnDataSource\"},{\"attributes\":{\"fill_alpha\":{\"value\":0.1},\"fill_color\":{\"value\":\"#1f77b4\"},\"height\":{\"units\":\"data\",\"value\":0.4},\"line_alpha\":{\"value\":0.1},\"line_color\":{\"value\":\"#1f77b4\"},\"width\":{\"units\":\"data\",\"value\":357},\"x\":{\"value\":178.5},\"y\":{\"value\":21}},\"id\":\"fe5ecbc5-a420-43c7-bad6-4945e980d290\",\"type\":\"Rect\"},{\"attributes\":{\"source\":{\"id\":\"e8769684-29f8-4ff5-80e3-1ed0c377809b\",\"type\":\"ColumnDataSource\"}},\"id\":\"01b4c7c4-1f05-46e4-840e-aec56a941d31\",\"type\":\"CDSView\"},{\"attributes\":{\"fill_color\":{\"value\":\"#1f77b4\"},\"height\":{\"units\":\"data\",\"value\":0.4},\"line_color\":{\"value\":\"#1f77b4\"},\"width\":{\"units\":\"data\",\"value\":385},\"x\":{\"value\":192.5},\"y\":{\"value\":22}},\"id\":\"d7de06cf-41c5-4d07-871a-51b16f7427a9\",\"type\":\"Rect\"},{\"attributes\":{\"data_source\":{\"id\":\"0dd110b8-8d1b-4b31-9db8-c5efb8fad741\",\"type\":\"ColumnDataSource\"},\"glyph\":{\"id\":\"8cc1105a-38f4-40bc-8869-d9745be6ecbc\",\"type\":\"Rect\"},\"hover_glyph\":null,\"muted_glyph\":null,\"nonselection_glyph\":{\"id\":\"fe5ecbc5-a420-43c7-bad6-4945e980d290\",\"type\":\"Rect\"},\"selection_glyph\":null,\"view\":{\"id\":\"b7d44a88-b73f-40a2-aab2-9fa86e3853d9\",\"type\":\"CDSView\"}},\"id\":\"ab057d1f-4451-4345-bbd3-25112cbc301d\",\"type\":\"GlyphRenderer\"},{\"attributes\":{\"fill_alpha\":{\"value\":0.1},\"fill_color\":{\"value\":\"#1f77b4\"},\"height\":{\"units\":\"data\",\"value\":0.4},\"line_alpha\":{\"value\":0.1},\"line_color\":{\"value\":\"#1f77b4\"},\"width\":{\"units\":\"data\",\"value\":29},\"x\":{\"value\":14.5},\"y\":{\"value\":7}},\"id\":\"dc01d0b3-c014-4cba-8c33-131059375ac9\",\"type\":\"Rect\"},{\"attributes\":{\"fill_color\":{\"value\":\"#1f77b4\"},\"height\":{\"units\":\"data\",\"value\":0.4},\"line_color\":{\"value\":\"#1f77b4\"},\"width\":{\"units\":\"data\",\"value\":32},\"x\":{\"value\":16.0},\"y\":{\"value\":8}},\"id\":\"64cb2152-6a21-46d7-b579-433948dde6b3\",\"type\":\"Rect\"},{\"attributes\":{\"callback\":null,\"data\":{}},\"id\":\"ba2336d8-a11b-496b-b649-0f592648d5d8\",\"type\":\"ColumnDataSource\"},{\"attributes\":{\"data_source\":{\"id\":\"76699e64-b14c-49b9-8b1b-4db6f5aa107f\",\"type\":\"ColumnDataSource\"},\"glyph\":{\"id\":\"96486c0b-496a-451e-a122-66bdd917c4bf\",\"type\":\"Rect\"},\"hover_glyph\":null,\"muted_glyph\":null,\"nonselection_glyph\":{\"id\":\"dc01d0b3-c014-4cba-8c33-131059375ac9\",\"type\":\"Rect\"},\"selection_glyph\":null,\"view\":{\"id\":\"e876df9e-3b2f-4550-81ad-3c0866a7c09a\",\"type\":\"CDSView\"}},\"id\":\"658f8ca0-ebc3-434b-a77f-a12f8f446eae\",\"type\":\"GlyphRenderer\"},{\"attributes\":{\"source\":{\"id\":\"0dd110b8-8d1b-4b31-9db8-c5efb8fad741\",\"type\":\"ColumnDataSource\"}},\"id\":\"b7d44a88-b73f-40a2-aab2-9fa86e3853d9\",\"type\":\"CDSView\"},{\"attributes\":{\"callback\":null,\"data\":{}},\"id\":\"2f26beca-daf1-41f2-a4e0-34457a2d4b09\",\"type\":\"ColumnDataSource\"},{\"attributes\":{\"fill_alpha\":{\"value\":0.1},\"fill_color\":{\"value\":\"#1f77b4\"},\"height\":{\"units\":\"data\",\"value\":0.4},\"line_alpha\":{\"value\":0.1},\"line_color\":{\"value\":\"#1f77b4\"},\"width\":{\"units\":\"data\",\"value\":385},\"x\":{\"value\":192.5},\"y\":{\"value\":22}},\"id\":\"a5b71461-4797-4d9e-a82f-9557f747c206\",\"type\":\"Rect\"},{\"attributes\":{\"source\":{\"id\":\"76699e64-b14c-49b9-8b1b-4db6f5aa107f\",\"type\":\"ColumnDataSource\"}},\"id\":\"e876df9e-3b2f-4550-81ad-3c0866a7c09a\",\"type\":\"CDSView\"},{\"attributes\":{\"fill_color\":{\"value\":\"#1f77b4\"},\"height\":{\"units\":\"data\",\"value\":0.4},\"line_color\":{\"value\":\"#1f77b4\"},\"width\":{\"units\":\"data\",\"value\":523},\"x\":{\"value\":261.5},\"y\":{\"value\":23}},\"id\":\"bef61723-ac10-4ebb-81ff-dc7daaeb2d1a\",\"type\":\"Rect\"},{\"attributes\":{\"data_source\":{\"id\":\"ba2336d8-a11b-496b-b649-0f592648d5d8\",\"type\":\"ColumnDataSource\"},\"glyph\":{\"id\":\"d7de06cf-41c5-4d07-871a-51b16f7427a9\",\"type\":\"Rect\"},\"hover_glyph\":null,\"muted_glyph\":null,\"nonselection_glyph\":{\"id\":\"a5b71461-4797-4d9e-a82f-9557f747c206\",\"type\":\"Rect\"},\"selection_glyph\":null,\"view\":{\"id\":\"8e2ff575-3488-4b94-9bc5-ee2a74687876\",\"type\":\"CDSView\"}},\"id\":\"90c6afe0-5dcd-4862-8293-0fd81e823dbf\",\"type\":\"GlyphRenderer\"},{\"attributes\":{\"fill_alpha\":{\"value\":0.1},\"fill_color\":{\"value\":\"#1f77b4\"},\"height\":{\"units\":\"data\",\"value\":0.4},\"line_alpha\":{\"value\":0.1},\"line_color\":{\"value\":\"#1f77b4\"},\"width\":{\"units\":\"data\",\"value\":32},\"x\":{\"value\":16.0},\"y\":{\"value\":8}},\"id\":\"9d384cd2-b2ed-43c1-aa78-8db8d0b6aef8\",\"type\":\"Rect\"},{\"attributes\":{\"fill_color\":{\"value\":\"#1f77b4\"},\"height\":{\"units\":\"data\",\"value\":0.4},\"line_color\":{\"value\":\"#1f77b4\"},\"width\":{\"units\":\"data\",\"value\":41},\"x\":{\"value\":20.5},\"y\":{\"value\":9}},\"id\":\"3f23d229-e7b0-4e08-b545-52ea8cb8d0a9\",\"type\":\"Rect\"},{\"attributes\":{\"callback\":null,\"data\":{}},\"id\":\"1eabdc2c-999a-4f93-96f2-baec99ec3c43\",\"type\":\"ColumnDataSource\"},{\"attributes\":{\"data_source\":{\"id\":\"2f26beca-daf1-41f2-a4e0-34457a2d4b09\",\"type\":\"ColumnDataSource\"},\"glyph\":{\"id\":\"64cb2152-6a21-46d7-b579-433948dde6b3\",\"type\":\"Rect\"},\"hover_glyph\":null,\"muted_glyph\":null,\"nonselection_glyph\":{\"id\":\"9d384cd2-b2ed-43c1-aa78-8db8d0b6aef8\",\"type\":\"Rect\"},\"selection_glyph\":null,\"view\":{\"id\":\"43e3df18-ca0e-43b6-82ce-cd696fd6e119\",\"type\":\"CDSView\"}},\"id\":\"d0699464-286c-4476-bb32-201418e55b7e\",\"type\":\"GlyphRenderer\"},{\"attributes\":{\"source\":{\"id\":\"ba2336d8-a11b-496b-b649-0f592648d5d8\",\"type\":\"ColumnDataSource\"}},\"id\":\"8e2ff575-3488-4b94-9bc5-ee2a74687876\",\"type\":\"CDSView\"},{\"attributes\":{\"plot\":null,\"text\":\"Weaknesses Histogram\"},\"id\":\"e563e792-3897-41a7-80d6-34990394ef02\",\"type\":\"Title\"},{\"attributes\":{\"callback\":null,\"data\":{}},\"id\":\"bc20c287-e99c-4a0b-b802-7f3f0b6a550e\",\"type\":\"ColumnDataSource\"},{\"attributes\":{\"fill_alpha\":{\"value\":0.1},\"fill_color\":{\"value\":\"#1f77b4\"},\"height\":{\"units\":\"data\",\"value\":0.4},\"line_alpha\":{\"value\":0.1},\"line_color\":{\"value\":\"#1f77b4\"},\"width\":{\"units\":\"data\",\"value\":523},\"x\":{\"value\":261.5},\"y\":{\"value\":23}},\"id\":\"ea97f3fd-aac4-4324-8d02-9baef107b935\",\"type\":\"Rect\"},{\"attributes\":{\"below\":[{\"id\":\"43ae41ee-e36a-4b71-8a35-788ae2d36c3c\",\"type\":\"LinearAxis\"}],\"left\":[{\"id\":\"e330def0-3e3d-432f-9640-e192aea2274b\",\"type\":\"CategoricalAxis\"}],\"plot_width\":800,\"renderers\":[{\"id\":\"43ae41ee-e36a-4b71-8a35-788ae2d36c3c\",\"type\":\"LinearAxis\"},{\"id\":\"6fd3e80e-a0e3-4f76-912c-fcb976583620\",\"type\":\"Grid\"},{\"id\":\"e330def0-3e3d-432f-9640-e192aea2274b\",\"type\":\"CategoricalAxis\"},{\"id\":\"4bf567d3-53a3-40c9-82fb-158bef9ae532\",\"type\":\"Grid\"},{\"id\":\"75b10369-a6d5-44b6-a47c-e28f9e21517d\",\"type\":\"BoxAnnotation\"},{\"id\":\"bbcdb174-ab9d-4731-ac2b-ea0f735cfdbd\",\"type\":\"GlyphRenderer\"},{\"id\":\"60911ca6-95ff-4780-a040-e873bb395d97\",\"type\":\"GlyphRenderer\"},{\"id\":\"b2b2c138-2ab8-40d5-bab2-7bf8e39bae1b\",\"type\":\"GlyphRenderer\"},{\"id\":\"a5fe60b7-b3a0-4934-96c6-257bcc2e0c5f\",\"type\":\"GlyphRenderer\"},{\"id\":\"e0b01e33-0ccd-4f86-b8aa-85d31cff52ad\",\"type\":\"GlyphRenderer\"},{\"id\":\"03e6b723-e899-4c01-a77e-6c73d56458d1\",\"type\":\"GlyphRenderer\"},{\"id\":\"658f8ca0-ebc3-434b-a77f-a12f8f446eae\",\"type\":\"GlyphRenderer\"},{\"id\":\"d0699464-286c-4476-bb32-201418e55b7e\",\"type\":\"GlyphRenderer\"},{\"id\":\"a4b6e24d-9e16-4017-9e7a-a0232a630191\",\"type\":\"GlyphRenderer\"},{\"id\":\"478075c5-40ca-4326-ab4e-4efc48d1c146\",\"type\":\"GlyphRenderer\"},{\"id\":\"9eb8da71-5187-4ead-b351-8ae9ac9a69b2\",\"type\":\"GlyphRenderer\"},{\"id\":\"730d767d-3c51-46f1-8304-2ab0a8a4b0c0\",\"type\":\"GlyphRenderer\"},{\"id\":\"b6e97ec6-d618-4823-ac15-0d55673f8834\",\"type\":\"GlyphRenderer\"},{\"id\":\"03b41c02-3218-4c97-98cf-f049711af46c\",\"type\":\"GlyphRenderer\"},{\"id\":\"dc286ae5-2088-42d9-92dc-81a6959ebe91\",\"type\":\"GlyphRenderer\"},{\"id\":\"f538c193-3128-4e04-bf6b-ffd03ef06797\",\"type\":\"GlyphRenderer\"},{\"id\":\"d845cd30-e4c3-4a40-8aea-60ce93f4d3c9\",\"type\":\"GlyphRenderer\"},{\"id\":\"c23782bc-a46d-4009-9bd2-bc706d4d2451\",\"type\":\"GlyphRenderer\"},{\"id\":\"72194121-2987-48a4-b68e-8d3f2fed3c0e\",\"type\":\"GlyphRenderer\"},{\"id\":\"0ff1b958-e392-4027-934a-418ea6778f93\",\"type\":\"GlyphRenderer\"},{\"id\":\"ab057d1f-4451-4345-bbd3-25112cbc301d\",\"type\":\"GlyphRenderer\"},{\"id\":\"90c6afe0-5dcd-4862-8293-0fd81e823dbf\",\"type\":\"GlyphRenderer\"},{\"id\":\"4f1d9f23-096b-40b2-848e-b7bb666646eb\",\"type\":\"GlyphRenderer\"},{\"id\":\"0906c903-fc35-42e6-8f05-466516fd4847\",\"type\":\"GlyphRenderer\"},{\"id\":\"13d9cf07-66e1-40f0-ab2a-36d4ae1862a5\",\"type\":\"GlyphRenderer\"},{\"id\":\"70770f42-173b-4ca6-b084-9d4a892263d5\",\"type\":\"GlyphRenderer\"},{\"id\":\"803c9ddb-b133-4dd9-8fde-7acf4ed9f4bd\",\"type\":\"GlyphRenderer\"},{\"id\":\"fedfa980-4a43-4767-a18b-86ddd9a53bba\",\"type\":\"GlyphRenderer\"},{\"id\":\"df81e002-b632-477d-8bb9-c7f829873540\",\"type\":\"GlyphRenderer\"},{\"id\":\"53748ed2-4fc9-42e7-b577-98bf605be27c\",\"type\":\"GlyphRenderer\"}],\"title\":{\"id\":\"e563e792-3897-41a7-80d6-34990394ef02\",\"type\":\"Title\"},\"toolbar\":{\"id\":\"5ffbdcd2-af62-4ce0-9c04-fd9a502ddc5a\",\"type\":\"Toolbar\"},\"x_range\":{\"id\":\"6f8e239d-8f52-4f84-93a5-4bb16f64f51d\",\"type\":\"DataRange1d\"},\"x_scale\":{\"id\":\"db775d47-a80a-4e8c-b55b-4407cee6bba6\",\"type\":\"LinearScale\"},\"y_range\":{\"id\":\"a9016867-fbc4-4a41-986e-5302ca26477e\",\"type\":\"FactorRange\"},\"y_scale\":{\"id\":\"08b613be-9bb4-4d5d-8af8-0b1f7926317b\",\"type\":\"CategoricalScale\"}},\"id\":\"ad84f443-cb10-41f8-b6b5-82fdf8e507d9\",\"subtype\":\"Figure\",\"type\":\"Plot\"},{\"attributes\":{\"callback\":null},\"id\":\"6f8e239d-8f52-4f84-93a5-4bb16f64f51d\",\"type\":\"DataRange1d\"},{\"attributes\":{\"source\":{\"id\":\"2f26beca-daf1-41f2-a4e0-34457a2d4b09\",\"type\":\"ColumnDataSource\"}},\"id\":\"43e3df18-ca0e-43b6-82ce-cd696fd6e119\",\"type\":\"CDSView\"},{\"attributes\":{\"fill_color\":{\"value\":\"#1f77b4\"},\"height\":{\"units\":\"data\",\"value\":0.4},\"line_color\":{\"value\":\"#1f77b4\"},\"width\":{\"units\":\"data\",\"value\":556},\"x\":{\"value\":278.0},\"y\":{\"value\":24}},\"id\":\"cc6c3d0a-d93d-4e69-a46f-f64b85738d88\",\"type\":\"Rect\"},{\"attributes\":{\"data_source\":{\"id\":\"1eabdc2c-999a-4f93-96f2-baec99ec3c43\",\"type\":\"ColumnDataSource\"},\"glyph\":{\"id\":\"bef61723-ac10-4ebb-81ff-dc7daaeb2d1a\",\"type\":\"Rect\"},\"hover_glyph\":null,\"muted_glyph\":null,\"nonselection_glyph\":{\"id\":\"ea97f3fd-aac4-4324-8d02-9baef107b935\",\"type\":\"Rect\"},\"selection_glyph\":null,\"view\":{\"id\":\"2f2e2aa1-5fd6-4bd9-9380-0646a227079a\",\"type\":\"CDSView\"}},\"id\":\"4f1d9f23-096b-40b2-848e-b7bb666646eb\",\"type\":\"GlyphRenderer\"},{\"attributes\":{\"fill_alpha\":{\"value\":0.1},\"fill_color\":{\"value\":\"#1f77b4\"},\"height\":{\"units\":\"data\",\"value\":0.4},\"line_alpha\":{\"value\":0.1},\"line_color\":{\"value\":\"#1f77b4\"},\"width\":{\"units\":\"data\",\"value\":41},\"x\":{\"value\":20.5},\"y\":{\"value\":9}},\"id\":\"2485884d-e506-4123-ac6b-655365d3f557\",\"type\":\"Rect\"},{\"attributes\":{\"fill_color\":{\"value\":\"#1f77b4\"},\"height\":{\"units\":\"data\",\"value\":0.4},\"line_color\":{\"value\":\"#1f77b4\"},\"width\":{\"units\":\"data\",\"value\":50},\"x\":{\"value\":25.0},\"y\":{\"value\":10}},\"id\":\"93d39ab8-1fee-42ac-84b9-d36a3b9c79f8\",\"type\":\"Rect\"},{\"attributes\":{\"callback\":null,\"data\":{}},\"id\":\"d9f0d885-70c5-441f-91a1-18084cd05af7\",\"type\":\"ColumnDataSource\"},{\"attributes\":{\"data_source\":{\"id\":\"bc20c287-e99c-4a0b-b802-7f3f0b6a550e\",\"type\":\"ColumnDataSource\"},\"glyph\":{\"id\":\"3f23d229-e7b0-4e08-b545-52ea8cb8d0a9\",\"type\":\"Rect\"},\"hover_glyph\":null,\"muted_glyph\":null,\"nonselection_glyph\":{\"id\":\"2485884d-e506-4123-ac6b-655365d3f557\",\"type\":\"Rect\"},\"selection_glyph\":null,\"view\":{\"id\":\"efd4bd6c-bced-4824-85d2-549039ab4e10\",\"type\":\"CDSView\"}},\"id\":\"a4b6e24d-9e16-4017-9e7a-a0232a630191\",\"type\":\"GlyphRenderer\"},{\"attributes\":{\"source\":{\"id\":\"1eabdc2c-999a-4f93-96f2-baec99ec3c43\",\"type\":\"ColumnDataSource\"}},\"id\":\"2f2e2aa1-5fd6-4bd9-9380-0646a227079a\",\"type\":\"CDSView\"},{\"attributes\":{\"callback\":null,\"data\":{}},\"id\":\"7c26657e-3bcc-4df1-9037-ce9112c0108e\",\"type\":\"ColumnDataSource\"},{\"attributes\":{\"fill_alpha\":{\"value\":0.1},\"fill_color\":{\"value\":\"#1f77b4\"},\"height\":{\"units\":\"data\",\"value\":0.4},\"line_alpha\":{\"value\":0.1},\"line_color\":{\"value\":\"#1f77b4\"},\"width\":{\"units\":\"data\",\"value\":556},\"x\":{\"value\":278.0},\"y\":{\"value\":24}},\"id\":\"aa1f86d8-4c01-4f8f-9aeb-4c56f9299aef\",\"type\":\"Rect\"},{\"attributes\":{\"source\":{\"id\":\"bc20c287-e99c-4a0b-b802-7f3f0b6a550e\",\"type\":\"ColumnDataSource\"}},\"id\":\"efd4bd6c-bced-4824-85d2-549039ab4e10\",\"type\":\"CDSView\"},{\"attributes\":{\"fill_color\":{\"value\":\"#1f77b4\"},\"height\":{\"units\":\"data\",\"value\":0.4},\"line_color\":{\"value\":\"#1f77b4\"},\"width\":{\"units\":\"data\",\"value\":597},\"x\":{\"value\":298.5},\"y\":{\"value\":25}},\"id\":\"d9bb560d-a221-410b-87e3-0f7ff1deb30d\",\"type\":\"Rect\"},{\"attributes\":{\"data_source\":{\"id\":\"d9f0d885-70c5-441f-91a1-18084cd05af7\",\"type\":\"ColumnDataSource\"},\"glyph\":{\"id\":\"cc6c3d0a-d93d-4e69-a46f-f64b85738d88\",\"type\":\"Rect\"},\"hover_glyph\":null,\"muted_glyph\":null,\"nonselection_glyph\":{\"id\":\"aa1f86d8-4c01-4f8f-9aeb-4c56f9299aef\",\"type\":\"Rect\"},\"selection_glyph\":null,\"view\":{\"id\":\"dc6221a3-f44b-4fdf-a770-74de9e12851c\",\"type\":\"CDSView\"}},\"id\":\"0906c903-fc35-42e6-8f05-466516fd4847\",\"type\":\"GlyphRenderer\"},{\"attributes\":{\"fill_alpha\":{\"value\":0.1},\"fill_color\":{\"value\":\"#1f77b4\"},\"height\":{\"units\":\"data\",\"value\":0.4},\"line_alpha\":{\"value\":0.1},\"line_color\":{\"value\":\"#1f77b4\"},\"width\":{\"units\":\"data\",\"value\":50},\"x\":{\"value\":25.0},\"y\":{\"value\":10}},\"id\":\"e3ec1551-e98e-4d60-b082-2d1b29a00395\",\"type\":\"Rect\"},{\"attributes\":{\"fill_color\":{\"value\":\"#1f77b4\"},\"height\":{\"units\":\"data\",\"value\":0.4},\"line_color\":{\"value\":\"#1f77b4\"},\"width\":{\"units\":\"data\",\"value\":65},\"x\":{\"value\":32.5},\"y\":{\"value\":11}},\"id\":\"a39f224b-d3ed-4807-bd71-eb13d561bf19\",\"type\":\"Rect\"},{\"attributes\":{\"callback\":null,\"data\":{}},\"id\":\"c986fde3-4bd3-4b8a-a2f1-e71aef923768\",\"type\":\"ColumnDataSource\"},{\"attributes\":{\"data_source\":{\"id\":\"7c26657e-3bcc-4df1-9037-ce9112c0108e\",\"type\":\"ColumnDataSource\"},\"glyph\":{\"id\":\"93d39ab8-1fee-42ac-84b9-d36a3b9c79f8\",\"type\":\"Rect\"},\"hover_glyph\":null,\"muted_glyph\":null,\"nonselection_glyph\":{\"id\":\"e3ec1551-e98e-4d60-b082-2d1b29a00395\",\"type\":\"Rect\"},\"selection_glyph\":null,\"view\":{\"id\":\"df8c6222-11c9-4555-8b94-b5652c7bfadd\",\"type\":\"CDSView\"}},\"id\":\"478075c5-40ca-4326-ab4e-4efc48d1c146\",\"type\":\"GlyphRenderer\"},{\"attributes\":{\"active_drag\":\"auto\",\"active_inspect\":\"auto\",\"active_scroll\":\"auto\",\"active_tap\":\"auto\",\"tools\":[{\"id\":\"84ced806-c204-4c45-9151-18613fab730f\",\"type\":\"PanTool\"},{\"id\":\"61a40a9d-fcf8-44a0-a8db-e9f594b6d71f\",\"type\":\"WheelZoomTool\"},{\"id\":\"cc4b5f58-50eb-4d8d-9089-179efc9ddbac\",\"type\":\"BoxZoomTool\"},{\"id\":\"7c88fad5-2b34-461e-b609-bb5c43f71384\",\"type\":\"SaveTool\"},{\"id\":\"6651eb31-8079-4da0-8f35-36666c30a7fd\",\"type\":\"ResetTool\"},{\"id\":\"8d310651-4e2c-4455-8f96-03d7f9b56eb9\",\"type\":\"HelpTool\"}]},\"id\":\"5ffbdcd2-af62-4ce0-9c04-fd9a502ddc5a\",\"type\":\"Toolbar\"},{\"attributes\":{\"source\":{\"id\":\"d9f0d885-70c5-441f-91a1-18084cd05af7\",\"type\":\"ColumnDataSource\"}},\"id\":\"dc6221a3-f44b-4fdf-a770-74de9e12851c\",\"type\":\"CDSView\"},{\"attributes\":{\"callback\":null,\"data\":{}},\"id\":\"3f9f3144-5224-4725-ac00-3ac3a8861b60\",\"type\":\"ColumnDataSource\"},{\"attributes\":{\"fill_alpha\":{\"value\":0.1},\"fill_color\":{\"value\":\"#1f77b4\"},\"height\":{\"units\":\"data\",\"value\":0.4},\"line_alpha\":{\"value\":0.1},\"line_color\":{\"value\":\"#1f77b4\"},\"width\":{\"units\":\"data\",\"value\":597},\"x\":{\"value\":298.5},\"y\":{\"value\":25}},\"id\":\"2ec0583f-8e3d-4d5b-bf26-8c7e5d2860b5\",\"type\":\"Rect\"},{\"attributes\":{},\"id\":\"db775d47-a80a-4e8c-b55b-4407cee6bba6\",\"type\":\"LinearScale\"},{\"attributes\":{\"source\":{\"id\":\"7c26657e-3bcc-4df1-9037-ce9112c0108e\",\"type\":\"ColumnDataSource\"}},\"id\":\"df8c6222-11c9-4555-8b94-b5652c7bfadd\",\"type\":\"CDSView\"},{\"attributes\":{\"fill_color\":{\"value\":\"#1f77b4\"},\"height\":{\"units\":\"data\",\"value\":0.4},\"line_color\":{\"value\":\"#1f77b4\"},\"width\":{\"units\":\"data\",\"value\":664},\"x\":{\"value\":332.0},\"y\":{\"value\":26}},\"id\":\"a364f01b-6a49-44a1-a15d-ce55ce40890c\",\"type\":\"Rect\"},{\"attributes\":{\"data_source\":{\"id\":\"c986fde3-4bd3-4b8a-a2f1-e71aef923768\",\"type\":\"ColumnDataSource\"},\"glyph\":{\"id\":\"d9bb560d-a221-410b-87e3-0f7ff1deb30d\",\"type\":\"Rect\"},\"hover_glyph\":null,\"muted_glyph\":null,\"nonselection_glyph\":{\"id\":\"2ec0583f-8e3d-4d5b-bf26-8c7e5d2860b5\",\"type\":\"Rect\"},\"selection_glyph\":null,\"view\":{\"id\":\"104bf287-04dd-4f5e-af03-d91a0ea2f7db\",\"type\":\"CDSView\"}},\"id\":\"13d9cf07-66e1-40f0-ab2a-36d4ae1862a5\",\"type\":\"GlyphRenderer\"},{\"attributes\":{\"callback\":null,\"factors\":[\"Relevant_Properties\",\"Enabling_Factors_for_Exploitation\",\"Other_Notes\",\"Theoretical_Notes\",\"Terminology_Notes\",\"Functional_Areas\",\"White_Box_Definitions\",\"Modes_of_Introduction\",\"Background_Details\",\"Affected_Resources\",\"Alternate_Terms\",\"Research_Gaps\",\"Causal_Nature\",\"Detection_Methods\",\"Maintenance_Notes\",\"Relationship_Notes\",\"Weakness_Ordinalities\",\"Likelihood_of_Exploit\",\"Related_Attack_Patterns\",\"References\",\"Observed_Examples\",\"Demonstrative_Examples\",\"Potential_Mitigations\",\"Applicable_Platforms\",\"Taxonomy_Mappings\",\"Time_of_Introduction\",\"Common_Consequences\",\"Relationships\",\"Content_History\",\"Description\"]},\"id\":\"a9016867-fbc4-4a41-986e-5302ca26477e\",\"type\":\"FactorRange\"},{\"attributes\":{\"fill_alpha\":{\"value\":0.1},\"fill_color\":{\"value\":\"#1f77b4\"},\"height\":{\"units\":\"data\",\"value\":0.4},\"line_alpha\":{\"value\":0.1},\"line_color\":{\"value\":\"#1f77b4\"},\"width\":{\"units\":\"data\",\"value\":65},\"x\":{\"value\":32.5},\"y\":{\"value\":11}},\"id\":\"a663d80d-8984-4a57-8577-58a3cf555484\",\"type\":\"Rect\"},{\"attributes\":{},\"id\":\"08b613be-9bb4-4d5d-8af8-0b1f7926317b\",\"type\":\"CategoricalScale\"},{\"attributes\":{\"fill_color\":{\"value\":\"#1f77b4\"},\"height\":{\"units\":\"data\",\"value\":0.4},\"line_color\":{\"value\":\"#1f77b4\"},\"width\":{\"units\":\"data\",\"value\":74},\"x\":{\"value\":37.0},\"y\":{\"value\":12}},\"id\":\"92e2ae1b-ec5a-4101-8901-8eebcfb157fc\",\"type\":\"Rect\"},{\"attributes\":{\"callback\":null,\"data\":{}},\"id\":\"48598f85-8257-4398-a9cc-ffffdb4dfb99\",\"type\":\"ColumnDataSource\"},{\"attributes\":{\"data_source\":{\"id\":\"3f9f3144-5224-4725-ac00-3ac3a8861b60\",\"type\":\"ColumnDataSource\"},\"glyph\":{\"id\":\"a39f224b-d3ed-4807-bd71-eb13d561bf19\",\"type\":\"Rect\"},\"hover_glyph\":null,\"muted_glyph\":null,\"nonselection_glyph\":{\"id\":\"a663d80d-8984-4a57-8577-58a3cf555484\",\"type\":\"Rect\"},\"selection_glyph\":null,\"view\":{\"id\":\"81686e76-4441-40cc-a9a9-1249f35b81ca\",\"type\":\"CDSView\"}},\"id\":\"9eb8da71-5187-4ead-b351-8ae9ac9a69b2\",\"type\":\"GlyphRenderer\"},{\"attributes\":{\"source\":{\"id\":\"c986fde3-4bd3-4b8a-a2f1-e71aef923768\",\"type\":\"ColumnDataSource\"}},\"id\":\"104bf287-04dd-4f5e-af03-d91a0ea2f7db\",\"type\":\"CDSView\"},{\"attributes\":{\"axis_label\":\"Frequency\",\"formatter\":{\"id\":\"fee2236e-d56a-4d9b-ab55-7748987e2471\",\"type\":\"BasicTickFormatter\"},\"plot\":{\"id\":\"ad84f443-cb10-41f8-b6b5-82fdf8e507d9\",\"subtype\":\"Figure\",\"type\":\"Plot\"},\"ticker\":{\"id\":\"5aa2f76f-4add-4b61-94bd-7e9e189a773c\",\"type\":\"BasicTicker\"}},\"id\":\"43ae41ee-e36a-4b71-8a35-788ae2d36c3c\",\"type\":\"LinearAxis\"},{\"attributes\":{\"callback\":null,\"data\":{}},\"id\":\"dcf7aa51-1d93-4562-910c-5f658c7c5d9e\",\"type\":\"ColumnDataSource\"},{\"attributes\":{\"fill_alpha\":{\"value\":0.1},\"fill_color\":{\"value\":\"#1f77b4\"},\"height\":{\"units\":\"data\",\"value\":0.4},\"line_alpha\":{\"value\":0.1},\"line_color\":{\"value\":\"#1f77b4\"},\"width\":{\"units\":\"data\",\"value\":664},\"x\":{\"value\":332.0},\"y\":{\"value\":26}},\"id\":\"1f20a3dc-e54e-4feb-a727-aa3976e233b1\",\"type\":\"Rect\"},{\"attributes\":{},\"id\":\"5aa2f76f-4add-4b61-94bd-7e9e189a773c\",\"type\":\"BasicTicker\"},{\"attributes\":{\"source\":{\"id\":\"3f9f3144-5224-4725-ac00-3ac3a8861b60\",\"type\":\"ColumnDataSource\"}},\"id\":\"81686e76-4441-40cc-a9a9-1249f35b81ca\",\"type\":\"CDSView\"},{\"attributes\":{\"fill_color\":{\"value\":\"#1f77b4\"},\"height\":{\"units\":\"data\",\"value\":0.4},\"line_color\":{\"value\":\"#1f77b4\"},\"width\":{\"units\":\"data\",\"value\":701},\"x\":{\"value\":350.5},\"y\":{\"value\":27}},\"id\":\"f66902e6-b197-43c8-8bf2-88ed9d9ba70d\",\"type\":\"Rect\"},{\"attributes\":{\"plot\":{\"id\":\"ad84f443-cb10-41f8-b6b5-82fdf8e507d9\",\"subtype\":\"Figure\",\"type\":\"Plot\"},\"ticker\":{\"id\":\"5aa2f76f-4add-4b61-94bd-7e9e189a773c\",\"type\":\"BasicTicker\"}},\"id\":\"6fd3e80e-a0e3-4f76-912c-fcb976583620\",\"type\":\"Grid\"},{\"attributes\":{\"data_source\":{\"id\":\"48598f85-8257-4398-a9cc-ffffdb4dfb99\",\"type\":\"ColumnDataSource\"},\"glyph\":{\"id\":\"a364f01b-6a49-44a1-a15d-ce55ce40890c\",\"type\":\"Rect\"},\"hover_glyph\":null,\"muted_glyph\":null,\"nonselection_glyph\":{\"id\":\"1f20a3dc-e54e-4feb-a727-aa3976e233b1\",\"type\":\"Rect\"},\"selection_glyph\":null,\"view\":{\"id\":\"5cb9bb76-0bbd-4a71-bf5f-65a82b916efb\",\"type\":\"CDSView\"}},\"id\":\"70770f42-173b-4ca6-b084-9d4a892263d5\",\"type\":\"GlyphRenderer\"},{\"attributes\":{\"fill_alpha\":{\"value\":0.1},\"fill_color\":{\"value\":\"#1f77b4\"},\"height\":{\"units\":\"data\",\"value\":0.4},\"line_alpha\":{\"value\":0.1},\"line_color\":{\"value\":\"#1f77b4\"},\"width\":{\"units\":\"data\",\"value\":74},\"x\":{\"value\":37.0},\"y\":{\"value\":12}},\"id\":\"5922ae9a-34fc-4185-8639-181c21e7e91c\",\"type\":\"Rect\"},{\"attributes\":{\"axis_label\":\"Field\",\"formatter\":{\"id\":\"bf6757ee-5e60-47b6-9356-9a5af32519fe\",\"type\":\"CategoricalTickFormatter\"},\"plot\":{\"id\":\"ad84f443-cb10-41f8-b6b5-82fdf8e507d9\",\"subtype\":\"Figure\",\"type\":\"Plot\"},\"ticker\":{\"id\":\"e885dc98-c5f2-42f9-9e46-da7791c5528c\",\"type\":\"CategoricalTicker\"}},\"id\":\"e330def0-3e3d-432f-9640-e192aea2274b\",\"type\":\"CategoricalAxis\"},{\"attributes\":{\"fill_color\":{\"value\":\"#1f77b4\"},\"height\":{\"units\":\"data\",\"value\":0.4},\"line_color\":{\"value\":\"#1f77b4\"},\"width\":{\"units\":\"data\",\"value\":74},\"x\":{\"value\":37.0},\"y\":{\"value\":13}},\"id\":\"8fdcc07a-b904-4182-bc48-c10d90fb0d4c\",\"type\":\"Rect\"},{\"attributes\":{\"callback\":null,\"data\":{}},\"id\":\"bda294c9-290a-42f6-b967-6f8e79b37bc9\",\"type\":\"ColumnDataSource\"},{\"attributes\":{\"data_source\":{\"id\":\"dcf7aa51-1d93-4562-910c-5f658c7c5d9e\",\"type\":\"ColumnDataSource\"},\"glyph\":{\"id\":\"92e2ae1b-ec5a-4101-8901-8eebcfb157fc\",\"type\":\"Rect\"},\"hover_glyph\":null,\"muted_glyph\":null,\"nonselection_glyph\":{\"id\":\"5922ae9a-34fc-4185-8639-181c21e7e91c\",\"type\":\"Rect\"},\"selection_glyph\":null,\"view\":{\"id\":\"93422c23-aea6-42b0-8eee-c639266b0771\",\"type\":\"CDSView\"}},\"id\":\"730d767d-3c51-46f1-8304-2ab0a8a4b0c0\",\"type\":\"GlyphRenderer\"},{\"attributes\":{},\"id\":\"e885dc98-c5f2-42f9-9e46-da7791c5528c\",\"type\":\"CategoricalTicker\"},{\"attributes\":{\"source\":{\"id\":\"48598f85-8257-4398-a9cc-ffffdb4dfb99\",\"type\":\"ColumnDataSource\"}},\"id\":\"5cb9bb76-0bbd-4a71-bf5f-65a82b916efb\",\"type\":\"CDSView\"},{\"attributes\":{\"dimension\":1,\"plot\":{\"id\":\"ad84f443-cb10-41f8-b6b5-82fdf8e507d9\",\"subtype\":\"Figure\",\"type\":\"Plot\"},\"ticker\":{\"id\":\"e885dc98-c5f2-42f9-9e46-da7791c5528c\",\"type\":\"CategoricalTicker\"}},\"id\":\"4bf567d3-53a3-40c9-82fb-158bef9ae532\",\"type\":\"Grid\"},{\"attributes\":{\"callback\":null,\"data\":{}},\"id\":\"300f9c48-b1f9-4541-bbc3-9f61226b6f03\",\"type\":\"ColumnDataSource\"},{\"attributes\":{\"fill_alpha\":{\"value\":0.1},\"fill_color\":{\"value\":\"#1f77b4\"},\"height\":{\"units\":\"data\",\"value\":0.4},\"line_alpha\":{\"value\":0.1},\"line_color\":{\"value\":\"#1f77b4\"},\"width\":{\"units\":\"data\",\"value\":701},\"x\":{\"value\":350.5},\"y\":{\"value\":27}},\"id\":\"0ddf6b96-0810-48a9-a4aa-793c57ab1110\",\"type\":\"Rect\"},{\"attributes\":{\"source\":{\"id\":\"dcf7aa51-1d93-4562-910c-5f658c7c5d9e\",\"type\":\"ColumnDataSource\"}},\"id\":\"93422c23-aea6-42b0-8eee-c639266b0771\",\"type\":\"CDSView\"},{\"attributes\":{\"fill_color\":{\"value\":\"#1f77b4\"},\"height\":{\"units\":\"data\",\"value\":0.4},\"line_color\":{\"value\":\"#1f77b4\"},\"width\":{\"units\":\"data\",\"value\":705},\"x\":{\"value\":352.5},\"y\":{\"value\":28}},\"id\":\"9bfd6fdf-20ce-4d74-8b2e-a3e753c2eeee\",\"type\":\"Rect\"},{\"attributes\":{\"data_source\":{\"id\":\"bda294c9-290a-42f6-b967-6f8e79b37bc9\",\"type\":\"ColumnDataSource\"},\"glyph\":{\"id\":\"f66902e6-b197-43c8-8bf2-88ed9d9ba70d\",\"type\":\"Rect\"},\"hover_glyph\":null,\"muted_glyph\":null,\"nonselection_glyph\":{\"id\":\"0ddf6b96-0810-48a9-a4aa-793c57ab1110\",\"type\":\"Rect\"},\"selection_glyph\":null,\"view\":{\"id\":\"9b1ecb8e-dc31-4861-a34f-0ec7c52145dd\",\"type\":\"CDSView\"}},\"id\":\"803c9ddb-b133-4dd9-8fde-7acf4ed9f4bd\",\"type\":\"GlyphRenderer\"},{\"attributes\":{\"callback\":null,\"data\":{}},\"id\":\"09419a83-dc08-4a91-9ffe-9fb6019c5d4f\",\"type\":\"ColumnDataSource\"},{\"attributes\":{\"source\":{\"id\":\"300f9c48-b1f9-4541-bbc3-9f61226b6f03\",\"type\":\"ColumnDataSource\"}},\"id\":\"3d2b9949-0334-4da5-a520-44154feb01fd\",\"type\":\"CDSView\"},{\"attributes\":{\"fill_color\":{\"value\":\"#1f77b4\"},\"height\":{\"units\":\"data\",\"value\":0.4},\"line_color\":{\"value\":\"#1f77b4\"},\"width\":{\"units\":\"data\",\"value\":15},\"x\":{\"value\":7.5},\"y\":{\"value\":1}},\"id\":\"d7a713a0-a8d6-418c-b89f-474a3d35fba3\",\"type\":\"Rect\"},{\"attributes\":{\"data_source\":{\"id\":\"300f9c48-b1f9-4541-bbc3-9f61226b6f03\",\"type\":\"ColumnDataSource\"},\"glyph\":{\"id\":\"8fdcc07a-b904-4182-bc48-c10d90fb0d4c\",\"type\":\"Rect\"},\"hover_glyph\":null,\"muted_glyph\":null,\"nonselection_glyph\":{\"id\":\"4a3e3956-9b74-4257-82fc-dd1b343df14d\",\"type\":\"Rect\"},\"selection_glyph\":null,\"view\":{\"id\":\"3d2b9949-0334-4da5-a520-44154feb01fd\",\"type\":\"CDSView\"}},\"id\":\"b6e97ec6-d618-4823-ac15-0d55673f8834\",\"type\":\"GlyphRenderer\"}],\"root_ids\":[\"ad84f443-cb10-41f8-b6b5-82fdf8e507d9\"]},\"title\":\"Bokeh Application\",\"version\":\"0.12.10\"}};\n",
       "    var render_items = [{\"docid\":\"61f64e13-4cd4-46d5-ae3b-925098b6911f\",\"elementid\":\"31a690b7-72b5-4ff0-ae34-1d0bb488f994\",\"modelid\":\"ad84f443-cb10-41f8-b6b5-82fdf8e507d9\"}];\n",
       "\n",
       "    root.Bokeh.embed.embed_items(docs_json, render_items);\n",
       "  }\n",
       "\n",
       "  if (root.Bokeh !== undefined) {\n",
       "    embed_document(root);\n",
       "  } else {\n",
       "    var attempts = 0;\n",
       "    var timer = setInterval(function(root) {\n",
       "      if (root.Bokeh !== undefined) {\n",
       "        embed_document(root);\n",
       "        clearInterval(timer);\n",
       "      }\n",
       "      attempts++;\n",
       "      if (attempts > 100) {\n",
       "        console.log(\"Bokeh: ERROR: Unable to embed document because BokehJS library is missing\")\n",
       "        clearInterval(timer);\n",
       "      }\n",
       "    }, 10, root)\n",
       "  }\n",
       "})(window);"
      ],
      "application/vnd.bokehjs_exec.v0+json": ""
     },
     "metadata": {
      "application/vnd.bokehjs_exec.v0+json": {
       "id": "ad84f443-cb10-41f8-b6b5-82fdf8e507d9"
      }
     },
     "output_type": "display_data"
    }
   ],
   "source": [
    "show(p)"
   ]
  },
  {
   "cell_type": "markdown",
   "metadata": {},
   "source": [
    "# 4. Examination of Frequent Fields\n",
    "\n",
    "Now that we know the frequencies of fields in the weakness table, our next step for extracting the information from the fields is to determine each field's structure and subsequently, our intended method of text extraction. Our findings are reported in the table below.  Type names are subject to change and some minimal differences that have little effect on varying extraction methods have been omitted for initial grouping purposes. \n",
    "\n",
    "|Type | Description |Fields|Example\n",
    "|:----:|:----------:|:----:|:--------:|\n",
    "|General Description  |Contains one to a few sentences |Description, Extended Description, Background Details|The software uses a cookie to store sensitive information, but the cookie is not marked with the HttpOnly flag. |\n",
    "|General Description with one to a few tables|Contains one to a few sentences and a table to list details  |Common Consequences, Relationships, Mode Of Introduction |![](images/Common_Consequences3.PNG)|\n",
    "|Subtitles with Qualified Entries  |List with subtitles and one to a few sentences |Potential Mitigations, Notes, Applicable Platforms, Alternate Terms, Detection Methods  |![](images/Potential_Mitigations.PNG)|\n",
    "|Description with one to a few code blocks  |Contains one to a few sentences and a few code blocks |Demonstrative Examples|![](images/Demonstrative_Example.PNG)|\n",
    "|Table| Contains rows and columns. Columns are qualities, rows are individual items|Content History， Observed Examples, Weakness Ordinalities, Related Attack Patterns|![](images/Content_History.PNG)|\n",
    "|Citation|Citation format|References|[REF-2] OWASP. \"HttpOnly\". <https://www.owasp.org/index.php/HttpOnly>.|\n",
    "|Single Word or Two Word Descriptor|Low, Medium, High, or Very High|Likelihood Of Exploit|Medium|\n",
    "\n"
   ]
  },
  {
   "cell_type": "markdown",
   "metadata": {},
   "source": [
    "# 5. Investigating the Content Matter of Fields\n",
    "\n",
    "Below is a table that lists the fields as well as a description of what information CWE provides inside those fields.  Our descriptions are based off of the [schema documentation](http://cwe.mitre.org/documents/schema/schema_v5.4.3.html#Applicable_Platforms).  Most entries in this table are taken directly from the documented description, with a few minor changes to increase understandability, while others have been reworded for effectiveness.\n",
    "\n",
    "(Here, we only include the fields that will be extracted through CWE Field parser)"
   ]
  },
  {
   "cell_type": "markdown",
   "metadata": {},
   "source": [
    "|Field| Description|CWE Example|\n",
    "|:----:|:---------:|:-----------------:|\n",
    "|Description|A brief description of the Weakness. Typically one to two sentances. Can also contain an Extended Description which goes into further detail. It should be noted that sometimes the extended description is shorter than the regular description but this is rarely the case|[CWE-11](http://cwe.mitre.org/data/definitions/11.html)|\n",
    "|Potential Mitigations| Describes how to prevent exploit at various steps in the development cycle. Typically a single sentence per phase and there can be a variable amount of phases|[CWE-11](http://cwe.mitre.org/data/definitions/11.html)|\n",
    "|Common_Consequences|A single sentence. There is also the scope which is a one or two word term as will as the technical impact which varies in format.|[CWE-11](http://cwe.mitre.org/data/definitions/11.html)|\n",
    "|Demonstrative_Examples|Contains code pertaining to the weakness, but more importantly it can contain extremely detailed descriptions. The length is highly variable but the term density is high. The code is contained within an HTML tag however the notes by whoever wrote the article can be strucutred in a multitude of ways.|[CWE-11](http://cwe.mitre.org/data/definitions/11.html)|\n",
    "|Relationships|Lists other fields fields and relationship to said fields.|[CWE-11](http://cwe.mitre.org/data/definitions/11.html)|\n",
    "|Related_Attack_Patterns|Lists CAPEC entries that relate to topic.|[CWE-1007](http://cwe.mitre.org/data/definitions/1007.html)|\n",
    "|Observed_Examples|References CVE entry. See CWE ID number 141|[CWE-1007](http://cwe.mitre.org/data/definitions/1007.html)|\n",
    "|Taxonomy_Mappings|Alternative way to organize and understand the data.|[CWE-11](http://cwe.mitre.org/data/definitions/11.html)|\n",
    "|Content_History|Shows original sumission date along with dates of modifications as well as other relevent data.|[CWE-11](http://cwe.mitre.org/data/definitions/11.html)|\n",
    "|Application_Platforms|Gives the languages that the weakness effects.|[CWE-11](http://cwe.mitre.org/data/definitions/11.html)|\n",
    "|References|References source(s) used.|[CWE-11](http://cwe.mitre.org/data/definitions/11.html)|\n",
    "|Likelyhood_of_Exploit|Gives the chance that the weakness would be taken advantage of using. Typically rated from low to high..|[CWE-1007](http://cwe.mitre.org/data/definitions/1007.html)|\n",
    "|Weakness_Ordinalities|Ask Carlos about this one.|[CWE-1007](http://cwe.mitre.org/data/definitions/1007.html)|\n"
   ]
  },
  {
   "cell_type": "markdown",
   "metadata": {},
   "source": [
    "# 6. Analyzing the Fields"
   ]
  },
  {
   "cell_type": "markdown",
   "metadata": {},
   "source": [
    "Now that we have the frequencies of the fields we can determine which fields will be most useful in creating our corpus. For this purpose the arbitrary number of 100 was chosen. If a field occurs more than 100 times it will be detailed below with an example. The observations are based on limited research and analysis so they are not perfect, but they reasonably describe the rules and regulations of each field."
   ]
  },
  {
   "cell_type": "markdown",
   "metadata": {},
   "source": [
    "### Currently Useful Fields"
   ]
  },
  {
   "cell_type": "markdown",
   "metadata": {},
   "source": [
    "These fields have been determined to be useful for developing the corpus. Each field contains relevent content that is structured and plentiful. The field that is most likely to cause difficulties is the \"Demonstrative_Examples\" field due to the fact that is has the least structured field of the four currently useful fields. "
   ]
  },
  {
   "cell_type": "markdown",
   "metadata": {},
   "source": [
    "Currently Useful Fields:\n",
    "Description, Common_Consequences, Potential_Mitigations, Demonstrative_Examples"
   ]
  },
  {
   "cell_type": "markdown",
   "metadata": {},
   "source": [
    "### Fields That Might Be Useful Later"
   ]
  },
  {
   "cell_type": "markdown",
   "metadata": {},
   "source": [
    "These fields have been determined to be useful at a later date. The following fields mostly deal with the entries relationships with other fields. Being able to incorperate relationships into the corpus will definitely improve the accuracy, but that functionality will be added at a later date. \n",
    "\n",
    "Here are the fields that might be userful later: Relationships, Time_of_Introduction, Related_Attack_Patterns, Observed_Examples, Taxonomy_Mappings"
   ]
  },
  {
   "cell_type": "markdown",
   "metadata": {},
   "source": [
    "### Currently Discarded Fields"
   ]
  },
  {
   "cell_type": "markdown",
   "metadata": {},
   "source": [
    "These fields have been determined to not be useful at the current time. Most of these fields do not contain enough information for example \"Likelyhood_of_Exploit\" or contain information that would not be useful to the corpus like \"References.\"\n",
    "\n",
    "Here are the currently discarded fields: Content_History ,Application_Platforms, References, Likelyhood_of_Exploit, Weakness_Ordinalities, Relationship_Notes"
   ]
  },
  {
   "cell_type": "markdown",
   "metadata": {},
   "source": [
    "# 7. Future Goals"
   ]
  },
  {
   "cell_type": "markdown",
   "metadata": {},
   "source": [
    "Now that we know which fields will be useful, we need to compare them in different ways. Four methods of comparison have been determined so far. They are specificity, subject, time, and purpose.\n",
    "\n",
    "The first way that we can compare indexes is by looking at their specificity. Entries can range from focusing on the specifics of a given weakness to broad concepts. If we were to compare two documents, we could use their specificity to see how similar the two documents are to one another. In MITRE’s CAPEC especially, specificity is strictly organized. These predetermined tier of specificity are a good litmus test to see if the program is accurately detecting specificity based on content. Being able to accurately measure specificity will ultimately make sure the similarity scores given to documents is more accurate. \n",
    "\n",
    "The second way that we can compare indexes is by looking at their subject. Conveniently for the indexes, the subject can be easily found by simply looking at the title. Comparing subjects is a quick way to determine how similar the indexes are to one another. By knowing that two subjects are related, the program will be able to more accurately categorize threats. Subject is also an important category for when the program moves to the email phase. Emails conveniently have a line for subject and using this line to its full advantage is key in developing this program.\n",
    "\n",
    "Time is the third way we can compare indexes. Languages are constantly evolving. As such looking at the way that people talk about a certain subject over time is an important dimension in developing a will rounded corpus for the program. For the indexes, looking at the way an article is changed version to version lets us get a more accurate mapping of how weaknesses are explored and understood. In emails this takes a more organic nature. While the indexes simply record the changes, the emails are the catalyst that drive these changes. By mapping out the way that topics evolve over time, we can create a more complete corpus and as such create a more accurate similarity score. \n",
    "\n",
    "The final way that we can compare indexes is by comparing similar fields. In MITRE fields have a specific rule set about the way that they are written and their contents. By comparing the same field in multiple indexes with one another we are able to slice the data in another way giving increasing the depth of the corpus and hopefully increasing the accuracy of the program. \n"
   ]
  },
  {
   "cell_type": "markdown",
   "metadata": {},
   "source": [
    "# 8. Conclusion "
   ]
  },
  {
   "cell_type": "markdown",
   "metadata": {},
   "source": [
    "PERCEIVE is still in its infancy. As such, it is still a work in progress. However a lot was learned in the time that I worked on it. Having to reverse engineer the way that the indexes were formatted and organized was time consuming. However, with our new found understanding we will be better able to create the corpus in the future. Also our knowledge of how to slice up the indexes and emails has grown. For a program, reading the text is easy, however being able to understand what is written is a different matter. Being able to divide up the writings like we have done might seem natural, but being able to implement it into a learning program will prove to be difficult. \n"
   ]
  }
 ],
 "metadata": {
  "kernelspec": {
   "display_name": "Python 3",
   "language": "python",
   "name": "python3"
  },
  "language_info": {
   "codemirror_mode": {
    "name": "ipython",
    "version": 3
   },
   "file_extension": ".py",
   "mimetype": "text/x-python",
   "name": "python",
   "nbconvert_exporter": "python",
   "pygments_lexer": "ipython3",
   "version": "3.6.3"
  }
 },
 "nbformat": 4,
 "nbformat_minor": 2
}
