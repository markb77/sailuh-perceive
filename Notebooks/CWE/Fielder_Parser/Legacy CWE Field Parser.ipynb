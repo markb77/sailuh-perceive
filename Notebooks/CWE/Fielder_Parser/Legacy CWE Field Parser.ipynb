{
 "cells": [
  {
   "cell_type": "code",
   "execution_count": 13,
   "metadata": {
    "collapsed": true
   },
   "outputs": [],
   "source": [
    "import lxml.etree\n",
    "import csv\n",
    "import os\n",
    "import pandas as pd"
   ]
  },
  {
   "cell_type": "markdown",
   "metadata": {},
   "source": [
    "### Introduction\n",
    "\n",
    "The purpose of this notebook is to build a field parser and extract the contents of various fields in the CWE 3.0 XML file so that the field content can be directly analyzed and stored into database. The raw XML file can be downloaded at http://cwe.mitre.org/data/xml/cwec_v3.0.xml.zip.  Guided by CWE Introduction notebook, this notebook will focus on the detail structure under Weakness table and how parser functions work in order to extract two formats of field: fields with no nesting element and fields with nesting structure.\n",
    "\n",
    "Although the overall structure of CWE XML file has been documented in CWE Introduction notebook, the Introduction notebook is built on version 2.9. Therefore, the following differences about weakness table between version 2.9 and 3.0 can be observed:\n",
    "\n",
    "- The order of four tables is changed and weakness table in version 3.0 is the first.\n",
    "- Several fields are removed or changed to other names in version 3.0: Time_of_Introduction, Maintenace_Notes, Causal_Nature, Research_Gaps, White_Box_Definitions, Terminology_Notes, Other_Notes, Enabling_Factors_for_Exploitation,  Relevant_Properties\n"
   ]
  },
  {
   "cell_type": "code",
   "execution_count": 3,
   "metadata": {
    "collapsed": true
   },
   "outputs": [],
   "source": [
    "tree = lxml.etree.parse('cwec_v3.0.xml')\n",
    "root = tree.getroot()\n",
    "\n",
    "# Remove namespaces from XML.  \n",
    "for elem in root.getiterator(): \n",
    "    if not hasattr(elem.tag, 'find'): continue  # (1)\n",
    "    i = elem.tag.find('}') # Counts the number of characters up to the '}' at the end of the XML namespace within the XML tag\n",
    "    if i >= 0: \n",
    "        elem.tag = elem.tag[i+1:] # Starts the tag a character after the '}'"
   ]
  },
  {
   "cell_type": "code",
   "execution_count": 4,
   "metadata": {},
   "outputs": [
    {
     "name": "stdout",
     "output_type": "stream",
     "text": [
      "Weaknesses\n",
      "Categories\n",
      "Views\n",
      "External_References\n"
     ]
    }
   ],
   "source": [
    "for table in root: \n",
    "    print (table.tag)"
   ]
  },
  {
   "cell_type": "markdown",
   "metadata": {},
   "source": [
    "### Format and Field Parser\n",
    "\n",
    "Although there are various kinds of field, in general, there are only three ways to store the field information in the CWE XML file: 1) fields with no nesting element, 2) fields with nesting element, 3) fields with attribute information. \n",
    "\n",
    "|Format|CWE Field Example|\n",
    "|:----:|:---------:|\n",
    "|Fields with no nesting element|Description, Extended_Description, Likelihood_Of_Exploit, Background_Details|\n",
    "|Fields with nesting element|Potential_Mitigations, Weakness_Ordinalities, Common_Consequences, Alternate_Terms, Modes_Of_Introduction, Affected_Resources, Observed_Examples, Functional_Areas, Content_History, Detection_Methods|\n",
    "|Fields with attribute information|Demonstrative_Exampls, Taxonomy_Mappings, Applicable_Platforms, References,Related Attack Pattern|\n",
    "\n",
    "We will discuss the detail structure and how to parse the first two types of field below."
   ]
  },
  {
   "cell_type": "markdown",
   "metadata": {},
   "source": [
    "#### 1.1 Fields with no nesting element \n",
    "\n",
    "Typically, the fields in this format will keep of the information directly under the field element, without any nesting structure and attribute. For example, Description and Extended_Description are the fields in this format. There is no further nesting structure under the field element  and thus cannot be extended (no plus sign on the left)\n",
    "\n",
    "However, when parsing Extended_Description in cwe-1007, there are nesting html elements under Extended_Description element. In this case, we will remove the html tag and concatenate the contents under separate html elements"
   ]
  },
  {
   "cell_type": "markdown",
   "metadata": {},
   "source": [
    "<b>General case</b>:\n",
    "\n",
    "![no_nesting_field](images/no_nesting_fields.PNG)\n",
    "\n",
    "<b>HTML elements under Extended_Description</b>:\n",
    "\n",
    "![no_nesting_field2](images/no_nesting_fields2.PNG)"
   ]
  },
  {
   "cell_type": "markdown",
   "metadata": {},
   "source": [
    "#### 1.2 Parser function for field with no nesting element"
   ]
  },
  {
   "cell_type": "markdown",
   "metadata": {},
   "source": [
    "Before introducing the parser function, we need a function that can write the dictionary that stores the field content to a CSV file. Function <b> write_dict_to_csv </b> will append the given dictionary to the end of the CSV file. If the file does not exist, the function will create a CSV file and take the csv_header as the header of this CSV file. "
   ]
  },
  {
   "cell_type": "code",
   "execution_count": 5,
   "metadata": {
    "collapsed": true
   },
   "outputs": [],
   "source": [
    "def write_dict_to_csv(output_file,csv_header,dict_data):\n",
    "    '''\n",
    "    Create a CSV file with headers and write a dictionary;\n",
    "    If the file already existes, only append a dictionary.\n",
    "    \n",
    "    Args:\n",
    "        output_file -- name of the output csv file\n",
    "        csv_header -- the header of the output csv file. \n",
    "        dict_data -- the dictionary that will be writen into the CSV file. The number of \n",
    "                     element in the dictionary should be equal to or lower than the number of\n",
    "                     headers of the CSV file. \n",
    "    \n",
    "    Outcome:\n",
    "        a new csv file with headers and one row that includes the information from the dictionary;\n",
    "        or an existing CSV file with a new row that includes the information from the dictionary\n",
    "    '''\n",
    "    # create a file if the file does not exist; if exsits, open the file\n",
    "    with open(output_file, 'a') as csv_file:\n",
    "        writer = csv.DictWriter(csv_file, fieldnames=csv_header,lineterminator='\\n')\n",
    "        \n",
    "        # check whether the csv file is empty\n",
    "        if csv_file.tell()==0:\n",
    "            # if empty, write header and the dictionary\n",
    "            writer.writeheader()         \n",
    "            writer.writerow(dict_data)\n",
    "        else:\n",
    "            # if not empty, only write the dictionary\n",
    "            writer.writerow(dict_data)      "
   ]
  },
  {
   "cell_type": "markdown",
   "metadata": {},
   "source": [
    "Given the target field, function <b> no_nesting_field_parser </b> will extract the contents within the target field element and write cwe_id and content into a CSV file named by the target field. Each row in the output CSV file will include the following information: \n",
    "- cwe_id: The CWE identifier\n",
    "- field: The name of the target field\n",
    "- (field name)_content:  The text information stored under the target field. The header of this column varies depending on the field. For example, the header will be 'description_content' if parsing 'Description' field\n",
    "\n",
    "The following fields have been tested successfully: Description, Extended_Description, Likelihood_Of_Exploit, Background_Details. "
   ]
  },
  {
   "cell_type": "code",
   "execution_count": 10,
   "metadata": {
    "collapsed": true
   },
   "outputs": [],
   "source": [
    "def no_nesting_field_parser(target_field, root):\n",
    "    '''\n",
    "    Parse the field with no nesting element from cwec_v3.0.xml file and output the information to a csv file.\n",
    "    \n",
    "    Args:\n",
    "        target_field -- the target field that will be parsed through this function. The format of this arg should be string.\n",
    "        root -- the root element of the whole parsed tree. \n",
    "    Outcome:\n",
    "        a csv file named by the field name. Each row will include the following information:\n",
    "            - cwe_id: The CWE identifier\n",
    "            - field: The name of the target field\n",
    "            - (field name)_content:  The text information stored under the target field. The header varies depending on field. \n",
    "                                     For example, the header will be 'description_content' if parsing 'Description' field\n",
    "    '''\n",
    "    # define the path of target field. Here we select all element nodes that the tag is the target field\n",
    "    target_field_path='Weakness/./'+target_field\n",
    "    # extract weakness table in the XML\n",
    "    weakness_table = root[0]\n",
    "    #define the headers\n",
    "    field_header=target_field.lower()+'_content' \n",
    "    output_header=['cwe_id','field',field_header] \n",
    "    #define path of the output file\n",
    "    output_path=target_field+'.csv'\n",
    "\n",
    "    # for each target field node\n",
    "    for field in weakness_table.findall(target_field_path):\n",
    "        # extract cwe_id from the parent node of the target field node\n",
    "        cwe_id=field.getparent().attrib.get('ID')\n",
    "        # extract the content under the target field\n",
    "        field_entry_content=field.text\n",
    "        \n",
    "        # in case there are nested html tags under the field\n",
    "        if field_entry_content.isspace()==True:\n",
    "            for field_entry in field:\n",
    "                # extract the content under html tags and concatenate\n",
    "                field_entry_content=field_entry.text\n",
    "                field_entry_content=field_entry_content+field_entry           \n",
    "        \n",
    "        # build the dictionary that is used to write\n",
    "        field_entry_dict=dict()\n",
    "        field_entry_dict['cwe_id']=cwe_id\n",
    "        field_entry_dict['field']=target_field\n",
    "        field_entry_dict[field_header.lower()]= field_entry_content.strip()\n",
    "        \n",
    "        # write the dictionary with headers to a CSV file\n",
    "        write_dict_to_csv(output_path,output_header, field_entry_dict)"
   ]
  },
  {
   "cell_type": "code",
   "execution_count": 12,
   "metadata": {
    "collapsed": true
   },
   "outputs": [],
   "source": [
    "des='Description' \n",
    "extended_des='Extended_Description'\n",
    "likelihood='Likelihood_Of_Exploit'\n",
    "background='Background_Details'\n",
    "no_nesting_field_parser(des,root)"
   ]
  },
  {
   "cell_type": "markdown",
   "metadata": {},
   "source": [
    "After running the above codes, the file named by 'Description.csv' should be created under the same directory as this notebook. For parsing other fields, need to change the name of the target field. "
   ]
  },
  {
   "cell_type": "code",
   "execution_count": 16,
   "metadata": {},
   "outputs": [
    {
     "data": {
      "text/html": [
       "<div>\n",
       "<style>\n",
       "    .dataframe thead tr:only-child th {\n",
       "        text-align: right;\n",
       "    }\n",
       "\n",
       "    .dataframe thead th {\n",
       "        text-align: left;\n",
       "    }\n",
       "\n",
       "    .dataframe tbody tr th {\n",
       "        vertical-align: top;\n",
       "    }\n",
       "</style>\n",
       "<table border=\"1\" class=\"dataframe\">\n",
       "  <thead>\n",
       "    <tr style=\"text-align: right;\">\n",
       "      <th></th>\n",
       "      <th>cwe_id</th>\n",
       "      <th>field</th>\n",
       "      <th>description_content</th>\n",
       "    </tr>\n",
       "  </thead>\n",
       "  <tbody>\n",
       "    <tr>\n",
       "      <th>0</th>\n",
       "      <td>1004</td>\n",
       "      <td>Description</td>\n",
       "      <td>The software uses a cookie to store sensitive ...</td>\n",
       "    </tr>\n",
       "    <tr>\n",
       "      <th>1</th>\n",
       "      <td>1007</td>\n",
       "      <td>Description</td>\n",
       "      <td>The software displays information or identifie...</td>\n",
       "    </tr>\n",
       "    <tr>\n",
       "      <th>2</th>\n",
       "      <td>102</td>\n",
       "      <td>Description</td>\n",
       "      <td>The application uses multiple validation forms...</td>\n",
       "    </tr>\n",
       "    <tr>\n",
       "      <th>3</th>\n",
       "      <td>1021</td>\n",
       "      <td>Description</td>\n",
       "      <td>The web application does not restrict or incor...</td>\n",
       "    </tr>\n",
       "    <tr>\n",
       "      <th>4</th>\n",
       "      <td>1022</td>\n",
       "      <td>Description</td>\n",
       "      <td>The web application does not restrict or incor...</td>\n",
       "    </tr>\n",
       "  </tbody>\n",
       "</table>\n",
       "</div>"
      ],
      "text/plain": [
       "   cwe_id        field                                description_content\n",
       "0    1004  Description  The software uses a cookie to store sensitive ...\n",
       "1    1007  Description  The software displays information or identifie...\n",
       "2     102  Description  The application uses multiple validation forms...\n",
       "3    1021  Description  The web application does not restrict or incor...\n",
       "4    1022  Description  The web application does not restrict or incor..."
      ]
     },
     "execution_count": 16,
     "metadata": {},
     "output_type": "execute_result"
    }
   ],
   "source": [
    "no_nesting_field=pd.read_csv('Description.csv')\n",
    "no_nesting_field.head(5)"
   ]
  },
  {
   "cell_type": "markdown",
   "metadata": {},
   "source": [
    "#### 2.1 Fields with nesting elements"
   ]
  },
  {
   "cell_type": "markdown",
   "metadata": {},
   "source": [
    "Typically, the fields in this format will have a nested structured under the target field element. To understand the nesting structure, here we use the Common_Consequences field in cwe-1004 as the example. Under Common_Consequences element, there are two field entries named by 'Consequence', which represent two different individual consequences associated with the weakness. Under each consequence element, there are three entry elements (scope, impact, and note), which have the contents that our parser is intended to to extract. "
   ]
  },
  {
   "cell_type": "markdown",
   "metadata": {},
   "source": [
    "<b>General Case </b>:\n",
    "\n",
    "![nesting_fields](images/nesting_fields.PNG)\n"
   ]
  },
  {
   "cell_type": "markdown",
   "metadata": {},
   "source": [
    "To understand the structure and the variable naming in the coding part, I generalized the structure of the fields in this format. Here is the general format:"
   ]
  },
  {
   "cell_type": "markdown",
   "metadata": {},
   "source": [
    "```\n",
    "<Target_Field>\n",
    "    <Field_Entry1>\n",
    "        <Entry_Element1> the content function will parse</Entry_Element1>\n",
    "        <Entry_Element2> the content function will parse</Entry_Element2>\n",
    "        <Entry_Element3> the content function will parse</Entry_Element3>\n",
    "        <Entry_Element4> the content function will parse</Entry_Element4>\n",
    "        ...\n",
    "    </Field_Entry1>\n",
    "    <Field_Entry2>\n",
    "        <Entry_Element1> the content function will parse</Entry_Element1>\n",
    "        <Entry_Element2> the content function will parse</Entry_Element2>\n",
    "        <Entry_Element3> the content function will parse</Entry_Element3>\n",
    "        <Entry_Element4> the content function will parse</Entry_Element4>\n",
    "        ...\n",
    "    </Field_Entry2>\n",
    "    ...\n",
    "</Target_Field>\n",
    "```"
   ]
  },
  {
   "cell_type": "markdown",
   "metadata": {},
   "source": [
    "Here are two special cases when parsing the nesting fields. \n",
    "\n",
    "#### 1) Muliple entry elements may share a same tag:\n",
    "\n",
    "For example, a consequence of a weakness may have only one impact and note but multiple scopes. Therefore, in this case, the parser will extract and concatenate the contents that share a same tag under an individual field entry element. \n",
    "\n",
    "![nesting_fields2](images/nesting_fields2.PNG)\n",
    "\n",
    "\n",
    "#### 2) HTML elements under entry element:\n",
    "\n",
    "For some unknown reason, the content we aim to extract will be stored in html elements, such as li, div, ul,and o. Therefore, in this case, the parser will extract and concatenate the content that have html tag under a same entry_element. After extracting the content, the parser will also parse the tag information from their parent elements. \n",
    "\n",
    "![nesting_fields3](images/nesting_fields3.PNG)"
   ]
  },
  {
   "cell_type": "markdown",
   "metadata": {},
   "source": [
    "#### 2.2 Parser Function for fields with nesting elements"
   ]
  },
  {
   "cell_type": "markdown",
   "metadata": {},
   "source": [
    "Given the target field, function <b> nesting_field_parser </b> will extract the content within the target field element and write cwe_id and content into a CSV file named by the target field. Each row in the output CSV file will include the following information:\n",
    "- cwe_id: The CWE identifier\n",
    "- field: The name of the target field\n",
    "- tags under the field node, but exclude all html tags, including li, div, ul,and p.\n",
    "\n",
    "There are two parts within function <b> nesting_field_parser </b>. The first part will generate all possible tags as the headers of the output CSV file by traversing all child element tags under each field entry. It is very important for the first part, because once the function writes the headers, it is computationally expensive to edit the first row later - we have to read all content of the original file and re-write to a new file. The function will exclude all HTML tags, such as li, div, ul, and p, because these html tags are meaningless and repetitive. The second part will extract the content from the nesting target field and then write to a CSV file by using function <b> write_dict_to_csv </b>.\n",
    "\n",
    "The following fields have been tested successfully: \n",
    "         Potential_Mitigations, Weakness_Ordinalities\n",
    "         Common_Consequences, Alternate_Terms\n",
    "         Modes_Of_Introduction, Affected_Resources\n",
    "         Observed_Examples, Functional_Areas\n",
    "         Content_History, etection_Methods"
   ]
  },
  {
   "cell_type": "code",
   "execution_count": 26,
   "metadata": {
    "collapsed": true
   },
   "outputs": [],
   "source": [
    "def nesting_field_parser(target_field, root):\n",
    "    '''\n",
    "    Parser the field with nested elements from cwec_v3.0.xml file and output the information to a csv file.\n",
    "    The following fields have been tested successfully: \n",
    "        -Potential_Mitigations, Weakness_Ordinalities\n",
    "        -Common_Consequences, Alternate_Terms\n",
    "        -Modes_Of_Introduction, Affected_Resources\n",
    "        -Observed_Examples, Functional_Areas\n",
    "        -Content_History, Detection_Methods\n",
    "    \n",
    "    Args:\n",
    "        target_field -- the target field that will be parsed through this function. The format of this arg should be string.\n",
    "        root -- the root element of the parsed tree. \n",
    "    \n",
    "    Outcome:\n",
    "        a csv file named by the field name. Each row will include the following headers:\n",
    "            - cwe_id: The CWE identifier\n",
    "            - field: The name of the target field\n",
    "            - tags under the field node, but exclude all html tags, including li, div, ul,and p.\n",
    "    '''\n",
    "    # define the path of target field. Here we select all element nodes that the tag is the target field\n",
    "    target_field_path='Weakness/./'+target_field\n",
    "    # extract weakness table in the XML\n",
    "    weakness_table = root[0]\n",
    "    # define the headers\n",
    "    output_header=['cwe_id','field']\n",
    "    # define path of the output file\n",
    "    output_path=target_field+'.csv'\n",
    "\n",
    "    ### 1.Generate all possible tags(column header in csv file) under the target field tree\n",
    "    \n",
    "    # for each target field node\n",
    "    for field in weakness_table.findall(target_field_path):\n",
    "        # for each field entry, in case there are multiple field entries under the target field node\n",
    "        for field_entry in list(field):\n",
    "            # traverse all entry_element nodes under each field entry\n",
    "            for entry_element in field_entry.iter():\n",
    "                # generate tag and content of each entry_element\n",
    "                entry_element_tag=entry_element.tag\n",
    "                entry_element_content=entry_element.text\n",
    "                \n",
    "                # exclude the tag of field entry node, since .iter() will return field entry node and its entry_element nodes\n",
    "                if entry_element_content.isspace():\n",
    "                    continue\n",
    "                # exclude all html tags, such as li,div,ul,p\n",
    "                if entry_element_tag=='li' or entry_element_tag=='div' or entry_element_tag=='p' or entry_element_tag=='ul':\n",
    "                    continue\n",
    "                # append the tag to the output_header list if it does not exist in the list\n",
    "                if entry_element_tag.lower() not in output_header:\n",
    "                    output_header.append(entry_element_tag.lower())\n",
    "    \n",
    "    ### 2.Extract the content from the nesting target field\n",
    "    \n",
    "    # for each target field node\n",
    "    for field in weakness_table.findall(target_field_path):\n",
    "        # extract cwe_id from the attribute of its parent node\n",
    "        cwe_id=field.getparent().attrib.get('ID')\n",
    "        # for each field entry node under the target field node\n",
    "        for field_entry in list(field):\n",
    "            \n",
    "            # the dictionary that will be written to a CSV file\n",
    "            entry_element_dict=dict()\n",
    "            entry_element_dict['cwe_id']=cwe_id\n",
    "            entry_element_dict['field']=target_field\n",
    "            \n",
    "            # traverse all entry_element nodes under each field entry\n",
    "            for entry_element in field_entry.iter():\n",
    "                # generate tag and content of each entry_element\n",
    "                entry_element_tag=entry_element.tag\n",
    "                entry_element_content=entry_element.text\n",
    "                \n",
    "                # skip the first field entry node \n",
    "                if entry_element_content.isspace():\n",
    "                    continue\n",
    "                \n",
    "                #if the tag is html tag, such as li, div, p, and ul, the tag will be replaced by its parent tag\n",
    "                while(entry_element_tag.lower() not in output_header):\n",
    "                    entry_element_tag=entry_element.getparent().tag.lower()\n",
    "                    entry_element=entry_element.getparent()\n",
    "\n",
    "                #if there are multiple entry_element entries using a same tag, all content will be concatenated\n",
    "                if entry_element_tag.lower() in entry_element_dict:\n",
    "                    # add the concatenated content into the dictionary \n",
    "                    entry_element_dict[entry_element_tag.lower()]=entry_element_dict[entry_element_tag.lower()]+ ';'+entry_element_content\n",
    "                    # if not, directly add the entry_element content into the dictionary\n",
    "                else:\n",
    "                    entry_element_dict[entry_element_tag.lower()]=entry_element_content\n",
    "            # write the dictionary with headers to a CSV file    \n",
    "            write_dict_to_csv(output_path,output_header,entry_element_dict)"
   ]
  },
  {
   "cell_type": "code",
   "execution_count": 19,
   "metadata": {
    "collapsed": true
   },
   "outputs": [],
   "source": [
    "mitigation=\"Potential_Mitigations\" \n",
    "consequence='Common_Consequences'\n",
    "mode='Modes_Of_Introduction' \n",
    "example='Observed_Examples'\n",
    "content='Content_History' \n",
    "weakness='Weakness_Ordinalities' \n",
    "detection='Detection_Methods' \n",
    "term='Alternate_Terms'\n",
    "resources='Affected_Resources'\n",
    "function_area='Functional_Areas'\n",
    "\n",
    "nesting_field_parser(consequence, root)"
   ]
  },
  {
   "cell_type": "markdown",
   "metadata": {},
   "source": [
    "After running the above codes, the file named by 'Common_Consequences.csv' should be created under the same directory as this notebook. For parsing other fields, need to change the name of the target field. "
   ]
  },
  {
   "cell_type": "code",
   "execution_count": 22,
   "metadata": {},
   "outputs": [
    {
     "data": {
      "text/html": [
       "<div>\n",
       "<style>\n",
       "    .dataframe thead tr:only-child th {\n",
       "        text-align: right;\n",
       "    }\n",
       "\n",
       "    .dataframe thead th {\n",
       "        text-align: left;\n",
       "    }\n",
       "\n",
       "    .dataframe tbody tr th {\n",
       "        vertical-align: top;\n",
       "    }\n",
       "</style>\n",
       "<table border=\"1\" class=\"dataframe\">\n",
       "  <thead>\n",
       "    <tr style=\"text-align: right;\">\n",
       "      <th></th>\n",
       "      <th>cwe_id</th>\n",
       "      <th>field</th>\n",
       "      <th>scope</th>\n",
       "      <th>impact</th>\n",
       "      <th>note</th>\n",
       "    </tr>\n",
       "  </thead>\n",
       "  <tbody>\n",
       "    <tr>\n",
       "      <th>0</th>\n",
       "      <td>1004</td>\n",
       "      <td>Common_Consequences</td>\n",
       "      <td>Confidentiality</td>\n",
       "      <td>Read Application Data</td>\n",
       "      <td>If the HttpOnly flag is not set, then sensitiv...</td>\n",
       "    </tr>\n",
       "    <tr>\n",
       "      <th>1</th>\n",
       "      <td>1004</td>\n",
       "      <td>Common_Consequences</td>\n",
       "      <td>Integrity</td>\n",
       "      <td>Gain Privileges or Assume Identity</td>\n",
       "      <td>If the cookie in question is an authentication...</td>\n",
       "    </tr>\n",
       "    <tr>\n",
       "      <th>2</th>\n",
       "      <td>1007</td>\n",
       "      <td>Common_Consequences</td>\n",
       "      <td>Integrity;Confidentiality</td>\n",
       "      <td>Other</td>\n",
       "      <td>An attacker may ultimately redirect a user to ...</td>\n",
       "    </tr>\n",
       "    <tr>\n",
       "      <th>3</th>\n",
       "      <td>102</td>\n",
       "      <td>Common_Consequences</td>\n",
       "      <td>Integrity</td>\n",
       "      <td>Unexpected State</td>\n",
       "      <td>NaN</td>\n",
       "    </tr>\n",
       "    <tr>\n",
       "      <th>4</th>\n",
       "      <td>1021</td>\n",
       "      <td>Common_Consequences</td>\n",
       "      <td>Access Control</td>\n",
       "      <td>Gain Privileges or Assume Identity;Bypass Prot...</td>\n",
       "      <td>An attacker can trick a user into performing a...</td>\n",
       "    </tr>\n",
       "  </tbody>\n",
       "</table>\n",
       "</div>"
      ],
      "text/plain": [
       "   cwe_id                field                      scope  \\\n",
       "0    1004  Common_Consequences            Confidentiality   \n",
       "1    1004  Common_Consequences                  Integrity   \n",
       "2    1007  Common_Consequences  Integrity;Confidentiality   \n",
       "3     102  Common_Consequences                  Integrity   \n",
       "4    1021  Common_Consequences             Access Control   \n",
       "\n",
       "                                              impact  \\\n",
       "0                              Read Application Data   \n",
       "1                 Gain Privileges or Assume Identity   \n",
       "2                                              Other   \n",
       "3                                   Unexpected State   \n",
       "4  Gain Privileges or Assume Identity;Bypass Prot...   \n",
       "\n",
       "                                                note  \n",
       "0  If the HttpOnly flag is not set, then sensitiv...  \n",
       "1  If the cookie in question is an authentication...  \n",
       "2  An attacker may ultimately redirect a user to ...  \n",
       "3                                                NaN  \n",
       "4  An attacker can trick a user into performing a...  "
      ]
     },
     "execution_count": 22,
     "metadata": {},
     "output_type": "execute_result"
    }
   ],
   "source": [
    "nesting_field=pd.read_csv('Common_Consequences.csv')\n",
    "nesting_field.head(5)"
   ]
  },
  {
   "cell_type": "markdown",
   "metadata": {
    "collapsed": true
   },
   "source": [
    "#### 2.3 Fields with attribute information\n",
    "\n",
    "Typically, the fields in this format will store the information not only in the element but also as the attribute. For example, from the screenshot below, the attribute of Example_Code under Demonstrative_Examples field stores the information about the nature and the language of the example code. If the information stored in the attribute can be ignored, function <b> nesting_field_parser </b> can also work for the fields in this format. \n",
    "\n",
    "![attribute_field](images/attribute_field.PNG)"
   ]
  }
 ],
 "metadata": {
  "kernelspec": {
   "display_name": "Python 3",
   "language": "python",
   "name": "python3"
  },
  "language_info": {
   "codemirror_mode": {
    "name": "ipython",
    "version": 3
   },
   "file_extension": ".py",
   "mimetype": "text/x-python",
   "name": "python",
   "nbconvert_exporter": "python",
   "pygments_lexer": "ipython3",
   "version": "3.6.3"
  }
 },
 "nbformat": 4,
 "nbformat_minor": 2
}
