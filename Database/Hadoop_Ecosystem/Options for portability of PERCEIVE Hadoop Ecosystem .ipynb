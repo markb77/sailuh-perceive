{
 "cells": [
  {
   "cell_type": "markdown",
   "metadata": {},
   "source": [
    "# Introduction\n",
    "\n",
    "To address options for portability of PERCEIVE Hadoop Ecosystem and apply big data technology for PERCEIVE project, this notebook aims to build an Apache Nifi + Kite sdk + Apache Spark pipeline, and show the potential value and usage of this data pipeline.\n",
    "\n",
    "This article is consisted of four parts. For the first part, we will briefly review the characteristics of PERCEIVE data and introduce HDFS, Kite sdk and Apache NiFi. Next, we will introduce how to setup the environment and relevant components, and build dependency between each component. The third part will show a couple NiFi dataflow examples to demonstrate the fundamental capabilities of Nifi.The fourth part will address the advantages of Nifi and show why the pipeline can potentially contribute to PERCEIVE project in the future."
   ]
  },
  {
   "cell_type": "markdown",
   "metadata": {},
   "source": [
    "# 1. Overview\n",
    "\n",
    "To reach proactively identify upcoming cybersecurity threats, PERCEIVE intends to download and analyze data from Mailing Lists, Blogs, Twitter, Knowledge sources etc. From the perspective of big data defined in 3 Vs: Velocity, Volume and Variety, the sources we are collecting right now vary in these 3 dimensions: \n",
    "- Velocity:\n",
    "    - CVEs have over 90k entries as of today and are released daily.\n",
    "    - CAPEC and CWE are only made available through releases, just like software. In general, new versions are released every three or four months.\n",
    "    - Mailing Lists vary a lot since it is up to who is posting and the activity.\n",
    "- Variety: \n",
    "    - CVE is a very simple xml file, so that it could be easily represented by a CSV table.\n",
    "    - CAPEC and CWE are very rich in structure in their XML. It is very hard to represent as a single CSV if not impossible.\n",
    "    - Mailing list is a HTML file, but we also now have parsers that transform it in various things.\n",
    "\n",
    "Although our data are not same as the data hold by social media company in terms of big data 3V dimensions, the traditional relational database cannot satisfy our mission requirements, such as various data structures, data provenance and semi-streaming data analysis. Therefore, the main purpose of this notebook is to bring Hadoop ecosystem to PERCEIVE, and investigate which big data tools within Hadoop ecosystem can be competent for present and future requirements of PERCEIVE.   "
   ]
  },
  {
   "cell_type": "markdown",
   "metadata": {},
   "source": [
    "Before moving to the next part, here is a brief introduction about HDFS, Kite sdk, Apache NiFi, and how they can contribute to PERCEIVE.\n",
    "\n",
    "#### a. Hadoop Distributed File System (HDFS) \n",
    "\n",
    "HDFS is a core of Apache Hadoop and provides a distributed file system that is designed to run on large clusters of small computer machines in reliable, fault-tolerant manner. HDFS uses a master/slave architecture where master consists of a single NameNode that manages the file system metadata and one or more slave DataNodes that store the actual data.\n",
    "\n",
    "As shown in the following graph, a file in a HDFS namespace is split into several blocks and those blocks are stored in a set of DataNodes. The NameNode determines the mapping of blocks to the DataNodes. The DataNodes takes care of read and write operation with the file system. They also take care of block creation, deletion and replication based on instruction given by NameNode. \n",
    "\n",
    "From a high level, the following characteristics of HDFS are very important for PERCEIVE data:\n",
    "\n",
    "- Various file format:\n",
    "    - HDFS is a file system. In other words, ideally, HDFS supports any file format. All PERCEIVE data can be stored in HDFS without any format conversion.  \n",
    "- Resilient\n",
    "    - Data stored in HDFS are safe. The file system will continue to function even if a node fails. Hadoop accomplishes this by duplicating data across nodes.\n",
    "- High compatibility with other components of Hadoop ecosystem\n",
    "    - HDFS and YARN are the most central components of Apache Hadoop. All other Hadoop ecosystem components are built on HDFS to realize diverse functions, such as data warehouse, ETL, analysis, etc. For PERCEIVE, HDFS is the essential cornerstone to fully leverage the power of Hadoop big data ecosystem.\n",
    "    \n",
    "HDFS provides a shell like any other file system and a list of commands are available to interact with the file system. A few commands will be  shown in the end. More details about HDFS can be found here [1].\n",
    "\n",
    "<img align=\"left\" src=\"img\\hdfs.png\"  alt=\"Drawing\" width=\"410\"/> <img align=\"left\" src=\"img\\hdfs2.png\"  alt=\"Drawing\" width=\"470\"/>"
   ]
  },
  {
   "cell_type": "markdown",
   "metadata": {},
   "source": [
    "#### b.  Kite sdk:\n",
    "\n",
    "The Kite SDK is a high-level data API that makes it easy to put data into Hadoop and to work with data once it's loaded. With Kite, it will be much convenient to maintain datasets and relevant metadata through Avro schema. Currently, Kite can work with file formats, including CSV, JSON, Avro, and Parquet. With Kite sdk, you can define how your data is stored, including Hive, HDFS, the local file system, HBase, Amazon S3, and compress data: Snappy (default), Deflate, Bzip2, and Lzo. For fully leverage Kite sdk, the best way is to use Kite Dataset command line interface (CLI),which provides utility commands to perform essential tasks such as creating a schema and datset, importing data from a CSV file, and viewing the results. Basically, Kite sdk stores the data based on the schema either defined by users or automatically inferred by Kite sdk. \n",
    "\n",
    "To get the first impression about how Kite works, here we will use an example to show the difference of loading data into HDFS without and through Kite CLI:\n",
    "\n",
    "Directly use hdfs command to load csv data to hdfs:\n",
    "```\n",
    "# directly use hdfs command to load csv data to hdfs\n",
    "hdfs dfs -put file://home/yueliu/Dcouments/Full%20Disclosure/2002/Email%20Details/Full_Disclosure_Mailing_List_Aug2002.csv /test\n",
    "\n",
    "# check the result\n",
    "hdfs dfs -ls /test \n",
    "```\n",
    "\n",
    "Use Kite sdk to load csv file to hdfs:\n",
    "```\n",
    "# use kite to infer a schema from Aug2002.csv. Kite sdk has requirements for the header of csv file and the header cannot be empty or with \".\"\n",
    "./kite-dataset csv-schema Aug2002.csv --class emailDetail -o emailDtail.avsc\n",
    "\n",
    "# use kite to create a dataset in hdfs based on the schema we just created\n",
    "./kite-dataset create dataset:hdfs://localhost:9000/test/kite/Aug2002 --schema emailDetail.avsc\n",
    "\n",
    "# use kite to import Aug2002.csv to the dataset we created during the last step\n",
    "./kite-dataset csv-import file://home/yueliu/Dcouments/Full%20Disclosure/2002/Email%20Details/Aug2002.csv dataset:hdfs://localhost:9000/test/kite/Aug2002\n",
    "\n",
    "# check the result\n",
    "hdfs dfs -ls /test/kite  \n",
    "```\n",
    "Compared to data ingestion without Kite, the way how kite sdk works seems more complex, since it has to infer a schema at first. However, as shown in the follow, the schema plays an significant role to record metadata about the file names and datatypes for a dataset. After creating a schema and knowing how to store dataset, Kite sdk will import data into different places based on various types of URI, such as HDFS, Hive, AWS S3, etc. Through read the example in [2], user should realize more about the efficiency of using Kite, especially how Kite makes the process of ingesting, converting and publishing to Hive in Parquet format easily. \n",
    "\n",
    "Example of schema:\n",
    "```\n",
    "{\n",
    "  \"type\":\"record\",\n",
    "  \"name\":\"Movie\",\n",
    "  \"namespace\":\"org.kitesdk.examples.data\",\n",
    "  \"fields\":[\n",
    "    {\"name\":\"id\",\"type\":\"int\"},\n",
    "    {\"name\":\"title\",\"type\":\"string\"},\n",
    "    {\"name\":\"release_date\",\"type\":\"string\"},\n",
    "    {\"name\":\"imdb_url\",\"type\":\"string\"}\n",
    "  ]\n",
    "}\n",
    "```"
   ]
  },
  {
   "cell_type": "markdown",
   "metadata": {},
   "source": [
    "#### c. Apache NiFi:\n",
    "\n",
    "As the amount of data increases, it will become much difficult to evaluate the quality of and trust in data within a complex ETL and analysis framework. In other words, when data grows to terabytes or more, we may lost the whole map, such as difficult distinguishing between the raw data and the processed data, low ability to track how a dataset is processed during ETL and analysis procedures, etc. As systems are added and data flows everywhere, a sea of scripts all over the place within HDFS would be madness. \n",
    "\n",
    "Therefore, data provenance is the main reason we want to introduce Apache NiFi into the overall pipeline. NiFi is an easy to use, powerful, and reliable dataflow tool that enables the automation of data flow between systems. The interface can be found in the following graph.\n",
    "\n",
    "Here the key features of NiFi that are important for PERCEIVE [3]:\n",
    "- Data Provenance\n",
    "    - NiFi automatically records, indexes, and makes available provenance data as objects flow through the system even across fan-in, fan-out, transformations, and more. This information becomes extremely critical in supporting compliance, troubleshooting, optimization, and other scenarios. We will discuss the details in the end of this article.\n",
    "- Visual Command and control\n",
    "    - Dataflows can become quite complex. Being able to visualize those flows and express them visually can help greatly to reduce that complexity and to identify areas that need to be simplified. NiFi enables not only the visual establishment of dataflows but it does so in real-time. Rather than being design and deploy it is much more like molding clay. If you make a change to the dataflow that change immediately takes effect. Changes are fine-grained and isolated to the affected components. You don't need to stop an entire flow or set of flows just to make some specific modification.\n",
    "    \n",
    "- Desgiend for Extension\n",
    "    - NiFi is at its core built for extension and as such it is a platform on which dataflow processes can execute and interact in a predictable and repeatable manner. Specifically, besides the hundreds of easy-to-use processors, NiFi also supports custom processor that can run user-defined Python script.\n",
    "    \n",
    "We will discuss how to use NiFi and the specific advantages of NiFi later through the example.\n",
    "\n",
    "![egauge_portfolio](img/nifi_intro.png)"
   ]
  },
  {
   "cell_type": "markdown",
   "metadata": {},
   "source": [
    "## 2. Setting up the environment"
   ]
  },
  {
   "cell_type": "markdown",
   "metadata": {},
   "source": [
    "### 2.1 Installation\n",
    "This tutorial was tested using the following environment and components:\n",
    "\n",
    "(Since the installation for the above components can easily be found through google, we will simply put the link here)\n",
    "\n",
    "- Ubuntu(64 bit) on VirualBox:\n",
    "    - https://linus.nci.nih.gov/bdge/installUbuntu.html\n",
    "- Apache Nifi 1.3.0:\n",
    "    - For installation: https://www.youtube.com/watch?v=ZTXRm7tqQs4\n",
    "    - User guide: https://nifi.apache.org/docs.html\n",
    "    - Required jdk environment\n",
    "- Apache Hadoop 2.8.1 + Apache Spark 2.2.0 + Scala 2.12.3:\n",
    "    - Need to change the version: https://medium.com/@ivanermilov/setting-up-hadoop-spark-hive-development-environment-on-ubuntu-94f0f8166ef1\n",
    "- Apache Kite sdk:\n",
    "    - http://kitesdk.org/docs/1.1.0/Install-Kite.html\n",
    "    - http://kitesdk.org/docs/1.0.0/Kite-SDK-Guide.html\n",
    "- Apache Hive 2.3.0 (optional):\n",
    "    - https://www.edureka.co/blog/apache-hive-installation-on-ubuntu\n",
    "\n",
    "If following the above tutorials to install these environment and components, please pay attention for the version used in these tutorials. "
   ]
  },
  {
   "cell_type": "markdown",
   "metadata": {},
   "source": [
    "### 2.2 Building the dependency\n",
    "\n"
   ]
  },
  {
   "cell_type": "markdown",
   "metadata": {
    "collapsed": true
   },
   "source": [
    "#### a. Dependency between Nifi and Spark\n",
    "\n",
    "\"Apache Spark has become wildly popular for processing large quantities of data. One of the key features that Spark provides is the ability to process data in either a batch processing mode or a streaming mode with very little change to your code\".[5] \n",
    "\n",
    "However, in many context, operating on the data as soon as it is available can provides great benefits. Therefore, with the dependency between Apache Nifi and Apache Spark, the Spark application can directly perform streaming analysis and process data from Nifi.\n",
    "\n",
    "In [5] article, it introduces how to incorporate the Apache Nifi Receiver with the Spark application in Java. If your Spark application is built on Java and maintained by Maven, it is pretty easy to follow this article and add the receiver to the application's POM (Project Object Model).\n",
    "\n",
    "However, since most analysis jobs in PERCEIVE are using Python language, it is still a problem to built dependency through Python."
   ]
  },
  {
   "cell_type": "markdown",
   "metadata": {
    "collapsed": true
   },
   "source": [
    "#### b. Working with Kite sdk within Apache Nifi\n",
    "\n",
    "Although Kite is designed to work within Kite CLI, Nifi provides the following kite processors that realize part of Kite sdk functions, making most jobs out of Kite CLI: \n",
    "\n",
    "|Type|Version|Tags|Description|\n",
    "|--|-----|-----|-------------|\n",
    "|ConvertAvroSchema |1.3.0|convert,kite,avro|Converts recrods from one Avro schema to another|\n",
    "|ConvertCSVToAvro|1.3.0|csv,kite,avro|Converts CSV files to Avro according to an Avro Schema|\n",
    "|ConvertJSONToAvro|1.3.0|json,kite,avro|Converts JSON files to Avro according to an Avro Schema|\n",
    "|InferAvroSchema|1.3.0|schema, infer,csv,json,kite,avro|Examines the contents of the incoming FlowFile to infer an Avro schema|\n",
    "|StoreInKiteDataset|1.3.0|hive,hdfs,hadoop,kite,hbase|Stores Avro records in a Kite dataset|\n",
    "\n",
    "However, some critical jobs have to be done manually within Kite CLI, such as manually creating an Avro schema, updating a new Avro schema for current files, creating a hive table with parquet format, and creating a partition strategy for datasets."
   ]
  },
  {
   "cell_type": "markdown",
   "metadata": {
    "collapsed": true
   },
   "source": [
    "## 3. Examples of Apache NiFi"
   ]
  },
  {
   "cell_type": "markdown",
   "metadata": {
    "collapsed": true
   },
   "source": [
    "Through a few examples, this section will demonstrate several fundamental capabilities of Nifi, how to work with NiFi and Kite sdk together, and how to configure several core processors of NiFi. These examples will accomplish the following tasks:\n",
    "\n",
    "- Load files from local and web URL\n",
    "- Filter files based on file format\n",
    "- Add custom attributes using NiFi Expression Language\n",
    "- Split files based on month\n",
    "- Store files into different folders within HDFS based on file attribute\n",
    "- Work with Kite sdk processors within NiFi"
   ]
  },
  {
   "cell_type": "markdown",
   "metadata": {},
   "source": [
    "### 3.1 Load files from local to HDFS\n",
    "\n",
    "The NiFi flow is shown below. At a very high-level, this dataflow will generate all files from local system and store into different month folders within HDFS. To realize dynamically configure the output path, we use NiFi Expression Language to add a custom attribute for each file based on file name. We will discuss the details and how to configure for each processor below.\n",
    "\n",
    "![egauge_portfolio](img/nifi_1.png)"
   ]
  },
  {
   "cell_type": "markdown",
   "metadata": {
    "collapsed": true
   },
   "source": [
    "#### Step 1. GetFile processor\n",
    "\n",
    "In my case, this processor reads all files under my input directory. Important configurations for this processor are:\n",
    "\n",
    "|Configuration|Description|Value in the example|\n",
    "|--|-----|-----|\n",
    "|Input Directory|The input directory from which to pull files |/home/yueliu/Documents/Full Disclosure/2002|\n",
    "|Keep source file|Whether to keep the original file after generating|false|\n",
    "|File Filter|which can use regular expression to filter files|[^\\\\.].\\* |"
   ]
  },
  {
   "cell_type": "markdown",
   "metadata": {
    "collapsed": true
   },
   "source": [
    "#### Step 2. RouteOnAttribute processor\n",
    "\n",
    "In NiFi, each FlowFile has a minimum set of attribute: filename, path, uuid, entryDate, lineageStartDate, and fileSize. The detail explanation of these common attribute can be found here [7]. RouteOnAttribute processor will route FlowFile based on the attributes that it contains. In this case, this processor will route FlowFile to the success relationship if the file name is end with \"csv\", while route FlowFile to the unmatched relationship if the condition is not qualified.\n",
    "\n",
    "|Configuration|Description|Value in the example|\n",
    "|--|-----|-----|\n",
    "|Routing Strategy|Specifies how to determine which relationship to use when evaluating the Expression Language |Route To Property name|\n",
    "|fileFormat|The property I added that is used to evaluate file attribute |${filename:endsWith('csv')}|\n",
    "\n",
    "User can add any number of property to generate appropriate FlowFiles."
   ]
  },
  {
   "cell_type": "markdown",
   "metadata": {
    "collapsed": true
   },
   "source": [
    "#### Step 3. UpdateAttribute processor\n",
    "\n",
    "UpdateAttribute processor is used to add or update any number of user-defined attributes to a FlowFile. It is useful for adding statically configured values, as well as deriving attribute values dynamically by using the Expression Language. \n",
    "\n",
    "In this example, we use two UpdateAttribute processors to add a custom attribute to represent the month information for txt and csv FlowFile based on their file names. To better understand the NiFi Expression Language used below, one txt file name is '2002_Aug_1.txt', while one csv file name is 'Full_Disclosure_Mainling_List_Aug2002.csv'. More details about NiFi Expression Language can be found here [8].\n",
    "\n",
    "Add_Month_Attribute_For_CSV processor:\n",
    "\n",
    "|Configuration|Description|Value in the example|\n",
    "|--|-----|-----|\n",
    "|month|we add this attribute for each FlowFile based on NiFi Expression Language|${filename:getDelimitedField(5,'_'):substring(0,3)}|\n",
    "\n",
    "Configuration of the connection between RouteOnAttribute and Add_Month_Attribute_For_CSV: fileFormat relationship should be checked\n",
    "\n",
    "\n",
    "Add_Month_Attribute_For_TXT processor:\n",
    "\n",
    "|Configuration|Description|Value in the example|\n",
    "|--|-----|-----|\n",
    "|month|we add this attribute for each FlowFile based on NiFi Expression Language|${filename:getDelimitedField(2,'_')}|\n",
    "\n",
    "Configuration of the connection between RouteOnAttribute and Add_Month_Attribute_For_TXT: unmatched relationship should be checked\n"
   ]
  },
  {
   "cell_type": "markdown",
   "metadata": {
    "collapsed": true
   },
   "source": [
    "#### Step 4. PutHDFS processor:\n",
    "\n",
    "This processor will write FlowFile to Hadoop Distributed File System (hdfs). Given the custom attribute \"month\" we have created before for each FlowFile, we can use this attribute as a dynamic path for each FlowFile, thus organizing all FlowFiles within month folders in HDFS. \n",
    "\n",
    "|Configuration|Description|Value in the example|\n",
    "|--|-----|-----|\n",
    "|Hadoop Configuration Resources|A file or comma separated list of files which contains the Hadoop file system configuration. We usually put the path of core-site.xml file here|/home/yueliu/Documents/hadoop-2.8.1/etc/hadoop/core-site.xml|\n",
    "|Directory|The parent HDFS directory to which files should be written. The directory will be created if it does not exist.|/sample/${month}|"
   ]
  },
  {
   "cell_type": "markdown",
   "metadata": {},
   "source": [
    "#### Step 5. Check within HDFS\n",
    "\n",
    "Use the following code in terminal to check the result of the above NiFi dataflow:\n",
    "```\n",
    "hadoop fs -ls /sample/\n",
    "```"
   ]
  },
  {
   "cell_type": "markdown",
   "metadata": {},
   "source": [
    "### 3.2 Load xml file from URL to HDFS\n",
    "\n",
    "The NiFi flow is shown below. At a very high-level, this dataflow will a XML file from a URL and store into HDFS. In this example, we add a custom attribute to represent the file format to help you understand how attribute works in NiFi. We will discuss the details and how to configure for each processor below.\n",
    "\n",
    "![egauge_portfolio](img/nifi_2.png)"
   ]
  },
  {
   "cell_type": "markdown",
   "metadata": {},
   "source": [
    "#### Step 1. GetHTTP processor\n",
    "\n",
    "GetHTTP processor can fetches data from an HTTP URL and write the data to the content of a FlowFile. In this example, we pull a XML file from the link below. \n",
    "\n",
    "|Configuration|Description|Value in the example|\n",
    "|--|-----|-----|\n",
    "|URL|The URL to pull from |http://capec.mitre.org/data/xml/capec_v2.11.xml|"
   ]
  },
  {
   "cell_type": "markdown",
   "metadata": {},
   "source": [
    "#### Step 2. UpdateAttribute processor\n",
    "\n",
    "In this example, we use the Expression Language to retrieve format information from FlowFile name and assign to a custom attribute named \"fileFormat\". \n",
    "\n",
    "\n",
    "|Configuration|Description|Value in the example|\n",
    "|--|-----|-----|\n",
    "|fileFormat|we add this attribute for each FlowFile based on NiFi Expression Language|${filename:substringAfterLast('.')}|\n",
    "\n"
   ]
  },
  {
   "cell_type": "markdown",
   "metadata": {},
   "source": [
    "#### Step 3. PutHDFS processor:\n",
    "\n",
    "This processor will write FlowFile to Hadoop Distributed File System (hdfs). Given the custom attribute \"fileFormat\" we have created before for each FlowFile, we can use this attribute as an output path for each FlowFile in HDFS.\n",
    "\n",
    "|Configuration|Description|Value in the example|\n",
    "|--|-----|-----|\n",
    "|Hadoop Configuration Resources|A file or comma separated list of files which contains the Hadoop file system configuration. We usually put the path of core-site.xml file here|/home/yueliu/Documents/hadoop-2.8.1/etc/hadoop/core-site.xml|\n",
    "|Directory|The parent HDFS directory to which files should be written. The directory will be created if it does not exist.|/sample/${fileFormat}|"
   ]
  },
  {
   "cell_type": "markdown",
   "metadata": {},
   "source": [
    "#### Step 4. Check within HDFS\n",
    "\n",
    "\n",
    "Use the following code in terminal to check the result of the above NiFi dataflow:\n",
    "```\n",
    "hadoop fs -ls /sample/\n",
    "```\n",
    "Here is the result of the above two NiFi dataflows:\n",
    "![egauge_portfolio](img/nifi_result.png)"
   ]
  },
  {
   "cell_type": "markdown",
   "metadata": {},
   "source": [
    "### 3.3 Work with Kite sdk processors within NiFi\n",
    "\n",
    "The NiFi dataflow is shown below. At a very high-level, this dataflow will generate csv file from local system, use kite sdk to infer Avro schema from incoming csv files and store these files to HDFS. We will discuss the details and how to configure for each processor below.\n",
    "\n",
    "![egauge_portfolio](img/nifi_3.png)"
   ]
  },
  {
   "cell_type": "markdown",
   "metadata": {},
   "source": [
    "#### Step 1. GetFile processor\n",
    "\n",
    "\n",
    "Through regular expression, this processor reads only csv files under my input directory. Important configurations for this processor are:\n",
    "\n",
    "|Configuration|Description|Value in the example|\n",
    "|--|-----|-----|\n",
    "|Input Directory|The input directory from which to pull files |/home/yueliu/Documents/Full Disclosure/2002|\n",
    "|Keep source file|Whether to keep the original file after generating|false|\n",
    "|File Filter|which can use regular expression to filter files|.+\\\\.csv |"
   ]
  },
  {
   "cell_type": "markdown",
   "metadata": {},
   "source": [
    "#### Step 2. InferAvroSchema processor\n",
    "\n",
    "In this example, this processor will infer an Avro schema for each incoming FlowFile and output the schema as a new custom attribute. Since in our example, there is an incomplete header for each csv file, we will skip the first line and use our defined header.\n",
    "\n",
    "\"If we did have a header in every file, we can easily set Get CSV Header definition from Data to “true” and let NiFi determine the schema (make sure you skip a line on the next processor if you are doing that, otherwise you will have the headers ingested as well). CSV Header Skip Count is important if you have a custom header and you want to ignore whatever headers you previously have in your CSVs\". [10]\n",
    "\n",
    "|Configuration|Description|Value in the example|\n",
    "|--|-----|-----|\n",
    "|Schema Output Destination|Control if Avro schema is written as a new flowfile attribute \"inferred.avro.schema\" or written in the flowfile content. |flowfile-attribute|\n",
    "|Input Content Type|csv, json, or use mim.type value|csv|\n",
    "|CSV Header Definition|The header for incoming csv file|id,year,month,k,title,author,dateStamp |\n",
    "|Get CSV Header Definition From data|Whether to get CSV header directly by reading the first line of incoming csv file|false|\n",
    "|CSV Header Line Skip County|The number of lines to skip|1|"
   ]
  },
  {
   "cell_type": "markdown",
   "metadata": {},
   "source": [
    "#### Step 3. ConvertCSVToAvro\n",
    "\n",
    "Here we capture the flowfile generated by the previous processor using the ${inferred.avro.schema} parameter. Since in our example, there is an incomplete header for each csv file, we will skip the header.\n",
    "\n",
    "|Configuration|Description|Value in the example|\n",
    "|--|-----|-----|\n",
    "|Record schema|Outgoing Avro schema for each recrod created from a CSV row|${inferred.avro.schema}|\n",
    "|Use CSV header line|whether to use the first line as a header|false|\n",
    "|Lines to skip|Number of lines to skip before reading header or data|1|"
   ]
  },
  {
   "cell_type": "markdown",
   "metadata": {},
   "source": [
    "#### Step 4. PutFile processor\n",
    "\n",
    "In this example, we will use this processor to retrieve all FlowFiles that are failed, unmatched or incompatible with InferAvro processor, ConvertCSVToAvro and StoreInKiteDataset processor. \n",
    "\n",
    "|Configuration|Description|Value in the example|\n",
    "|--|-----|-----|\n",
    "|Directory|The directory to which files should be written|/home/yueliu/Documents/failure|\n",
    "\n",
    "For the connections between the PutFailureFile processor and the three above processors, we check all relationships except \"success\", so that NiFi will route all FlowFiles that are qualified with the relationships we check to PutFailureFile processor. "
   ]
  },
  {
   "cell_type": "markdown",
   "metadata": {},
   "source": [
    "#### Step 5. StoreInKiteDataset processor\n",
    "\n",
    "This processor is much like how importing the data using Kite CLI. StoreInKiteDataset processor will store the incoming FlowFile based on how user define the data URI. However, before loading the data into the hive table, we have to use Kite CLI to create a dataset container. More details can be found in this link [12].\n",
    "\n",
    "|Configuration|Description|Value in the example|\n",
    "|--|-----|-----|\n",
    "|Hadoop configuration files|A file or comma separated list of files which contains the Hadoop file system configuration. We usually put the path of core-site.xml file here\t|/home/yueliu/Documents/hadoop-2.8.1/etc/hadoop/core-site.xml|\n",
    "|Target dataset URI|URI that identifies a Kite dataset where and how a data will be stored|dataset:hive://user/hive/warehouse/mailingList|\n"
   ]
  },
  {
   "cell_type": "markdown",
   "metadata": {},
   "source": [
    "## 4. Advantages of Apache NiFi"
   ]
  },
  {
   "cell_type": "markdown",
   "metadata": {},
   "source": [
    "Through answering the following questions, we will address the advantages of NiFi and show why the pipeline can potentially contribute to PERCEIVE project in the future:\n",
    "\n",
    "- **Is the raw data still there?**\n",
    "\n",
    "    It depends on the configuration of processors. For example, user can define the contribution of GetFile processor and set \"false\" for \"Keep source file\" property, thus keeping the raw data within the input directory. \n",
    "\n",
    "\n",
    "- **Is the processed data now sitting in HDFS processed?**\n",
    "   \n",
    "   Yes. Through the above screenshot of HDFS, all processed data are sitting within month subfolders in HDFS. \n",
    "    \n",
    "    \n",
    "- **How to add multiple files?**\n",
    "   \n",
    "   If all files are stored in one directory, it only needs one Get processor to retrieve these files. If files are stored separately or stored in different systems, it might need multiple Get processors to generate files and then process. \n",
    "    \n",
    "    \n",
    "- **If we do have multiple files, are we running in parallel?**\n",
    "\n",
    "    In GetFile processor, there is a property named \"batch size\" that let user to define the maximum number of files to pull in each iteration. For multiple Get processors, they will be running in parallel if user run them at the same time. For example, in the first picture, GetFile processor and GetHTTP processor are running at the same time if we run them together.    \n",
    "    \n",
    "    \n",
    "- **What do I need to do to run NiFi?**\n",
    "    \n",
    "    NiFi only needs Java environment to run.\n",
    "    \n",
    "    \n",
    "- **What is going on after I click to execute the NiFi Pipeline?**\n",
    "\n",
    "    From the high level, FlowFile will be passed through multiple processors, routed to different flows based on the configuration of processors, analyzed/processed, and then sent to local systems or other big data products. \n",
    "    \n",
    "    \n",
    "- **NiFi best selling point is data provenance. What can we gain by using that versus just doing everything with NiFi? What are the pros? What are the cons? Is it worthwhile the overhead of a new project?**\n",
    "\n",
    "    \"NiFi keeps a very granular level of detail about each piece of data that it ingests. As the data is processed through the system and is transformed, routed, split, aggregated, and distributed to other endpoints, this information is all stored within NiFi’s Provenance Repository\"\". Through \"Data Provenance\" from the Global Menu, there is a table to list the provenance events that track each FlowFile. Also,as shown below, NiFi can track how one specific FlowFile is processed through data flow.\n",
    "    \n",
    "    ![egauge_portfolio](img/nifi_dataprovenance_1.png)\n",
    "    \n",
    "    ![egauge_portfolio](img/nifi_dataprovenance_2.png)\n",
    "    \n",
    "    As introduced at the beginning, NiFi is a dataflow tool that is compatible with multiple big data products and cloud systems. Therefore, through using NiFi, it can easily represent the big picture of how data are processed through complex analysis, process, split, aggregation, interaction, and distribution with other products. Therefore, it is much easy to manage and make a change for the overall processing. In other words, the big advantage of NiFi is that the analysis procedures are visualized and thus can be used for multiple times. Therefore, NiFi is more suitable for the projects that have streaming data. If the set of processing procedures within NiFi is used for only one time, it may waste more time on building NiFi processors "
   ]
  },
  {
   "cell_type": "markdown",
   "metadata": {
    "collapsed": true
   },
   "source": [
    "## Reference \n",
    "\n",
    "[1] Hadoop Introduction https://www.tutorialspoint.com/hadoop/hadoop_introduction.htm\n",
    "\n",
    "[2] How-to: Ingest Data Quickly Using the Kite CLI http://blog.cloudera.com/blog/2014/12/how-to-ingest-data-quickly-using-the-kite-cli/\n",
    "\n",
    "[3] High Level Overview of Key NiFi Features https://docs.hortonworks.com/HDPDocuments/HDF1/HDF-1.2/bk_Overview/content/high-level-overview-of-key-nifi-features.html\n",
    "\n",
    "[4] HDF/NiFi to convert row-formatted text files to columnar Parquet and ORC: https://community.hortonworks.com/articles/70257/hdfnifi-to-convert-row-formatted-text-files-to-col.html\n",
    "\n",
    "[5] Stream Processing: NiFi and Spark https://blogs.apache.org/nifi/entry/stream_processing_nifi_and_spark\n",
    "\n",
    "[6]NiFi data provence: https://blogs.apache.org/nifi/entry/basic_dataflow_design\n",
    "\n",
    "[7] Nifi common attribute: https://docs.hortonworks.com/HDPDocuments/HDF3/HDF-3.0.0/bk_getting-started-with-apache-nifi/content/common-attributes.html\n",
    "\n",
    "[8] NiFi Expression Language and function: https://docs.hortonworks.com/HDPDocuments/HDF3/HDF-3.0.0/bk_getting-started-with-apache-nifi/content/ExpressionLanguage.html\n",
    "\n",
    "[9] Converting CSV To Avro with Apache NiFi: https://community.hortonworks.com/articles/28341/converting-csv-to-avro-with-apache-nifi.html\n",
    "\n",
    "[10] Stream data into HIVE like a Boss using NiFi HiveStreaming - Olympics 1896-2008: https://community.hortonworks.com/articles/52856/stream-data-into-hive-like-a-king-using-nifi.html\n",
    "\n",
    "[11] Using NiFi to ingest and transform RSS feeds to HDFS using an external config file: https://community.hortonworks.com/articles/48816/nifi-to-ingest-and-transform-rss-feeds-to-hdfs-usi.html\n",
    "\n",
    "[12] Using the Kite Command Line Interface to Create a Dataset http://kitesdk.org/docs/1.1.0/Using-the-Kite-CLI-to-Create-a-Dataset.html"
   ]
  }
 ],
 "metadata": {
  "kernelspec": {
   "display_name": "Python 3",
   "language": "python",
   "name": "python3"
  },
  "language_info": {
   "codemirror_mode": {
    "name": "ipython",
    "version": 3
   },
   "file_extension": ".py",
   "mimetype": "text/x-python",
   "name": "python",
   "nbconvert_exporter": "python",
   "pygments_lexer": "ipython3",
   "version": "3.6.0"
  }
 },
 "nbformat": 4,
 "nbformat_minor": 2
}
